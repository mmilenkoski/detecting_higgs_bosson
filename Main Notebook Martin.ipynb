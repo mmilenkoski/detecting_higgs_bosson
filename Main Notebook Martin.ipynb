{
 "cells": [
  {
   "cell_type": "code",
   "execution_count": 1,
   "metadata": {},
   "outputs": [],
   "source": [
    "# Useful starting lines\n",
    "%matplotlib inline\n",
    "import numpy as np\n",
    "import matplotlib.pyplot as plt\n",
    "from utils.helpers import *\n",
    "from utils.preprocessing import *\n",
    "from impl.implementations import *\n",
    "import datetime\n",
    "from utils.plots import *\n",
    "from utils.cross_validation import *\n",
    "%load_ext autoreload\n",
    "%autoreload 2"
   ]
  },
  {
   "cell_type": "code",
   "execution_count": 7,
   "metadata": {},
   "outputs": [],
   "source": [
    "y_train, tx_train, ids_train = load_csv_data('data/train.csv')\n",
    "y_test, tx_test, ids_test = load_csv_data('data/test.csv')\n",
    "x_train_sep, y_train_sep, ids_train_sep, indx_train_sep = split_data_by_DER_mass_MMC(tx_train, y_train, ids_train)\n",
    "x_test_sep, y_test_sep, ids_test_sep, indx_test_sep = split_data_by_DER_mass_MMC(tx_test, y_test, ids_test)\n"
   ]
  },
  {
   "cell_type": "code",
   "execution_count": 56,
   "metadata": {
    "scrolled": true
   },
   "outputs": [
    {
     "name": "stdout",
     "output_type": "stream",
     "text": [
      "Itteration: 0, Loss: 7.9268233999474775\n",
      "Itteration: 500, Loss: 0.31043946455700433\n",
      "Itteration: 1000, Loss: 0.2577724852668804\n",
      "Itteration: 1500, Loss: 0.229729079426307\n",
      "Itteration: 2000, Loss: 0.21245335998249548\n",
      "Itteration: 2500, Loss: 0.20205454837139314\n",
      "Itteration: 3000, Loss: 0.19579832115974638\n",
      "Itteration: 3500, Loss: 0.19870578957152563\n",
      "Itteration: 4000, Loss: 0.18686966851760337\n",
      "Itteration: 4500, Loss: 0.18410741063228256\n",
      "0.9467579167149983\n"
     ]
    }
   ],
   "source": [
    "from sklearn.model_selection import train_test_split\n",
    "\n",
    "X_train, X_test, y_train, y_test = train_test_split(x_train_sep[1], y_train_sep[1], test_size=0.33, random_state=42)\n",
    "#clf = LogisticRegression(random_state=0, solver='lbfgs').fit(X_train, y_train)\n",
    "#print (clf.score(X_test, y_test))\n",
    "X_train, X_test = standardize(X_train, X_test)\n",
    "y_train = (y_train + 1) / 2\n",
    "X_train = build_poly(X_train, 3)\n",
    "X_test = build_poly(X_test, 3)\n",
    "initial_w = np.random.randn(X_train.shape[1])\n",
    "lambda_ = 0.000001\n",
    "w, _ = logistic_regression(y=y_train, tx=X_train, initial_w=initial_w, max_iters=5000, gamma=lambda_)\n",
    "predictions = predict_labels(w, X_test, 'logistic')\n",
    "print(np.sum(y_test == predictions)*1.0/len(y_test))"
   ]
  },
  {
   "cell_type": "code",
   "execution_count": null,
   "metadata": {},
   "outputs": [],
   "source": []
  }
 ],
 "metadata": {
  "kernelspec": {
   "display_name": "Python 3",
   "language": "python",
   "name": "python3"
  },
  "language_info": {
   "codemirror_mode": {
    "name": "ipython",
    "version": 3
   },
   "file_extension": ".py",
   "mimetype": "text/x-python",
   "name": "python",
   "nbconvert_exporter": "python",
   "pygments_lexer": "ipython3",
   "version": "3.6.5"
  }
 },
 "nbformat": 4,
 "nbformat_minor": 2
}
