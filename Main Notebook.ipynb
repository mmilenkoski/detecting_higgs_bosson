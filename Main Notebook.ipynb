{
 "cells": [
  {
   "cell_type": "code",
   "execution_count": 28,
   "metadata": {},
   "outputs": [
    {
     "name": "stdout",
     "output_type": "stream",
     "text": [
      "The autoreload extension is already loaded. To reload it, use:\n",
      "  %reload_ext autoreload\n"
     ]
    }
   ],
   "source": [
    "# Useful starting lines\n",
    "%matplotlib inline\n",
    "import numpy as np\n",
    "import matplotlib.pyplot as plt\n",
    "from utils.helpers import *\n",
    "from utils.preprocessing import *\n",
    "from impl.implementations import *\n",
    "import datetime\n",
    "from utils.plots import *\n",
    "from utils.cross_validation import *\n",
    "%load_ext autoreload\n",
    "%autoreload 2"
   ]
  },
  {
   "cell_type": "code",
   "execution_count": 20,
   "metadata": {},
   "outputs": [],
   "source": [
    "y_train, tx_train, ids_train = load_csv_data('data/train.csv')\n",
    "y_train.shape = (-1, 1)\n",
    "y_test, tx_test, ids_test = load_csv_data('data/test.csv')\n",
    "y_test.shape = (-1, 1)"
   ]
  },
  {
   "cell_type": "code",
   "execution_count": 21,
   "metadata": {},
   "outputs": [],
   "source": [
    "tx_train, tx_test = nan_to_mean(tx_train, tx_test)"
   ]
  },
  {
   "cell_type": "code",
   "execution_count": 49,
   "metadata": {},
   "outputs": [
    {
     "data": {
      "text/plain": [
       "array([1.00000000e-09, 7.74263683e-09, 5.99484250e-08, 4.64158883e-07,\n",
       "       3.59381366e-06, 2.78255940e-05, 2.15443469e-04, 1.66810054e-03,\n",
       "       1.29154967e-02, 1.00000000e-01])"
      ]
     },
     "execution_count": 49,
     "metadata": {},
     "output_type": "execute_result"
    }
   ],
   "source": [
    "lambdas = np.logspace(-9, -1, 10)\n",
    "lambdas"
   ]
  },
  {
   "cell_type": "code",
   "execution_count": 52,
   "metadata": {},
   "outputs": [
    {
     "name": "stdout",
     "output_type": "stream",
     "text": [
      "Start\n",
      "NEW LAMBDA: 1e-09\n",
      "Itteration: 0, Loss: 2.3848063626194107\n",
      "Itteration: 300, Loss: 2.3663247178231406\n",
      "Itteration: 600, Loss: 2.348016004527727\n",
      "Itteration: 900, Loss: 2.3298795622374566\n",
      "Itteration: 1200, Loss: 2.3119147036994536\n",
      "Itteration: 1500, Loss: 2.2941207154511023\n",
      "Itteration: 1800, Loss: 2.276496858053673\n",
      "Itteration: 0, Loss: 1.8597904873856241\n",
      "Itteration: 300, Loss: 1.844033325878427\n",
      "Itteration: 600, Loss: 1.82857323332535\n",
      "Itteration: 900, Loss: 1.8134059716981763\n",
      "Itteration: 1200, Loss: 1.7985272193859716\n",
      "Itteration: 1500, Loss: 1.7839325796167116\n",
      "Itteration: 1800, Loss: 1.769617559668506\n",
      "Itteration: 0, Loss: 1.6185213443774997\n",
      "Itteration: 300, Loss: 1.5991075353435937\n",
      "Itteration: 600, Loss: 1.5800341157567186\n",
      "Itteration: 900, Loss: 1.5613016469096828\n",
      "Itteration: 1200, Loss: 1.5429104738130417\n",
      "Itteration: 1500, Loss: 1.5248607176565425\n",
      "Itteration: 1800, Loss: 1.507152266025553\n",
      "Itteration: 0, Loss: 2.284674013827243\n",
      "Itteration: 300, Loss: 2.2584983867676907\n",
      "Itteration: 600, Loss: 2.232768373543916\n",
      "Itteration: 900, Loss: 2.2074775304301983\n",
      "Itteration: 1200, Loss: 2.1826193351517618\n",
      "Itteration: 1500, Loss: 2.15818726575977\n",
      "Itteration: 1800, Loss: 2.1341748453743192\n",
      "Itteration: 0, Loss: 1.8585734785082597\n",
      "Itteration: 300, Loss: 1.8350780309804657\n",
      "Itteration: 600, Loss: 1.8118851187074396\n",
      "Itteration: 900, Loss: 1.7889971630270256\n",
      "Itteration: 1200, Loss: 1.7664164952516686\n",
      "Itteration: 1500, Loss: 1.7441453576257475\n",
      "Itteration: 1800, Loss: 1.7221859052757371\n"
     ]
    },
    {
     "ename": "KeyboardInterrupt",
     "evalue": "",
     "output_type": "error",
     "traceback": [
      "\u001b[0;31m---------------------------------------------------------------------------\u001b[0m",
      "\u001b[0;31mKeyboardInterrupt\u001b[0m                         Traceback (most recent call last)",
      "\u001b[0;32m<ipython-input-52-b90d46c6bee1>\u001b[0m in \u001b[0;36m<module>\u001b[0;34m()\u001b[0m\n\u001b[0;32m----> 1\u001b[0;31m \u001b[0mlambda_\u001b[0m\u001b[0;34m,\u001b[0m \u001b[0macc_tr\u001b[0m\u001b[0;34m,\u001b[0m \u001b[0macc_te\u001b[0m \u001b[0;34m=\u001b[0m \u001b[0mcross_validation\u001b[0m\u001b[0;34m(\u001b[0m\u001b[0mtx_train\u001b[0m\u001b[0;34m,\u001b[0m \u001b[0my_train\u001b[0m\u001b[0;34m,\u001b[0m \u001b[0mlambdas\u001b[0m\u001b[0;34m=\u001b[0m\u001b[0mlambdas\u001b[0m\u001b[0;34m,\u001b[0m \u001b[0mpoly_degree\u001b[0m\u001b[0;34m=\u001b[0m\u001b[0;34m-\u001b[0m\u001b[0;36m1\u001b[0m\u001b[0;34m,\u001b[0m \u001b[0mn_splits\u001b[0m\u001b[0;34m=\u001b[0m\u001b[0;36m10\u001b[0m\u001b[0;34m,\u001b[0m \u001b[0mnorm\u001b[0m\u001b[0;34m=\u001b[0m\u001b[0;34m\"std\"\u001b[0m\u001b[0;34m,\u001b[0m \u001b[0mmethod\u001b[0m\u001b[0;34m=\u001b[0m\u001b[0;34m\"logistic\"\u001b[0m\u001b[0;34m,\u001b[0m \u001b[0mmax_iters\u001b[0m\u001b[0;34m=\u001b[0m\u001b[0;36m2000\u001b[0m\u001b[0;34m)\u001b[0m\u001b[0;34m\u001b[0m\u001b[0m\n\u001b[0m",
      "\u001b[0;32m~/ML EPFL/Project 1/ml_project1/utils/cross_validation.py\u001b[0m in \u001b[0;36mcross_validation\u001b[0;34m(x, y, lambdas, poly_degree, norm, method, n_splits, visualize, seed, max_iters)\u001b[0m\n\u001b[1;32m     44\u001b[0m             \u001b[0;32melif\u001b[0m \u001b[0mmethod\u001b[0m \u001b[0;34m==\u001b[0m \u001b[0;34m\"logistic\"\u001b[0m\u001b[0;34m:\u001b[0m\u001b[0;34m\u001b[0m\u001b[0m\n\u001b[1;32m     45\u001b[0m                 \u001b[0my_train_kfold\u001b[0m\u001b[0;34m.\u001b[0m\u001b[0mshape\u001b[0m \u001b[0;34m=\u001b[0m \u001b[0;34m(\u001b[0m\u001b[0;34m-\u001b[0m\u001b[0;36m1\u001b[0m\u001b[0;34m,\u001b[0m \u001b[0;36m1\u001b[0m\u001b[0;34m)\u001b[0m\u001b[0;34m\u001b[0m\u001b[0m\n\u001b[0;32m---> 46\u001b[0;31m                 \u001b[0mw\u001b[0m\u001b[0;34m,\u001b[0m \u001b[0m_\u001b[0m \u001b[0;34m=\u001b[0m \u001b[0mlogistic_regression\u001b[0m\u001b[0;34m(\u001b[0m\u001b[0my\u001b[0m\u001b[0;34m=\u001b[0m\u001b[0my_train_kfold\u001b[0m\u001b[0;34m,\u001b[0m \u001b[0mtx\u001b[0m\u001b[0;34m=\u001b[0m\u001b[0mx_train_kfold\u001b[0m\u001b[0;34m,\u001b[0m \u001b[0minitial_w\u001b[0m\u001b[0;34m=\u001b[0m\u001b[0minitial_w\u001b[0m\u001b[0;34m,\u001b[0m \u001b[0mmax_iters\u001b[0m\u001b[0;34m=\u001b[0m\u001b[0mmax_iters\u001b[0m\u001b[0;34m,\u001b[0m \u001b[0mgamma\u001b[0m\u001b[0;34m=\u001b[0m\u001b[0mlambda_\u001b[0m\u001b[0;34m)\u001b[0m\u001b[0;34m\u001b[0m\u001b[0m\n\u001b[0m\u001b[1;32m     47\u001b[0m             \u001b[0;32melif\u001b[0m \u001b[0mmethod\u001b[0m \u001b[0;34m==\u001b[0m\u001b[0;34m\"SKL\"\u001b[0m\u001b[0;34m:\u001b[0m\u001b[0;34m\u001b[0m\u001b[0m\n\u001b[1;32m     48\u001b[0m                 \u001b[0;32mfrom\u001b[0m \u001b[0msklearn\u001b[0m\u001b[0;34m.\u001b[0m\u001b[0mlinear_model\u001b[0m \u001b[0;32mimport\u001b[0m \u001b[0mLogisticRegression\u001b[0m \u001b[0;32mas\u001b[0m \u001b[0mSLR\u001b[0m\u001b[0;34m\u001b[0m\u001b[0m\n",
      "\u001b[0;32m~/ML EPFL/Project 1/ml_project1/impl/implementations.py\u001b[0m in \u001b[0;36mlogistic_regression\u001b[0;34m(y, tx, initial_w, max_iters, gamma)\u001b[0m\n\u001b[1;32m    210\u001b[0m     \u001b[0;32mfor\u001b[0m \u001b[0mn_iter\u001b[0m \u001b[0;32min\u001b[0m \u001b[0mrange\u001b[0m\u001b[0;34m(\u001b[0m\u001b[0mmax_iters\u001b[0m\u001b[0;34m)\u001b[0m\u001b[0;34m:\u001b[0m\u001b[0;34m\u001b[0m\u001b[0m\n\u001b[1;32m    211\u001b[0m         \u001b[0;31m# update w and get loss\u001b[0m\u001b[0;34m\u001b[0m\u001b[0;34m\u001b[0m\u001b[0m\n\u001b[0;32m--> 212\u001b[0;31m         \u001b[0mloss\u001b[0m\u001b[0;34m,\u001b[0m \u001b[0mw\u001b[0m \u001b[0;34m=\u001b[0m \u001b[0mlearning_by_gradient_descent\u001b[0m\u001b[0;34m(\u001b[0m\u001b[0my\u001b[0m\u001b[0;34m,\u001b[0m \u001b[0mtx\u001b[0m\u001b[0;34m,\u001b[0m \u001b[0mw\u001b[0m\u001b[0;34m,\u001b[0m \u001b[0mgamma\u001b[0m\u001b[0;34m)\u001b[0m\u001b[0;34m\u001b[0m\u001b[0m\n\u001b[0m\u001b[1;32m    213\u001b[0m         \u001b[0;32mif\u001b[0m \u001b[0mn_iter\u001b[0m \u001b[0;34m%\u001b[0m \u001b[0;36m300\u001b[0m \u001b[0;34m==\u001b[0m \u001b[0;36m0\u001b[0m\u001b[0;34m:\u001b[0m\u001b[0;34m\u001b[0m\u001b[0m\n\u001b[1;32m    214\u001b[0m             \u001b[0mprint\u001b[0m\u001b[0;34m(\u001b[0m\u001b[0;34m\"Itteration: %s, Loss: %s\"\u001b[0m \u001b[0;34m%\u001b[0m \u001b[0;34m(\u001b[0m\u001b[0mn_iter\u001b[0m\u001b[0;34m,\u001b[0m \u001b[0mloss\u001b[0m\u001b[0;34m)\u001b[0m\u001b[0;34m)\u001b[0m\u001b[0;34m\u001b[0m\u001b[0m\n",
      "\u001b[0;32m~/ML EPFL/Project 1/ml_project1/impl/implementations.py\u001b[0m in \u001b[0;36mlearning_by_gradient_descent\u001b[0;34m(y, tx, w, gamma)\u001b[0m\n\u001b[1;32m    369\u001b[0m     \u001b[0mgradient\u001b[0m \u001b[0;34m=\u001b[0m \u001b[0mcalculate_gradient\u001b[0m\u001b[0;34m(\u001b[0m\u001b[0my\u001b[0m\u001b[0;34m,\u001b[0m \u001b[0mtx\u001b[0m\u001b[0;34m,\u001b[0m \u001b[0mw\u001b[0m\u001b[0;34m)\u001b[0m\u001b[0;34m\u001b[0m\u001b[0m\n\u001b[1;32m    370\u001b[0m     \u001b[0mw\u001b[0m \u001b[0;34m=\u001b[0m \u001b[0mw\u001b[0m \u001b[0;34m-\u001b[0m \u001b[0mgamma\u001b[0m\u001b[0;34m*\u001b[0m\u001b[0mgradient\u001b[0m\u001b[0;34m\u001b[0m\u001b[0m\n\u001b[0;32m--> 371\u001b[0;31m     \u001b[0mloss\u001b[0m \u001b[0;34m=\u001b[0m \u001b[0mcalculate_loss\u001b[0m\u001b[0;34m(\u001b[0m\u001b[0my\u001b[0m\u001b[0;34m,\u001b[0m \u001b[0mtx\u001b[0m\u001b[0;34m,\u001b[0m \u001b[0mw\u001b[0m\u001b[0;34m)\u001b[0m\u001b[0;34m\u001b[0m\u001b[0m\n\u001b[0m\u001b[1;32m    372\u001b[0m     \u001b[0;32mreturn\u001b[0m \u001b[0mloss\u001b[0m\u001b[0;34m,\u001b[0m \u001b[0mw\u001b[0m\u001b[0;34m\u001b[0m\u001b[0m\n\u001b[1;32m    373\u001b[0m \u001b[0;34m\u001b[0m\u001b[0m\n",
      "\u001b[0;32m~/ML EPFL/Project 1/ml_project1/impl/implementations.py\u001b[0m in \u001b[0;36mcalculate_loss\u001b[0;34m(y, tx, w)\u001b[0m\n\u001b[1;32m    346\u001b[0m     \u001b[0;34m\"\"\"compute the cost by negative log likelihood.\"\"\"\u001b[0m\u001b[0;34m\u001b[0m\u001b[0m\n\u001b[1;32m    347\u001b[0m     \u001b[0my\u001b[0m\u001b[0;34m.\u001b[0m\u001b[0mshape\u001b[0m \u001b[0;34m=\u001b[0m \u001b[0;34m(\u001b[0m\u001b[0;34m-\u001b[0m\u001b[0;36m1\u001b[0m\u001b[0;34m,\u001b[0m \u001b[0;36m1\u001b[0m\u001b[0;34m)\u001b[0m\u001b[0;34m\u001b[0m\u001b[0m\n\u001b[0;32m--> 348\u001b[0;31m     \u001b[0mpred\u001b[0m \u001b[0;34m=\u001b[0m \u001b[0mtx\u001b[0m\u001b[0;34m.\u001b[0m\u001b[0mdot\u001b[0m\u001b[0;34m(\u001b[0m\u001b[0mw\u001b[0m\u001b[0;34m)\u001b[0m\u001b[0;34m\u001b[0m\u001b[0m\n\u001b[0m\u001b[1;32m    349\u001b[0m     \u001b[0mterm1\u001b[0m \u001b[0;34m=\u001b[0m \u001b[0mnp\u001b[0m\u001b[0;34m.\u001b[0m\u001b[0mlogaddexp\u001b[0m\u001b[0;34m(\u001b[0m\u001b[0;36m0\u001b[0m\u001b[0;34m,\u001b[0m \u001b[0mpred\u001b[0m\u001b[0;34m)\u001b[0m\u001b[0;34m\u001b[0m\u001b[0m\n\u001b[1;32m    350\u001b[0m     \u001b[0mterm2\u001b[0m \u001b[0;34m=\u001b[0m \u001b[0mnp\u001b[0m\u001b[0;34m.\u001b[0m\u001b[0mmultiply\u001b[0m\u001b[0;34m(\u001b[0m\u001b[0my\u001b[0m\u001b[0;34m,\u001b[0m \u001b[0mpred\u001b[0m\u001b[0;34m)\u001b[0m\u001b[0;34m\u001b[0m\u001b[0m\n",
      "\u001b[0;31mKeyboardInterrupt\u001b[0m: "
     ]
    }
   ],
   "source": [
    "lambda_, acc_tr, acc_te = cross_validation(tx_train, y_train, lambdas=lambdas, poly_degree=-1, n_splits=10, norm=\"std\", method=\"logistic\", max_iters=2000)"
   ]
  },
  {
   "cell_type": "code",
   "execution_count": 36,
   "metadata": {},
   "outputs": [
    {
     "name": "stdout",
     "output_type": "stream",
     "text": [
      "1e-05\n",
      "0.725916\n",
      "0.7259199999999999\n"
     ]
    }
   ],
   "source": [
    "print(lambda_)\n",
    "print(acc_tr)\n",
    "print(acc_te)"
   ]
  },
  {
   "cell_type": "code",
   "execution_count": 18,
   "metadata": {},
   "outputs": [],
   "source": [
    "x_train_sep, y_train_sep, ids_train_sep, indx_train_sep = split_data_by_DER_mass_MMC(tx_train, y_train, ids_train)\n",
    "x_test_sep, y_test_sep, ids_test_sep, indx_test_sep = split_data_by_DER_mass_MMC(tx_test, y_test, ids_test)"
   ]
  },
  {
   "cell_type": "code",
   "execution_count": 19,
   "metadata": {},
   "outputs": [],
   "source": [
    "for i in range(8):\n",
    "    x_train_sep[i], x_test_sep[i] = nan_to_mean(x_train_sep[i], x_test_sep[i])"
   ]
  },
  {
   "cell_type": "code",
   "execution_count": null,
   "metadata": {},
   "outputs": [],
   "source": []
  },
  {
   "cell_type": "code",
   "execution_count": 4,
   "metadata": {
    "scrolled": true
   },
   "outputs": [
    {
     "data": {
      "image/png": "[encoded data removed]",
      "text/plain": [
       "<Figure size 432x288 with 1 Axes>"
      ]
     },
     "metadata": {},
     "output_type": "display_data"
    },
    {
     "data": {
      "image/png": "[encoded data removed]",
      "text/plain": [
       "<Figure size 432x288 with 1 Axes>"
      ]
     },
     "metadata": {},
     "output_type": "display_data"
    },
    {
     "data": {
      "image/png": "[encoded data removed]",
      "text/plain": [
       "<Figure size 432x288 with 1 Axes>"
      ]
     },
     "metadata": {},
     "output_type": "display_data"
    },
    {
     "data": {
      "image/png": "[encoded data removed]",
      "text/plain": [
       "<Figure size 432x288 with 1 Axes>"
      ]
     },
     "metadata": {},
     "output_type": "display_data"
    },
    {
     "data": {
      "image/png": "[encoded data removed]",
      "text/plain": [
       "<Figure size 432x288 with 1 Axes>"
      ]
     },
     "metadata": {},
     "output_type": "display_data"
    },
    {
     "data": {
      "image/png": "[encoded data removed]",
      "text/plain": [
       "<Figure size 432x288 with 1 Axes>"
      ]
     },
     "metadata": {},
     "output_type": "display_data"
    },
    {
     "data": {
      "image/png": "[encoded data removed]",
      "text/plain": [
       "<Figure size 432x288 with 1 Axes>"
      ]
     },
     "metadata": {},
     "output_type": "display_data"
    },
    {
     "data": {
      "image/png": "[encoded data removed]",
      "text/plain": [
       "<Figure size 432x288 with 1 Axes>"
      ]
     },
     "metadata": {},
     "output_type": "display_data"
    },
    {
     "name": "stdout",
     "output_type": "stream",
     "text": [
      "[10.0, 0.7847599703514623, 2.9763514416313253e-05, 0.00037926901907322694, 1.8329807108324375e-07, 10.0, 1.8329807108324375e-07, 10.0]\n",
      "0.8514397098708073\n",
      "[0.7774856574964991, 0.9460694231750895, 0.7561334984598774, 0.9159905937683716, 0.7948919818173298, 0.9010169491525423, 0.7851601117558563, 0.9347694633408918]\n",
      "0.8493210670042666\n",
      "[0.7770158558070199, 0.9459035222052069, 0.7552872249214062, 0.9148148148148149, 0.7939266132433571, 0.8979661016949153, 0.7831237911025145, 0.926530612244898]\n"
     ]
    }
   ],
   "source": [
    "number_of_models = 8\n",
    "\n",
    "best_lambdas = []\n",
    "acc_train = []\n",
    "acc_test = []\n",
    "for i in range(number_of_models):\n",
    "    x_tr = x_train_sep[i]\n",
    "    y_tr = y_train_sep[i]\n",
    "    lambdas = np.logspace(-20, 1, 20)\n",
    "    lambda_, acc_tr, acc_te = cross_validation(x_tr, y_tr, lambdas, poly_degree=3, norm=None)\n",
    "    best_lambdas.append(lambda_)\n",
    "    acc_train.append(acc_tr)\n",
    "    acc_test.append(acc_te)\n",
    "    \n",
    "print(best_lambdas)\n",
    "print(np.mean(acc_train))\n",
    "print(acc_train)\n",
    "print(np.mean(acc_test))\n",
    "print(acc_test)"
   ]
  },
  {
   "cell_type": "code",
   "execution_count": 21,
   "metadata": {
    "scrolled": true
   },
   "outputs": [
    {
     "data": {
      "image/png": "[encoded data removed]",
      "text/plain": [
       "<Figure size 432x288 with 1 Axes>"
      ]
     },
     "metadata": {
      "needs_background": "light"
     },
     "output_type": "display_data"
    },
    {
     "data": {
      "image/png": "[encoded data removed]",
      "text/plain": [
       "<Figure size 432x288 with 1 Axes>"
      ]
     },
     "metadata": {
      "needs_background": "light"
     },
     "output_type": "display_data"
    },
    {
     "data": {
      "image/png": "[encoded data removed]",
      "text/plain": [
       "<Figure size 432x288 with 1 Axes>"
      ]
     },
     "metadata": {
      "needs_background": "light"
     },
     "output_type": "display_data"
    },
    {
     "data": {
      "image/png": "[encoded data removed]",
      "text/plain": [
       "<Figure size 432x288 with 1 Axes>"
      ]
     },
     "metadata": {
      "needs_background": "light"
     },
     "output_type": "display_data"
    },
    {
     "data": {
      "image/png": "[encoded data removed]",
      "text/plain": [
       "<Figure size 432x288 with 1 Axes>"
      ]
     },
     "metadata": {
      "needs_background": "light"
     },
     "output_type": "display_data"
    },
    {
     "data": {
      "image/png": "[encoded data removed]",
      "text/plain": [
       "<Figure size 432x288 with 1 Axes>"
      ]
     },
     "metadata": {
      "needs_background": "light"
     },
     "output_type": "display_data"
    },
    {
     "data": {
      "image/png": "[encoded data removed]",
      "text/plain": [
       "<Figure size 432x288 with 1 Axes>"
      ]
     },
     "metadata": {
      "needs_background": "light"
     },
     "output_type": "display_data"
    },
    {
     "data": {
      "image/png": "[encoded data removed]",
      "text/plain": [
       "<Figure size 432x288 with 1 Axes>"
      ]
     },
     "metadata": {
      "needs_background": "light"
     },
     "output_type": "display_data"
    },
    {
     "name": "stdout",
     "output_type": "stream",
     "text": [
      "[0.7847599703514623, 2.9763514416313253e-05, 1.438449888287666e-08, 2.335721469090131e-06, 1.8329807108324375e-07, 0.00037926901907322694, 8.858667904100832e-11, 0.004832930238571772]\n",
      "0.837741249691367\n",
      "[0.67566065862583, 0.9446826612217116, 0.75641453113588, 0.9155496766607877, 0.7943085430432542, 0.8998116760828625, 0.7851923490221362, 0.9303099017384732]\n",
      "0.8368455174632525\n",
      "[0.67566065862583, 0.9446018376722819, 0.7556301800514433, 0.9149470899470898, 0.7934837621256854, 0.8972881355932204, 0.783220502901354, 0.9299319727891158]\n"
     ]
    }
   ],
   "source": [
    "number_of_models = 8\n",
    "\n",
    "best_lambdas = []\n",
    "acc_train = []\n",
    "acc_test = []\n",
    "for i in range(number_of_models):\n",
    "    x_tr = x_train_sep[i]\n",
    "    y_tr = y_train_sep[i]\n",
    "    lambdas = np.logspace(-20, 1, 20)\n",
    "    lambda_, acc_tr, acc_te = cross_validation(x_tr, y_tr, lambdas, poly_degree=3, norm=\"min_max\")\n",
    "    best_lambdas.append(lambda_)\n",
    "    acc_train.append(acc_tr)\n",
    "    acc_test.append(acc_te)\n",
    "    \n",
    "print(best_lambdas)\n",
    "print(np.mean(acc_train))\n",
    "print(acc_train)\n",
    "print(np.mean(acc_test))\n",
    "print(acc_test)"
   ]
  },
  {
   "cell_type": "code",
   "execution_count": 22,
   "metadata": {
    "scrolled": false
   },
   "outputs": [
    {
     "data": {
      "image/png": "[encoded data removed]",
      "text/plain": [
       "<Figure size 432x288 with 1 Axes>"
      ]
     },
     "metadata": {
      "needs_background": "light"
     },
     "output_type": "display_data"
    },
    {
     "data": {
      "image/png": "[encoded data removed]",
      "text/plain": [
       "<Figure size 432x288 with 1 Axes>"
      ]
     },
     "metadata": {
      "needs_background": "light"
     },
     "output_type": "display_data"
    },
    {
     "data": {
      "image/png": "[encoded data removed]",
      "text/plain": [
       "<Figure size 432x288 with 1 Axes>"
      ]
     },
     "metadata": {
      "needs_background": "light"
     },
     "output_type": "display_data"
    },
    {
     "data": {
      "image/png": "[encoded data removed]",
      "text/plain": [
       "<Figure size 432x288 with 1 Axes>"
      ]
     },
     "metadata": {
      "needs_background": "light"
     },
     "output_type": "display_data"
    },
    {
     "data": {
      "image/png": "[encoded data removed]",
      "text/plain": [
       "<Figure size 432x288 with 1 Axes>"
      ]
     },
     "metadata": {
      "needs_background": "light"
     },
     "output_type": "display_data"
    },
    {
     "data": {
      "image/png": "[encoded data removed]",
      "text/plain": [
       "<Figure size 432x288 with 1 Axes>"
      ]
     },
     "metadata": {
      "needs_background": "light"
     },
     "output_type": "display_data"
    },
    {
     "data": {
      "image/png": "[encoded data removed]",
      "text/plain": [
       "<Figure size 432x288 with 1 Axes>"
      ]
     },
     "metadata": {
      "needs_background": "light"
     },
     "output_type": "display_data"
    },
    {
     "data": {
      "image/png": "[encoded data removed]",
      "text/plain": [
       "<Figure size 432x288 with 1 Axes>"
      ]
     },
     "metadata": {
      "needs_background": "light"
     },
     "output_type": "display_data"
    },
    {
     "name": "stdout",
     "output_type": "stream",
     "text": [
      "[0.061584821106602794, 0.00037926901907322694, 0.061584821106602794, 0.004832930238571772, 0.061584821106602794, 0.7847599703514623, 0.061584821106602794, 0.00037926901907322694]\n",
      "0.8448303981509249\n",
      "[0.7846094773456205, 0.9464650331801939, 0.7337413864278682, 0.9152851263962376, 0.7751792492619148, 0.9031261770244822, 0.763502041693531, 0.936734693877551]\n",
      "0.7600431400360371\n",
      "[0.6678682748339884, 0.9399310872894333, 0.6587453558159474, 0.9056878306878307, 0.6198228595529314, 0.7871186440677966, 0.6589941972920697, 0.8421768707482993]\n"
     ]
    }
   ],
   "source": [
    "number_of_models = 8\n",
    "\n",
    "best_lambdas = []\n",
    "acc_train = []\n",
    "acc_test = []\n",
    "for i in range(number_of_models):\n",
    "    x_tr = x_train_sep[i]\n",
    "    y_tr = y_train_sep[i]\n",
    "    lambdas = np.logspace(-20, 1, 20)\n",
    "    lambda_, acc_tr, acc_te = cross_validation(x_tr, y_tr, lambdas, poly_degree=3, norm=\"std\")\n",
    "    best_lambdas.append(lambda_)\n",
    "    acc_train.append(acc_tr)\n",
    "    acc_test.append(acc_te)\n",
    "    \n",
    "print(best_lambdas)\n",
    "print(np.mean(acc_train))\n",
    "print(acc_train)\n",
    "print(np.mean(acc_test))\n",
    "print(acc_test)"
   ]
  },
  {
   "cell_type": "code",
   "execution_count": 23,
   "metadata": {},
   "outputs": [],
   "source": [
    "best_lambdas = [10.0, 0.7847599703514623, 2.9763514416313253e-05, 1.128837891684693e-09, 2.9763514416313253e-05, 0.00037926901907322694, 1.8329807108324375e-07, 10.0]"
   ]
  },
  {
   "cell_type": "code",
   "execution_count": 24,
   "metadata": {},
   "outputs": [
    {
     "name": "stdout",
     "output_type": "stream",
     "text": [
      "[0.7632606044179429, 0.9401676683382459, 0.6732445485982109, 0.9100766992859032, 0.7181563244565332, 0.893970189701897, 0.7114613042007057, 0.9309410968178741]\n",
      "0.8176598044771641\n"
     ]
    }
   ],
   "source": [
    "pred = train_and_get_predictions(x_train_sep, y_train_sep, x_test_sep, y_test_sep, indx_test_sep, best_lambdas)"
   ]
  },
  {
   "cell_type": "code",
   "execution_count": 25,
   "metadata": {},
   "outputs": [],
   "source": [
    "create_csv_submission(ids_test, pred, \"output6.csv\")"
   ]
  },
  {
   "cell_type": "code",
   "execution_count": null,
   "metadata": {},
   "outputs": [],
   "source": []
  },
  {
   "cell_type": "code",
   "execution_count": 86,
   "metadata": {
    "scrolled": true
   },
   "outputs": [
    {
     "name": "stdout",
     "output_type": "stream",
     "text": [
      "NEW LAMBDA: 1\n"
     ]
    },
    {
     "name": "stderr",
     "output_type": "stream",
     "text": [
      "/home/blagojce/.conda/envs/ml_epfl/lib/python3.6/site-packages/sklearn/linear_model/logistic.py:432: FutureWarning: Default solver will be changed to 'lbfgs' in 0.22. Specify a solver to silence this warning.\n",
      "  FutureWarning)\n",
      "/home/blagojce/.conda/envs/ml_epfl/lib/python3.6/site-packages/sklearn/svm/base.py:922: ConvergenceWarning: Liblinear failed to converge, increase the number of iterations.\n",
      "  \"the number of iterations.\", ConvergenceWarning)\n"
     ]
    },
    {
     "name": "stdout",
     "output_type": "stream",
     "text": [
      "\n"
     ]
    },
    {
     "name": "stderr",
     "output_type": "stream",
     "text": [
      "/home/blagojce/.conda/envs/ml_epfl/lib/python3.6/site-packages/sklearn/linear_model/logistic.py:432: FutureWarning: Default solver will be changed to 'lbfgs' in 0.22. Specify a solver to silence this warning.\n",
      "  FutureWarning)\n"
     ]
    },
    {
     "name": "stdout",
     "output_type": "stream",
     "text": [
      "\n"
     ]
    },
    {
     "name": "stderr",
     "output_type": "stream",
     "text": [
      "/home/blagojce/.conda/envs/ml_epfl/lib/python3.6/site-packages/sklearn/linear_model/logistic.py:432: FutureWarning: Default solver will be changed to 'lbfgs' in 0.22. Specify a solver to silence this warning.\n",
      "  FutureWarning)\n",
      "/home/blagojce/.conda/envs/ml_epfl/lib/python3.6/site-packages/sklearn/svm/base.py:922: ConvergenceWarning: Liblinear failed to converge, increase the number of iterations.\n",
      "  \"the number of iterations.\", ConvergenceWarning)\n"
     ]
    },
    {
     "name": "stdout",
     "output_type": "stream",
     "text": [
      "\n"
     ]
    },
    {
     "name": "stderr",
     "output_type": "stream",
     "text": [
      "/home/blagojce/.conda/envs/ml_epfl/lib/python3.6/site-packages/sklearn/linear_model/logistic.py:432: FutureWarning: Default solver will be changed to 'lbfgs' in 0.22. Specify a solver to silence this warning.\n",
      "  FutureWarning)\n"
     ]
    },
    {
     "name": "stdout",
     "output_type": "stream",
     "text": [
      "\n"
     ]
    },
    {
     "name": "stderr",
     "output_type": "stream",
     "text": [
      "/home/blagojce/.conda/envs/ml_epfl/lib/python3.6/site-packages/sklearn/linear_model/logistic.py:432: FutureWarning: Default solver will be changed to 'lbfgs' in 0.22. Specify a solver to silence this warning.\n",
      "  FutureWarning)\n",
      "/home/blagojce/.conda/envs/ml_epfl/lib/python3.6/site-packages/sklearn/svm/base.py:922: ConvergenceWarning: Liblinear failed to converge, increase the number of iterations.\n",
      "  \"the number of iterations.\", ConvergenceWarning)\n"
     ]
    },
    {
     "name": "stdout",
     "output_type": "stream",
     "text": [
      "\n"
     ]
    },
    {
     "name": "stderr",
     "output_type": "stream",
     "text": [
      "/home/blagojce/.conda/envs/ml_epfl/lib/python3.6/site-packages/sklearn/linear_model/logistic.py:432: FutureWarning: Default solver will be changed to 'lbfgs' in 0.22. Specify a solver to silence this warning.\n",
      "  FutureWarning)\n",
      "/home/blagojce/.conda/envs/ml_epfl/lib/python3.6/site-packages/sklearn/svm/base.py:922: ConvergenceWarning: Liblinear failed to converge, increase the number of iterations.\n",
      "  \"the number of iterations.\", ConvergenceWarning)\n"
     ]
    },
    {
     "name": "stdout",
     "output_type": "stream",
     "text": [
      "\n"
     ]
    },
    {
     "name": "stderr",
     "output_type": "stream",
     "text": [
      "/home/blagojce/.conda/envs/ml_epfl/lib/python3.6/site-packages/sklearn/linear_model/logistic.py:432: FutureWarning: Default solver will be changed to 'lbfgs' in 0.22. Specify a solver to silence this warning.\n",
      "  FutureWarning)\n",
      "/home/blagojce/.conda/envs/ml_epfl/lib/python3.6/site-packages/sklearn/svm/base.py:922: ConvergenceWarning: Liblinear failed to converge, increase the number of iterations.\n",
      "  \"the number of iterations.\", ConvergenceWarning)\n"
     ]
    },
    {
     "name": "stdout",
     "output_type": "stream",
     "text": [
      "\n"
     ]
    },
    {
     "name": "stderr",
     "output_type": "stream",
     "text": [
      "/home/blagojce/.conda/envs/ml_epfl/lib/python3.6/site-packages/sklearn/linear_model/logistic.py:432: FutureWarning: Default solver will be changed to 'lbfgs' in 0.22. Specify a solver to silence this warning.\n",
      "  FutureWarning)\n",
      "/home/blagojce/.conda/envs/ml_epfl/lib/python3.6/site-packages/sklearn/svm/base.py:922: ConvergenceWarning: Liblinear failed to converge, increase the number of iterations.\n",
      "  \"the number of iterations.\", ConvergenceWarning)\n"
     ]
    },
    {
     "name": "stdout",
     "output_type": "stream",
     "text": [
      "\n"
     ]
    },
    {
     "name": "stderr",
     "output_type": "stream",
     "text": [
      "/home/blagojce/.conda/envs/ml_epfl/lib/python3.6/site-packages/sklearn/linear_model/logistic.py:432: FutureWarning: Default solver will be changed to 'lbfgs' in 0.22. Specify a solver to silence this warning.\n",
      "  FutureWarning)\n",
      "/home/blagojce/.conda/envs/ml_epfl/lib/python3.6/site-packages/sklearn/svm/base.py:922: ConvergenceWarning: Liblinear failed to converge, increase the number of iterations.\n",
      "  \"the number of iterations.\", ConvergenceWarning)\n"
     ]
    },
    {
     "name": "stdout",
     "output_type": "stream",
     "text": [
      "\n"
     ]
    },
    {
     "name": "stderr",
     "output_type": "stream",
     "text": [
      "/home/blagojce/.conda/envs/ml_epfl/lib/python3.6/site-packages/sklearn/linear_model/logistic.py:432: FutureWarning: Default solver will be changed to 'lbfgs' in 0.22. Specify a solver to silence this warning.\n",
      "  FutureWarning)\n",
      "/home/blagojce/.conda/envs/ml_epfl/lib/python3.6/site-packages/sklearn/svm/base.py:922: ConvergenceWarning: Liblinear failed to converge, increase the number of iterations.\n",
      "  \"the number of iterations.\", ConvergenceWarning)\n",
      "/home/blagojce/.conda/envs/ml_epfl/lib/python3.6/site-packages/matplotlib/axes/_base.py:3012: UserWarning: Attempting to set identical left==right results\n",
      "in singular transformations; automatically expanding.\n",
      "left=1.0, right=1.0\n",
      "  self.set_xlim(upper, lower, auto=None)\n"
     ]
    },
    {
     "name": "stdout",
     "output_type": "stream",
     "text": [
      "\n"
     ]
    },
    {
     "data": {
      "image/png": "[encoded data removed]",
      "text/plain": [
       "<Figure size 432x288 with 1 Axes>"
      ]
     },
     "metadata": {
      "needs_background": "light"
     },
     "output_type": "display_data"
    },
    {
     "name": "stdout",
     "output_type": "stream",
     "text": [
      "NEW LAMBDA: 1\n"
     ]
    },
    {
     "name": "stderr",
     "output_type": "stream",
     "text": [
      "/home/blagojce/.conda/envs/ml_epfl/lib/python3.6/site-packages/sklearn/linear_model/logistic.py:432: FutureWarning: Default solver will be changed to 'lbfgs' in 0.22. Specify a solver to silence this warning.\n",
      "  FutureWarning)\n",
      "/home/blagojce/.conda/envs/ml_epfl/lib/python3.6/site-packages/sklearn/svm/base.py:922: ConvergenceWarning: Liblinear failed to converge, increase the number of iterations.\n",
      "  \"the number of iterations.\", ConvergenceWarning)\n",
      "/home/blagojce/.conda/envs/ml_epfl/lib/python3.6/site-packages/sklearn/linear_model/logistic.py:432: FutureWarning: Default solver will be changed to 'lbfgs' in 0.22. Specify a solver to silence this warning.\n",
      "  FutureWarning)\n"
     ]
    },
    {
     "name": "stdout",
     "output_type": "stream",
     "text": [
      "\n"
     ]
    },
    {
     "name": "stderr",
     "output_type": "stream",
     "text": [
      "/home/blagojce/.conda/envs/ml_epfl/lib/python3.6/site-packages/sklearn/svm/base.py:922: ConvergenceWarning: Liblinear failed to converge, increase the number of iterations.\n",
      "  \"the number of iterations.\", ConvergenceWarning)\n"
     ]
    },
    {
     "name": "stdout",
     "output_type": "stream",
     "text": [
      "\n"
     ]
    },
    {
     "name": "stderr",
     "output_type": "stream",
     "text": [
      "/home/blagojce/.conda/envs/ml_epfl/lib/python3.6/site-packages/sklearn/linear_model/logistic.py:432: FutureWarning: Default solver will be changed to 'lbfgs' in 0.22. Specify a solver to silence this warning.\n",
      "  FutureWarning)\n",
      "/home/blagojce/.conda/envs/ml_epfl/lib/python3.6/site-packages/sklearn/svm/base.py:922: ConvergenceWarning: Liblinear failed to converge, increase the number of iterations.\n",
      "  \"the number of iterations.\", ConvergenceWarning)\n"
     ]
    },
    {
     "name": "stdout",
     "output_type": "stream",
     "text": [
      "\n"
     ]
    },
    {
     "name": "stderr",
     "output_type": "stream",
     "text": [
      "/home/blagojce/.conda/envs/ml_epfl/lib/python3.6/site-packages/sklearn/linear_model/logistic.py:432: FutureWarning: Default solver will be changed to 'lbfgs' in 0.22. Specify a solver to silence this warning.\n",
      "  FutureWarning)\n",
      "/home/blagojce/.conda/envs/ml_epfl/lib/python3.6/site-packages/sklearn/svm/base.py:922: ConvergenceWarning: Liblinear failed to converge, increase the number of iterations.\n",
      "  \"the number of iterations.\", ConvergenceWarning)\n"
     ]
    },
    {
     "name": "stdout",
     "output_type": "stream",
     "text": [
      "\n"
     ]
    },
    {
     "name": "stderr",
     "output_type": "stream",
     "text": [
      "/home/blagojce/.conda/envs/ml_epfl/lib/python3.6/site-packages/sklearn/linear_model/logistic.py:432: FutureWarning: Default solver will be changed to 'lbfgs' in 0.22. Specify a solver to silence this warning.\n",
      "  FutureWarning)\n",
      "/home/blagojce/.conda/envs/ml_epfl/lib/python3.6/site-packages/sklearn/svm/base.py:922: ConvergenceWarning: Liblinear failed to converge, increase the number of iterations.\n",
      "  \"the number of iterations.\", ConvergenceWarning)\n",
      "/home/blagojce/.conda/envs/ml_epfl/lib/python3.6/site-packages/sklearn/linear_model/logistic.py:432: FutureWarning: Default solver will be changed to 'lbfgs' in 0.22. Specify a solver to silence this warning.\n",
      "  FutureWarning)\n"
     ]
    },
    {
     "name": "stdout",
     "output_type": "stream",
     "text": [
      "\n"
     ]
    },
    {
     "name": "stderr",
     "output_type": "stream",
     "text": [
      "/home/blagojce/.conda/envs/ml_epfl/lib/python3.6/site-packages/sklearn/svm/base.py:922: ConvergenceWarning: Liblinear failed to converge, increase the number of iterations.\n",
      "  \"the number of iterations.\", ConvergenceWarning)\n",
      "/home/blagojce/.conda/envs/ml_epfl/lib/python3.6/site-packages/sklearn/linear_model/logistic.py:432: FutureWarning: Default solver will be changed to 'lbfgs' in 0.22. Specify a solver to silence this warning.\n",
      "  FutureWarning)\n"
     ]
    },
    {
     "name": "stdout",
     "output_type": "stream",
     "text": [
      "\n"
     ]
    },
    {
     "name": "stderr",
     "output_type": "stream",
     "text": [
      "/home/blagojce/.conda/envs/ml_epfl/lib/python3.6/site-packages/sklearn/svm/base.py:922: ConvergenceWarning: Liblinear failed to converge, increase the number of iterations.\n",
      "  \"the number of iterations.\", ConvergenceWarning)\n"
     ]
    },
    {
     "name": "stdout",
     "output_type": "stream",
     "text": [
      "\n"
     ]
    },
    {
     "name": "stderr",
     "output_type": "stream",
     "text": [
      "/home/blagojce/.conda/envs/ml_epfl/lib/python3.6/site-packages/sklearn/linear_model/logistic.py:432: FutureWarning: Default solver will be changed to 'lbfgs' in 0.22. Specify a solver to silence this warning.\n",
      "  FutureWarning)\n",
      "/home/blagojce/.conda/envs/ml_epfl/lib/python3.6/site-packages/sklearn/svm/base.py:922: ConvergenceWarning: Liblinear failed to converge, increase the number of iterations.\n",
      "  \"the number of iterations.\", ConvergenceWarning)\n"
     ]
    },
    {
     "name": "stdout",
     "output_type": "stream",
     "text": [
      "\n"
     ]
    },
    {
     "name": "stderr",
     "output_type": "stream",
     "text": [
      "/home/blagojce/.conda/envs/ml_epfl/lib/python3.6/site-packages/sklearn/linear_model/logistic.py:432: FutureWarning: Default solver will be changed to 'lbfgs' in 0.22. Specify a solver to silence this warning.\n",
      "  FutureWarning)\n",
      "/home/blagojce/.conda/envs/ml_epfl/lib/python3.6/site-packages/sklearn/svm/base.py:922: ConvergenceWarning: Liblinear failed to converge, increase the number of iterations.\n",
      "  \"the number of iterations.\", ConvergenceWarning)\n"
     ]
    },
    {
     "name": "stdout",
     "output_type": "stream",
     "text": [
      "\n"
     ]
    },
    {
     "name": "stderr",
     "output_type": "stream",
     "text": [
      "/home/blagojce/.conda/envs/ml_epfl/lib/python3.6/site-packages/sklearn/linear_model/logistic.py:432: FutureWarning: Default solver will be changed to 'lbfgs' in 0.22. Specify a solver to silence this warning.\n",
      "  FutureWarning)\n",
      "/home/blagojce/.conda/envs/ml_epfl/lib/python3.6/site-packages/sklearn/svm/base.py:922: ConvergenceWarning: Liblinear failed to converge, increase the number of iterations.\n",
      "  \"the number of iterations.\", ConvergenceWarning)\n",
      "/home/blagojce/.conda/envs/ml_epfl/lib/python3.6/site-packages/matplotlib/axes/_base.py:3012: UserWarning: Attempting to set identical left==right results\n",
      "in singular transformations; automatically expanding.\n",
      "left=1.0, right=1.0\n",
      "  self.set_xlim(upper, lower, auto=None)\n"
     ]
    },
    {
     "name": "stdout",
     "output_type": "stream",
     "text": [
      "\n"
     ]
    },
    {
     "data": {
      "image/png": "[encoded data removed]",
      "text/plain": [
       "<Figure size 432x288 with 1 Axes>"
      ]
     },
     "metadata": {
      "needs_background": "light"
     },
     "output_type": "display_data"
    },
    {
     "name": "stdout",
     "output_type": "stream",
     "text": [
      "NEW LAMBDA: 1\n"
     ]
    },
    {
     "name": "stderr",
     "output_type": "stream",
     "text": [
      "/home/blagojce/.conda/envs/ml_epfl/lib/python3.6/site-packages/sklearn/linear_model/logistic.py:432: FutureWarning: Default solver will be changed to 'lbfgs' in 0.22. Specify a solver to silence this warning.\n",
      "  FutureWarning)\n"
     ]
    },
    {
     "name": "stdout",
     "output_type": "stream",
     "text": [
      "\n"
     ]
    },
    {
     "name": "stderr",
     "output_type": "stream",
     "text": [
      "/home/blagojce/.conda/envs/ml_epfl/lib/python3.6/site-packages/sklearn/linear_model/logistic.py:432: FutureWarning: Default solver will be changed to 'lbfgs' in 0.22. Specify a solver to silence this warning.\n",
      "  FutureWarning)\n"
     ]
    },
    {
     "name": "stdout",
     "output_type": "stream",
     "text": [
      "\n"
     ]
    },
    {
     "name": "stderr",
     "output_type": "stream",
     "text": [
      "/home/blagojce/.conda/envs/ml_epfl/lib/python3.6/site-packages/sklearn/linear_model/logistic.py:432: FutureWarning: Default solver will be changed to 'lbfgs' in 0.22. Specify a solver to silence this warning.\n",
      "  FutureWarning)\n"
     ]
    },
    {
     "name": "stdout",
     "output_type": "stream",
     "text": [
      "\n"
     ]
    },
    {
     "name": "stderr",
     "output_type": "stream",
     "text": [
      "/home/blagojce/.conda/envs/ml_epfl/lib/python3.6/site-packages/sklearn/linear_model/logistic.py:432: FutureWarning: Default solver will be changed to 'lbfgs' in 0.22. Specify a solver to silence this warning.\n",
      "  FutureWarning)\n"
     ]
    },
    {
     "name": "stdout",
     "output_type": "stream",
     "text": [
      "\n"
     ]
    },
    {
     "name": "stderr",
     "output_type": "stream",
     "text": [
      "/home/blagojce/.conda/envs/ml_epfl/lib/python3.6/site-packages/sklearn/linear_model/logistic.py:432: FutureWarning: Default solver will be changed to 'lbfgs' in 0.22. Specify a solver to silence this warning.\n",
      "  FutureWarning)\n"
     ]
    },
    {
     "name": "stdout",
     "output_type": "stream",
     "text": [
      "\n"
     ]
    },
    {
     "name": "stderr",
     "output_type": "stream",
     "text": [
      "/home/blagojce/.conda/envs/ml_epfl/lib/python3.6/site-packages/sklearn/linear_model/logistic.py:432: FutureWarning: Default solver will be changed to 'lbfgs' in 0.22. Specify a solver to silence this warning.\n",
      "  FutureWarning)\n",
      "/home/blagojce/.conda/envs/ml_epfl/lib/python3.6/site-packages/sklearn/svm/base.py:922: ConvergenceWarning: Liblinear failed to converge, increase the number of iterations.\n",
      "  \"the number of iterations.\", ConvergenceWarning)\n"
     ]
    },
    {
     "name": "stdout",
     "output_type": "stream",
     "text": [
      "\n"
     ]
    },
    {
     "name": "stderr",
     "output_type": "stream",
     "text": [
      "/home/blagojce/.conda/envs/ml_epfl/lib/python3.6/site-packages/sklearn/linear_model/logistic.py:432: FutureWarning: Default solver will be changed to 'lbfgs' in 0.22. Specify a solver to silence this warning.\n",
      "  FutureWarning)\n"
     ]
    },
    {
     "name": "stdout",
     "output_type": "stream",
     "text": [
      "\n"
     ]
    },
    {
     "name": "stderr",
     "output_type": "stream",
     "text": [
      "/home/blagojce/.conda/envs/ml_epfl/lib/python3.6/site-packages/sklearn/linear_model/logistic.py:432: FutureWarning: Default solver will be changed to 'lbfgs' in 0.22. Specify a solver to silence this warning.\n",
      "  FutureWarning)\n",
      "/home/blagojce/.conda/envs/ml_epfl/lib/python3.6/site-packages/sklearn/svm/base.py:922: ConvergenceWarning: Liblinear failed to converge, increase the number of iterations.\n",
      "  \"the number of iterations.\", ConvergenceWarning)\n"
     ]
    },
    {
     "name": "stdout",
     "output_type": "stream",
     "text": [
      "\n"
     ]
    },
    {
     "name": "stderr",
     "output_type": "stream",
     "text": [
      "/home/blagojce/.conda/envs/ml_epfl/lib/python3.6/site-packages/sklearn/linear_model/logistic.py:432: FutureWarning: Default solver will be changed to 'lbfgs' in 0.22. Specify a solver to silence this warning.\n",
      "  FutureWarning)\n",
      "/home/blagojce/.conda/envs/ml_epfl/lib/python3.6/site-packages/sklearn/svm/base.py:922: ConvergenceWarning: Liblinear failed to converge, increase the number of iterations.\n",
      "  \"the number of iterations.\", ConvergenceWarning)\n"
     ]
    },
    {
     "name": "stdout",
     "output_type": "stream",
     "text": [
      "\n"
     ]
    },
    {
     "name": "stderr",
     "output_type": "stream",
     "text": [
      "/home/blagojce/.conda/envs/ml_epfl/lib/python3.6/site-packages/sklearn/linear_model/logistic.py:432: FutureWarning: Default solver will be changed to 'lbfgs' in 0.22. Specify a solver to silence this warning.\n",
      "  FutureWarning)\n"
     ]
    },
    {
     "name": "stdout",
     "output_type": "stream",
     "text": [
      "\n"
     ]
    },
    {
     "name": "stderr",
     "output_type": "stream",
     "text": [
      "/home/blagojce/.conda/envs/ml_epfl/lib/python3.6/site-packages/matplotlib/axes/_base.py:3012: UserWarning: Attempting to set identical left==right results\n",
      "in singular transformations; automatically expanding.\n",
      "left=1.0, right=1.0\n",
      "  self.set_xlim(upper, lower, auto=None)\n"
     ]
    },
    {
     "data": {
      "image/png": "[encoded data removed]",
      "text/plain": [
       "<Figure size 432x288 with 1 Axes>"
      ]
     },
     "metadata": {
      "needs_background": "light"
     },
     "output_type": "display_data"
    },
    {
     "name": "stdout",
     "output_type": "stream",
     "text": [
      "NEW LAMBDA: 1\n"
     ]
    },
    {
     "name": "stderr",
     "output_type": "stream",
     "text": [
      "/home/blagojce/.conda/envs/ml_epfl/lib/python3.6/site-packages/sklearn/linear_model/logistic.py:432: FutureWarning: Default solver will be changed to 'lbfgs' in 0.22. Specify a solver to silence this warning.\n",
      "  FutureWarning)\n",
      "/home/blagojce/.conda/envs/ml_epfl/lib/python3.6/site-packages/sklearn/svm/base.py:922: ConvergenceWarning: Liblinear failed to converge, increase the number of iterations.\n",
      "  \"the number of iterations.\", ConvergenceWarning)\n",
      "/home/blagojce/.conda/envs/ml_epfl/lib/python3.6/site-packages/sklearn/linear_model/logistic.py:432: FutureWarning: Default solver will be changed to 'lbfgs' in 0.22. Specify a solver to silence this warning.\n",
      "  FutureWarning)\n"
     ]
    },
    {
     "name": "stdout",
     "output_type": "stream",
     "text": [
      "\n"
     ]
    },
    {
     "name": "stderr",
     "output_type": "stream",
     "text": [
      "/home/blagojce/.conda/envs/ml_epfl/lib/python3.6/site-packages/sklearn/svm/base.py:922: ConvergenceWarning: Liblinear failed to converge, increase the number of iterations.\n",
      "  \"the number of iterations.\", ConvergenceWarning)\n",
      "/home/blagojce/.conda/envs/ml_epfl/lib/python3.6/site-packages/sklearn/linear_model/logistic.py:432: FutureWarning: Default solver will be changed to 'lbfgs' in 0.22. Specify a solver to silence this warning.\n",
      "  FutureWarning)\n"
     ]
    },
    {
     "name": "stdout",
     "output_type": "stream",
     "text": [
      "\n"
     ]
    },
    {
     "name": "stderr",
     "output_type": "stream",
     "text": [
      "/home/blagojce/.conda/envs/ml_epfl/lib/python3.6/site-packages/sklearn/svm/base.py:922: ConvergenceWarning: Liblinear failed to converge, increase the number of iterations.\n",
      "  \"the number of iterations.\", ConvergenceWarning)\n",
      "/home/blagojce/.conda/envs/ml_epfl/lib/python3.6/site-packages/sklearn/linear_model/logistic.py:432: FutureWarning: Default solver will be changed to 'lbfgs' in 0.22. Specify a solver to silence this warning.\n",
      "  FutureWarning)\n"
     ]
    },
    {
     "name": "stdout",
     "output_type": "stream",
     "text": [
      "\n"
     ]
    },
    {
     "name": "stderr",
     "output_type": "stream",
     "text": [
      "/home/blagojce/.conda/envs/ml_epfl/lib/python3.6/site-packages/sklearn/svm/base.py:922: ConvergenceWarning: Liblinear failed to converge, increase the number of iterations.\n",
      "  \"the number of iterations.\", ConvergenceWarning)\n",
      "/home/blagojce/.conda/envs/ml_epfl/lib/python3.6/site-packages/sklearn/linear_model/logistic.py:432: FutureWarning: Default solver will be changed to 'lbfgs' in 0.22. Specify a solver to silence this warning.\n",
      "  FutureWarning)\n"
     ]
    },
    {
     "name": "stdout",
     "output_type": "stream",
     "text": [
      "\n"
     ]
    },
    {
     "name": "stderr",
     "output_type": "stream",
     "text": [
      "/home/blagojce/.conda/envs/ml_epfl/lib/python3.6/site-packages/sklearn/svm/base.py:922: ConvergenceWarning: Liblinear failed to converge, increase the number of iterations.\n",
      "  \"the number of iterations.\", ConvergenceWarning)\n",
      "/home/blagojce/.conda/envs/ml_epfl/lib/python3.6/site-packages/sklearn/linear_model/logistic.py:432: FutureWarning: Default solver will be changed to 'lbfgs' in 0.22. Specify a solver to silence this warning.\n",
      "  FutureWarning)\n"
     ]
    },
    {
     "name": "stdout",
     "output_type": "stream",
     "text": [
      "\n"
     ]
    },
    {
     "name": "stderr",
     "output_type": "stream",
     "text": [
      "/home/blagojce/.conda/envs/ml_epfl/lib/python3.6/site-packages/sklearn/svm/base.py:922: ConvergenceWarning: Liblinear failed to converge, increase the number of iterations.\n",
      "  \"the number of iterations.\", ConvergenceWarning)\n",
      "/home/blagojce/.conda/envs/ml_epfl/lib/python3.6/site-packages/sklearn/linear_model/logistic.py:432: FutureWarning: Default solver will be changed to 'lbfgs' in 0.22. Specify a solver to silence this warning.\n",
      "  FutureWarning)\n"
     ]
    },
    {
     "name": "stdout",
     "output_type": "stream",
     "text": [
      "\n"
     ]
    },
    {
     "name": "stderr",
     "output_type": "stream",
     "text": [
      "/home/blagojce/.conda/envs/ml_epfl/lib/python3.6/site-packages/sklearn/svm/base.py:922: ConvergenceWarning: Liblinear failed to converge, increase the number of iterations.\n",
      "  \"the number of iterations.\", ConvergenceWarning)\n",
      "/home/blagojce/.conda/envs/ml_epfl/lib/python3.6/site-packages/sklearn/linear_model/logistic.py:432: FutureWarning: Default solver will be changed to 'lbfgs' in 0.22. Specify a solver to silence this warning.\n",
      "  FutureWarning)\n"
     ]
    },
    {
     "name": "stdout",
     "output_type": "stream",
     "text": [
      "\n"
     ]
    },
    {
     "name": "stderr",
     "output_type": "stream",
     "text": [
      "/home/blagojce/.conda/envs/ml_epfl/lib/python3.6/site-packages/sklearn/svm/base.py:922: ConvergenceWarning: Liblinear failed to converge, increase the number of iterations.\n",
      "  \"the number of iterations.\", ConvergenceWarning)\n",
      "/home/blagojce/.conda/envs/ml_epfl/lib/python3.6/site-packages/sklearn/linear_model/logistic.py:432: FutureWarning: Default solver will be changed to 'lbfgs' in 0.22. Specify a solver to silence this warning.\n",
      "  FutureWarning)\n"
     ]
    },
    {
     "name": "stdout",
     "output_type": "stream",
     "text": [
      "\n"
     ]
    },
    {
     "name": "stderr",
     "output_type": "stream",
     "text": [
      "/home/blagojce/.conda/envs/ml_epfl/lib/python3.6/site-packages/sklearn/svm/base.py:922: ConvergenceWarning: Liblinear failed to converge, increase the number of iterations.\n",
      "  \"the number of iterations.\", ConvergenceWarning)\n",
      "/home/blagojce/.conda/envs/ml_epfl/lib/python3.6/site-packages/sklearn/linear_model/logistic.py:432: FutureWarning: Default solver will be changed to 'lbfgs' in 0.22. Specify a solver to silence this warning.\n",
      "  FutureWarning)\n"
     ]
    },
    {
     "name": "stdout",
     "output_type": "stream",
     "text": [
      "\n"
     ]
    },
    {
     "name": "stderr",
     "output_type": "stream",
     "text": [
      "/home/blagojce/.conda/envs/ml_epfl/lib/python3.6/site-packages/sklearn/svm/base.py:922: ConvergenceWarning: Liblinear failed to converge, increase the number of iterations.\n",
      "  \"the number of iterations.\", ConvergenceWarning)\n",
      "/home/blagojce/.conda/envs/ml_epfl/lib/python3.6/site-packages/matplotlib/axes/_base.py:3012: UserWarning: Attempting to set identical left==right results\n",
      "in singular transformations; automatically expanding.\n",
      "left=1.0, right=1.0\n",
      "  self.set_xlim(upper, lower, auto=None)\n"
     ]
    },
    {
     "name": "stdout",
     "output_type": "stream",
     "text": [
      "\n"
     ]
    },
    {
     "data": {
      "image/png": "[encoded data removed]",
      "text/plain": [
       "<Figure size 432x288 with 1 Axes>"
      ]
     },
     "metadata": {
      "needs_background": "light"
     },
     "output_type": "display_data"
    },
    {
     "name": "stdout",
     "output_type": "stream",
     "text": [
      "NEW LAMBDA: 1\n"
     ]
    },
    {
     "name": "stderr",
     "output_type": "stream",
     "text": [
      "/home/blagojce/.conda/envs/ml_epfl/lib/python3.6/site-packages/sklearn/linear_model/logistic.py:432: FutureWarning: Default solver will be changed to 'lbfgs' in 0.22. Specify a solver to silence this warning.\n",
      "  FutureWarning)\n"
     ]
    },
    {
     "name": "stdout",
     "output_type": "stream",
     "text": [
      "\n"
     ]
    },
    {
     "name": "stderr",
     "output_type": "stream",
     "text": [
      "/home/blagojce/.conda/envs/ml_epfl/lib/python3.6/site-packages/sklearn/linear_model/logistic.py:432: FutureWarning: Default solver will be changed to 'lbfgs' in 0.22. Specify a solver to silence this warning.\n",
      "  FutureWarning)\n"
     ]
    },
    {
     "name": "stdout",
     "output_type": "stream",
     "text": [
      "\n"
     ]
    },
    {
     "name": "stderr",
     "output_type": "stream",
     "text": [
      "/home/blagojce/.conda/envs/ml_epfl/lib/python3.6/site-packages/sklearn/linear_model/logistic.py:432: FutureWarning: Default solver will be changed to 'lbfgs' in 0.22. Specify a solver to silence this warning.\n",
      "  FutureWarning)\n"
     ]
    },
    {
     "name": "stdout",
     "output_type": "stream",
     "text": [
      "\n"
     ]
    },
    {
     "name": "stderr",
     "output_type": "stream",
     "text": [
      "/home/blagojce/.conda/envs/ml_epfl/lib/python3.6/site-packages/sklearn/linear_model/logistic.py:432: FutureWarning: Default solver will be changed to 'lbfgs' in 0.22. Specify a solver to silence this warning.\n",
      "  FutureWarning)\n"
     ]
    },
    {
     "name": "stdout",
     "output_type": "stream",
     "text": [
      "\n"
     ]
    },
    {
     "name": "stderr",
     "output_type": "stream",
     "text": [
      "/home/blagojce/.conda/envs/ml_epfl/lib/python3.6/site-packages/sklearn/linear_model/logistic.py:432: FutureWarning: Default solver will be changed to 'lbfgs' in 0.22. Specify a solver to silence this warning.\n",
      "  FutureWarning)\n"
     ]
    },
    {
     "name": "stdout",
     "output_type": "stream",
     "text": [
      "\n"
     ]
    },
    {
     "name": "stderr",
     "output_type": "stream",
     "text": [
      "/home/blagojce/.conda/envs/ml_epfl/lib/python3.6/site-packages/sklearn/linear_model/logistic.py:432: FutureWarning: Default solver will be changed to 'lbfgs' in 0.22. Specify a solver to silence this warning.\n",
      "  FutureWarning)\n"
     ]
    },
    {
     "name": "stdout",
     "output_type": "stream",
     "text": [
      "\n"
     ]
    },
    {
     "name": "stderr",
     "output_type": "stream",
     "text": [
      "/home/blagojce/.conda/envs/ml_epfl/lib/python3.6/site-packages/sklearn/linear_model/logistic.py:432: FutureWarning: Default solver will be changed to 'lbfgs' in 0.22. Specify a solver to silence this warning.\n",
      "  FutureWarning)\n"
     ]
    },
    {
     "name": "stdout",
     "output_type": "stream",
     "text": [
      "\n"
     ]
    },
    {
     "name": "stderr",
     "output_type": "stream",
     "text": [
      "/home/blagojce/.conda/envs/ml_epfl/lib/python3.6/site-packages/sklearn/linear_model/logistic.py:432: FutureWarning: Default solver will be changed to 'lbfgs' in 0.22. Specify a solver to silence this warning.\n",
      "  FutureWarning)\n"
     ]
    },
    {
     "name": "stdout",
     "output_type": "stream",
     "text": [
      "\n"
     ]
    },
    {
     "name": "stderr",
     "output_type": "stream",
     "text": [
      "/home/blagojce/.conda/envs/ml_epfl/lib/python3.6/site-packages/sklearn/linear_model/logistic.py:432: FutureWarning: Default solver will be changed to 'lbfgs' in 0.22. Specify a solver to silence this warning.\n",
      "  FutureWarning)\n"
     ]
    },
    {
     "name": "stdout",
     "output_type": "stream",
     "text": [
      "\n"
     ]
    },
    {
     "name": "stderr",
     "output_type": "stream",
     "text": [
      "/home/blagojce/.conda/envs/ml_epfl/lib/python3.6/site-packages/sklearn/linear_model/logistic.py:432: FutureWarning: Default solver will be changed to 'lbfgs' in 0.22. Specify a solver to silence this warning.\n",
      "  FutureWarning)\n"
     ]
    },
    {
     "name": "stdout",
     "output_type": "stream",
     "text": [
      "\n"
     ]
    },
    {
     "name": "stderr",
     "output_type": "stream",
     "text": [
      "/home/blagojce/.conda/envs/ml_epfl/lib/python3.6/site-packages/matplotlib/axes/_base.py:3012: UserWarning: Attempting to set identical left==right results\n",
      "in singular transformations; automatically expanding.\n",
      "left=1.0, right=1.0\n",
      "  self.set_xlim(upper, lower, auto=None)\n"
     ]
    },
    {
     "data": {
      "image/png": "[encoded data removed]",
      "text/plain": [
       "<Figure size 432x288 with 1 Axes>"
      ]
     },
     "metadata": {
      "needs_background": "light"
     },
     "output_type": "display_data"
    },
    {
     "name": "stdout",
     "output_type": "stream",
     "text": [
      "NEW LAMBDA: 1\n"
     ]
    },
    {
     "name": "stderr",
     "output_type": "stream",
     "text": [
      "/home/blagojce/.conda/envs/ml_epfl/lib/python3.6/site-packages/sklearn/linear_model/logistic.py:432: FutureWarning: Default solver will be changed to 'lbfgs' in 0.22. Specify a solver to silence this warning.\n",
      "  FutureWarning)\n",
      "/home/blagojce/.conda/envs/ml_epfl/lib/python3.6/site-packages/sklearn/svm/base.py:922: ConvergenceWarning: Liblinear failed to converge, increase the number of iterations.\n",
      "  \"the number of iterations.\", ConvergenceWarning)\n",
      "/home/blagojce/.conda/envs/ml_epfl/lib/python3.6/site-packages/sklearn/linear_model/logistic.py:432: FutureWarning: Default solver will be changed to 'lbfgs' in 0.22. Specify a solver to silence this warning.\n",
      "  FutureWarning)\n"
     ]
    },
    {
     "name": "stdout",
     "output_type": "stream",
     "text": [
      "\n"
     ]
    },
    {
     "name": "stderr",
     "output_type": "stream",
     "text": [
      "/home/blagojce/.conda/envs/ml_epfl/lib/python3.6/site-packages/sklearn/svm/base.py:922: ConvergenceWarning: Liblinear failed to converge, increase the number of iterations.\n",
      "  \"the number of iterations.\", ConvergenceWarning)\n",
      "/home/blagojce/.conda/envs/ml_epfl/lib/python3.6/site-packages/sklearn/linear_model/logistic.py:432: FutureWarning: Default solver will be changed to 'lbfgs' in 0.22. Specify a solver to silence this warning.\n",
      "  FutureWarning)\n"
     ]
    },
    {
     "name": "stdout",
     "output_type": "stream",
     "text": [
      "\n"
     ]
    },
    {
     "name": "stderr",
     "output_type": "stream",
     "text": [
      "/home/blagojce/.conda/envs/ml_epfl/lib/python3.6/site-packages/sklearn/svm/base.py:922: ConvergenceWarning: Liblinear failed to converge, increase the number of iterations.\n",
      "  \"the number of iterations.\", ConvergenceWarning)\n",
      "/home/blagojce/.conda/envs/ml_epfl/lib/python3.6/site-packages/sklearn/linear_model/logistic.py:432: FutureWarning: Default solver will be changed to 'lbfgs' in 0.22. Specify a solver to silence this warning.\n",
      "  FutureWarning)\n"
     ]
    },
    {
     "name": "stdout",
     "output_type": "stream",
     "text": [
      "\n"
     ]
    },
    {
     "name": "stderr",
     "output_type": "stream",
     "text": [
      "/home/blagojce/.conda/envs/ml_epfl/lib/python3.6/site-packages/sklearn/svm/base.py:922: ConvergenceWarning: Liblinear failed to converge, increase the number of iterations.\n",
      "  \"the number of iterations.\", ConvergenceWarning)\n",
      "/home/blagojce/.conda/envs/ml_epfl/lib/python3.6/site-packages/sklearn/linear_model/logistic.py:432: FutureWarning: Default solver will be changed to 'lbfgs' in 0.22. Specify a solver to silence this warning.\n",
      "  FutureWarning)\n"
     ]
    },
    {
     "name": "stdout",
     "output_type": "stream",
     "text": [
      "\n"
     ]
    },
    {
     "name": "stderr",
     "output_type": "stream",
     "text": [
      "/home/blagojce/.conda/envs/ml_epfl/lib/python3.6/site-packages/sklearn/svm/base.py:922: ConvergenceWarning: Liblinear failed to converge, increase the number of iterations.\n",
      "  \"the number of iterations.\", ConvergenceWarning)\n",
      "/home/blagojce/.conda/envs/ml_epfl/lib/python3.6/site-packages/sklearn/linear_model/logistic.py:432: FutureWarning: Default solver will be changed to 'lbfgs' in 0.22. Specify a solver to silence this warning.\n",
      "  FutureWarning)\n"
     ]
    },
    {
     "name": "stdout",
     "output_type": "stream",
     "text": [
      "\n"
     ]
    },
    {
     "name": "stderr",
     "output_type": "stream",
     "text": [
      "/home/blagojce/.conda/envs/ml_epfl/lib/python3.6/site-packages/sklearn/svm/base.py:922: ConvergenceWarning: Liblinear failed to converge, increase the number of iterations.\n",
      "  \"the number of iterations.\", ConvergenceWarning)\n",
      "/home/blagojce/.conda/envs/ml_epfl/lib/python3.6/site-packages/sklearn/linear_model/logistic.py:432: FutureWarning: Default solver will be changed to 'lbfgs' in 0.22. Specify a solver to silence this warning.\n",
      "  FutureWarning)\n"
     ]
    },
    {
     "name": "stdout",
     "output_type": "stream",
     "text": [
      "\n"
     ]
    },
    {
     "name": "stderr",
     "output_type": "stream",
     "text": [
      "/home/blagojce/.conda/envs/ml_epfl/lib/python3.6/site-packages/sklearn/svm/base.py:922: ConvergenceWarning: Liblinear failed to converge, increase the number of iterations.\n",
      "  \"the number of iterations.\", ConvergenceWarning)\n",
      "/home/blagojce/.conda/envs/ml_epfl/lib/python3.6/site-packages/sklearn/linear_model/logistic.py:432: FutureWarning: Default solver will be changed to 'lbfgs' in 0.22. Specify a solver to silence this warning.\n",
      "  FutureWarning)\n"
     ]
    },
    {
     "name": "stdout",
     "output_type": "stream",
     "text": [
      "\n"
     ]
    },
    {
     "name": "stderr",
     "output_type": "stream",
     "text": [
      "/home/blagojce/.conda/envs/ml_epfl/lib/python3.6/site-packages/sklearn/svm/base.py:922: ConvergenceWarning: Liblinear failed to converge, increase the number of iterations.\n",
      "  \"the number of iterations.\", ConvergenceWarning)\n",
      "/home/blagojce/.conda/envs/ml_epfl/lib/python3.6/site-packages/sklearn/linear_model/logistic.py:432: FutureWarning: Default solver will be changed to 'lbfgs' in 0.22. Specify a solver to silence this warning.\n",
      "  FutureWarning)\n"
     ]
    },
    {
     "name": "stdout",
     "output_type": "stream",
     "text": [
      "\n"
     ]
    },
    {
     "name": "stderr",
     "output_type": "stream",
     "text": [
      "/home/blagojce/.conda/envs/ml_epfl/lib/python3.6/site-packages/sklearn/svm/base.py:922: ConvergenceWarning: Liblinear failed to converge, increase the number of iterations.\n",
      "  \"the number of iterations.\", ConvergenceWarning)\n",
      "/home/blagojce/.conda/envs/ml_epfl/lib/python3.6/site-packages/sklearn/linear_model/logistic.py:432: FutureWarning: Default solver will be changed to 'lbfgs' in 0.22. Specify a solver to silence this warning.\n",
      "  FutureWarning)\n"
     ]
    },
    {
     "name": "stdout",
     "output_type": "stream",
     "text": [
      "\n"
     ]
    },
    {
     "name": "stderr",
     "output_type": "stream",
     "text": [
      "/home/blagojce/.conda/envs/ml_epfl/lib/python3.6/site-packages/sklearn/svm/base.py:922: ConvergenceWarning: Liblinear failed to converge, increase the number of iterations.\n",
      "  \"the number of iterations.\", ConvergenceWarning)\n",
      "/home/blagojce/.conda/envs/ml_epfl/lib/python3.6/site-packages/matplotlib/axes/_base.py:3012: UserWarning: Attempting to set identical left==right results\n",
      "in singular transformations; automatically expanding.\n",
      "left=1.0, right=1.0\n",
      "  self.set_xlim(upper, lower, auto=None)\n"
     ]
    },
    {
     "name": "stdout",
     "output_type": "stream",
     "text": [
      "\n"
     ]
    },
    {
     "data": {
      "image/png": "[encoded data removed]",
      "text/plain": [
       "<Figure size 432x288 with 1 Axes>"
      ]
     },
     "metadata": {
      "needs_background": "light"
     },
     "output_type": "display_data"
    },
    {
     "name": "stdout",
     "output_type": "stream",
     "text": [
      "NEW LAMBDA: 1\n"
     ]
    },
    {
     "name": "stderr",
     "output_type": "stream",
     "text": [
      "/home/blagojce/.conda/envs/ml_epfl/lib/python3.6/site-packages/sklearn/linear_model/logistic.py:432: FutureWarning: Default solver will be changed to 'lbfgs' in 0.22. Specify a solver to silence this warning.\n",
      "  FutureWarning)\n"
     ]
    },
    {
     "name": "stdout",
     "output_type": "stream",
     "text": [
      "\n"
     ]
    },
    {
     "name": "stderr",
     "output_type": "stream",
     "text": [
      "/home/blagojce/.conda/envs/ml_epfl/lib/python3.6/site-packages/sklearn/linear_model/logistic.py:432: FutureWarning: Default solver will be changed to 'lbfgs' in 0.22. Specify a solver to silence this warning.\n",
      "  FutureWarning)\n"
     ]
    },
    {
     "name": "stdout",
     "output_type": "stream",
     "text": [
      "\n"
     ]
    },
    {
     "name": "stderr",
     "output_type": "stream",
     "text": [
      "/home/blagojce/.conda/envs/ml_epfl/lib/python3.6/site-packages/sklearn/linear_model/logistic.py:432: FutureWarning: Default solver will be changed to 'lbfgs' in 0.22. Specify a solver to silence this warning.\n",
      "  FutureWarning)\n"
     ]
    },
    {
     "name": "stdout",
     "output_type": "stream",
     "text": [
      "\n"
     ]
    },
    {
     "name": "stderr",
     "output_type": "stream",
     "text": [
      "/home/blagojce/.conda/envs/ml_epfl/lib/python3.6/site-packages/sklearn/linear_model/logistic.py:432: FutureWarning: Default solver will be changed to 'lbfgs' in 0.22. Specify a solver to silence this warning.\n",
      "  FutureWarning)\n"
     ]
    },
    {
     "name": "stdout",
     "output_type": "stream",
     "text": [
      "\n"
     ]
    },
    {
     "name": "stderr",
     "output_type": "stream",
     "text": [
      "/home/blagojce/.conda/envs/ml_epfl/lib/python3.6/site-packages/sklearn/linear_model/logistic.py:432: FutureWarning: Default solver will be changed to 'lbfgs' in 0.22. Specify a solver to silence this warning.\n",
      "  FutureWarning)\n",
      "/home/blagojce/.conda/envs/ml_epfl/lib/python3.6/site-packages/sklearn/svm/base.py:922: ConvergenceWarning: Liblinear failed to converge, increase the number of iterations.\n",
      "  \"the number of iterations.\", ConvergenceWarning)\n"
     ]
    },
    {
     "name": "stdout",
     "output_type": "stream",
     "text": [
      "\n"
     ]
    },
    {
     "name": "stderr",
     "output_type": "stream",
     "text": [
      "/home/blagojce/.conda/envs/ml_epfl/lib/python3.6/site-packages/sklearn/linear_model/logistic.py:432: FutureWarning: Default solver will be changed to 'lbfgs' in 0.22. Specify a solver to silence this warning.\n",
      "  FutureWarning)\n",
      "/home/blagojce/.conda/envs/ml_epfl/lib/python3.6/site-packages/sklearn/svm/base.py:922: ConvergenceWarning: Liblinear failed to converge, increase the number of iterations.\n",
      "  \"the number of iterations.\", ConvergenceWarning)\n"
     ]
    },
    {
     "name": "stdout",
     "output_type": "stream",
     "text": [
      "\n"
     ]
    },
    {
     "name": "stderr",
     "output_type": "stream",
     "text": [
      "/home/blagojce/.conda/envs/ml_epfl/lib/python3.6/site-packages/sklearn/linear_model/logistic.py:432: FutureWarning: Default solver will be changed to 'lbfgs' in 0.22. Specify a solver to silence this warning.\n",
      "  FutureWarning)\n"
     ]
    },
    {
     "name": "stdout",
     "output_type": "stream",
     "text": [
      "\n"
     ]
    },
    {
     "name": "stderr",
     "output_type": "stream",
     "text": [
      "/home/blagojce/.conda/envs/ml_epfl/lib/python3.6/site-packages/sklearn/linear_model/logistic.py:432: FutureWarning: Default solver will be changed to 'lbfgs' in 0.22. Specify a solver to silence this warning.\n",
      "  FutureWarning)\n"
     ]
    },
    {
     "name": "stdout",
     "output_type": "stream",
     "text": [
      "\n"
     ]
    },
    {
     "name": "stderr",
     "output_type": "stream",
     "text": [
      "/home/blagojce/.conda/envs/ml_epfl/lib/python3.6/site-packages/sklearn/linear_model/logistic.py:432: FutureWarning: Default solver will be changed to 'lbfgs' in 0.22. Specify a solver to silence this warning.\n",
      "  FutureWarning)\n",
      "/home/blagojce/.conda/envs/ml_epfl/lib/python3.6/site-packages/sklearn/svm/base.py:922: ConvergenceWarning: Liblinear failed to converge, increase the number of iterations.\n",
      "  \"the number of iterations.\", ConvergenceWarning)\n"
     ]
    },
    {
     "name": "stdout",
     "output_type": "stream",
     "text": [
      "\n"
     ]
    },
    {
     "name": "stderr",
     "output_type": "stream",
     "text": [
      "/home/blagojce/.conda/envs/ml_epfl/lib/python3.6/site-packages/sklearn/linear_model/logistic.py:432: FutureWarning: Default solver will be changed to 'lbfgs' in 0.22. Specify a solver to silence this warning.\n",
      "  FutureWarning)\n",
      "/home/blagojce/.conda/envs/ml_epfl/lib/python3.6/site-packages/sklearn/svm/base.py:922: ConvergenceWarning: Liblinear failed to converge, increase the number of iterations.\n",
      "  \"the number of iterations.\", ConvergenceWarning)\n",
      "/home/blagojce/.conda/envs/ml_epfl/lib/python3.6/site-packages/matplotlib/axes/_base.py:3012: UserWarning: Attempting to set identical left==right results\n",
      "in singular transformations; automatically expanding.\n",
      "left=1.0, right=1.0\n",
      "  self.set_xlim(upper, lower, auto=None)\n"
     ]
    },
    {
     "name": "stdout",
     "output_type": "stream",
     "text": [
      "\n"
     ]
    },
    {
     "data": {
      "image/png": "[encoded data removed]",
      "text/plain": [
       "<Figure size 432x288 with 1 Axes>"
      ]
     },
     "metadata": {
      "needs_background": "light"
     },
     "output_type": "display_data"
    },
    {
     "name": "stdout",
     "output_type": "stream",
     "text": [
      "NEW LAMBDA: 1\n"
     ]
    },
    {
     "name": "stderr",
     "output_type": "stream",
     "text": [
      "/home/blagojce/.conda/envs/ml_epfl/lib/python3.6/site-packages/sklearn/linear_model/logistic.py:432: FutureWarning: Default solver will be changed to 'lbfgs' in 0.22. Specify a solver to silence this warning.\n",
      "  FutureWarning)\n",
      "/home/blagojce/.conda/envs/ml_epfl/lib/python3.6/site-packages/sklearn/svm/base.py:922: ConvergenceWarning: Liblinear failed to converge, increase the number of iterations.\n",
      "  \"the number of iterations.\", ConvergenceWarning)\n",
      "/home/blagojce/.conda/envs/ml_epfl/lib/python3.6/site-packages/sklearn/linear_model/logistic.py:432: FutureWarning: Default solver will be changed to 'lbfgs' in 0.22. Specify a solver to silence this warning.\n",
      "  FutureWarning)\n"
     ]
    },
    {
     "name": "stdout",
     "output_type": "stream",
     "text": [
      "\n"
     ]
    },
    {
     "name": "stderr",
     "output_type": "stream",
     "text": [
      "/home/blagojce/.conda/envs/ml_epfl/lib/python3.6/site-packages/sklearn/svm/base.py:922: ConvergenceWarning: Liblinear failed to converge, increase the number of iterations.\n",
      "  \"the number of iterations.\", ConvergenceWarning)\n",
      "/home/blagojce/.conda/envs/ml_epfl/lib/python3.6/site-packages/sklearn/linear_model/logistic.py:432: FutureWarning: Default solver will be changed to 'lbfgs' in 0.22. Specify a solver to silence this warning.\n",
      "  FutureWarning)\n"
     ]
    },
    {
     "name": "stdout",
     "output_type": "stream",
     "text": [
      "\n"
     ]
    },
    {
     "name": "stderr",
     "output_type": "stream",
     "text": [
      "/home/blagojce/.conda/envs/ml_epfl/lib/python3.6/site-packages/sklearn/svm/base.py:922: ConvergenceWarning: Liblinear failed to converge, increase the number of iterations.\n",
      "  \"the number of iterations.\", ConvergenceWarning)\n",
      "/home/blagojce/.conda/envs/ml_epfl/lib/python3.6/site-packages/sklearn/linear_model/logistic.py:432: FutureWarning: Default solver will be changed to 'lbfgs' in 0.22. Specify a solver to silence this warning.\n",
      "  FutureWarning)\n"
     ]
    },
    {
     "name": "stdout",
     "output_type": "stream",
     "text": [
      "\n"
     ]
    },
    {
     "name": "stderr",
     "output_type": "stream",
     "text": [
      "/home/blagojce/.conda/envs/ml_epfl/lib/python3.6/site-packages/sklearn/svm/base.py:922: ConvergenceWarning: Liblinear failed to converge, increase the number of iterations.\n",
      "  \"the number of iterations.\", ConvergenceWarning)\n",
      "/home/blagojce/.conda/envs/ml_epfl/lib/python3.6/site-packages/sklearn/linear_model/logistic.py:432: FutureWarning: Default solver will be changed to 'lbfgs' in 0.22. Specify a solver to silence this warning.\n",
      "  FutureWarning)\n"
     ]
    },
    {
     "name": "stdout",
     "output_type": "stream",
     "text": [
      "\n"
     ]
    },
    {
     "name": "stderr",
     "output_type": "stream",
     "text": [
      "/home/blagojce/.conda/envs/ml_epfl/lib/python3.6/site-packages/sklearn/svm/base.py:922: ConvergenceWarning: Liblinear failed to converge, increase the number of iterations.\n",
      "  \"the number of iterations.\", ConvergenceWarning)\n",
      "/home/blagojce/.conda/envs/ml_epfl/lib/python3.6/site-packages/sklearn/linear_model/logistic.py:432: FutureWarning: Default solver will be changed to 'lbfgs' in 0.22. Specify a solver to silence this warning.\n",
      "  FutureWarning)\n"
     ]
    },
    {
     "name": "stdout",
     "output_type": "stream",
     "text": [
      "\n"
     ]
    },
    {
     "name": "stderr",
     "output_type": "stream",
     "text": [
      "/home/blagojce/.conda/envs/ml_epfl/lib/python3.6/site-packages/sklearn/svm/base.py:922: ConvergenceWarning: Liblinear failed to converge, increase the number of iterations.\n",
      "  \"the number of iterations.\", ConvergenceWarning)\n",
      "/home/blagojce/.conda/envs/ml_epfl/lib/python3.6/site-packages/sklearn/linear_model/logistic.py:432: FutureWarning: Default solver will be changed to 'lbfgs' in 0.22. Specify a solver to silence this warning.\n",
      "  FutureWarning)\n"
     ]
    },
    {
     "name": "stdout",
     "output_type": "stream",
     "text": [
      "\n"
     ]
    },
    {
     "name": "stderr",
     "output_type": "stream",
     "text": [
      "/home/blagojce/.conda/envs/ml_epfl/lib/python3.6/site-packages/sklearn/svm/base.py:922: ConvergenceWarning: Liblinear failed to converge, increase the number of iterations.\n",
      "  \"the number of iterations.\", ConvergenceWarning)\n",
      "/home/blagojce/.conda/envs/ml_epfl/lib/python3.6/site-packages/sklearn/linear_model/logistic.py:432: FutureWarning: Default solver will be changed to 'lbfgs' in 0.22. Specify a solver to silence this warning.\n",
      "  FutureWarning)\n"
     ]
    },
    {
     "name": "stdout",
     "output_type": "stream",
     "text": [
      "\n"
     ]
    },
    {
     "name": "stderr",
     "output_type": "stream",
     "text": [
      "/home/blagojce/.conda/envs/ml_epfl/lib/python3.6/site-packages/sklearn/svm/base.py:922: ConvergenceWarning: Liblinear failed to converge, increase the number of iterations.\n",
      "  \"the number of iterations.\", ConvergenceWarning)\n",
      "/home/blagojce/.conda/envs/ml_epfl/lib/python3.6/site-packages/sklearn/linear_model/logistic.py:432: FutureWarning: Default solver will be changed to 'lbfgs' in 0.22. Specify a solver to silence this warning.\n",
      "  FutureWarning)\n"
     ]
    },
    {
     "name": "stdout",
     "output_type": "stream",
     "text": [
      "\n"
     ]
    },
    {
     "name": "stderr",
     "output_type": "stream",
     "text": [
      "/home/blagojce/.conda/envs/ml_epfl/lib/python3.6/site-packages/sklearn/svm/base.py:922: ConvergenceWarning: Liblinear failed to converge, increase the number of iterations.\n",
      "  \"the number of iterations.\", ConvergenceWarning)\n",
      "/home/blagojce/.conda/envs/ml_epfl/lib/python3.6/site-packages/sklearn/linear_model/logistic.py:432: FutureWarning: Default solver will be changed to 'lbfgs' in 0.22. Specify a solver to silence this warning.\n",
      "  FutureWarning)\n"
     ]
    },
    {
     "name": "stdout",
     "output_type": "stream",
     "text": [
      "\n"
     ]
    },
    {
     "name": "stderr",
     "output_type": "stream",
     "text": [
      "/home/blagojce/.conda/envs/ml_epfl/lib/python3.6/site-packages/sklearn/svm/base.py:922: ConvergenceWarning: Liblinear failed to converge, increase the number of iterations.\n",
      "  \"the number of iterations.\", ConvergenceWarning)\n",
      "/home/blagojce/.conda/envs/ml_epfl/lib/python3.6/site-packages/matplotlib/axes/_base.py:3012: UserWarning: Attempting to set identical left==right results\n",
      "in singular transformations; automatically expanding.\n",
      "left=1.0, right=1.0\n",
      "  self.set_xlim(upper, lower, auto=None)\n"
     ]
    },
    {
     "name": "stdout",
     "output_type": "stream",
     "text": [
      "\n"
     ]
    },
    {
     "data": {
      "image/png": "[encoded data removed]",
      "text/plain": [
       "<Figure size 432x288 with 1 Axes>"
      ]
     },
     "metadata": {
      "needs_background": "light"
     },
     "output_type": "display_data"
    },
    {
     "name": "stdout",
     "output_type": "stream",
     "text": [
      "[1, 1, 1, 1, 1, 1, 1, 1]\n",
      "0.8142390531531174\n",
      "[0.774132297360377, 0.9433979921728772, 0.6779222635038583, 0.9085390946502058, 0.6893012793476732, 0.8811299435028248, 0.7063829787234043, 0.9331065759637187]\n",
      "0.8132645574968234\n",
      "[0.7731264398970049, 0.9430704441041348, 0.6777364961417548, 0.9092592592592592, 0.6889708983551245, 0.8783050847457627, 0.7036750483558994, 0.9319727891156464]\n"
     ]
    }
   ],
   "source": [
    "number_of_models = 8\n",
    "\n",
    "best_lambdas = []\n",
    "acc_train = []\n",
    "acc_test = []\n",
    "for i in range(number_of_models):\n",
    "    x_tr = x_train_sep[i]\n",
    "    y_tr = y_train_sep[i]\n",
    "\n",
    "    #lambdas = np.logspace(-5, 1, 5)\n",
    "    #lambdas = [0.0001, 0.001, 0.01, 0.1, 1]\n",
    "    lambdas = [1]\n",
    "    lambda_, acc_tr, acc_te = cross_validation(x_tr, y_tr, lambdas, poly_degree=3, norm=None, method=\"SKL\")\n",
    "    best_lambdas.append(lambda_)\n",
    "    acc_train.append(acc_tr)\n",
    "    acc_test.append(acc_te)\n",
    "    \n",
    "print(best_lambdas)\n",
    "print(np.mean(acc_train))\n",
    "print(acc_train)\n",
    "print(np.mean(acc_test))\n",
    "print(acc_test)"
   ]
  },
  {
   "cell_type": "code",
   "execution_count": 149,
   "metadata": {
    "scrolled": true
   },
   "outputs": [
    {
     "name": "stdout",
     "output_type": "stream",
     "text": [
      "NEW LAMBDA: 1\n"
     ]
    },
    {
     "name": "stderr",
     "output_type": "stream",
     "text": [
      "/home/blagojce/.conda/envs/ml_epfl/lib/python3.6/site-packages/sklearn/linear_model/logistic.py:432: FutureWarning: Default solver will be changed to 'lbfgs' in 0.22. Specify a solver to silence this warning.\n",
      "  FutureWarning)\n",
      "/home/blagojce/.conda/envs/ml_epfl/lib/python3.6/site-packages/sklearn/svm/base.py:922: ConvergenceWarning: Liblinear failed to converge, increase the number of iterations.\n",
      "  \"the number of iterations.\", ConvergenceWarning)\n",
      "/home/blagojce/.conda/envs/ml_epfl/lib/python3.6/site-packages/sklearn/linear_model/logistic.py:432: FutureWarning: Default solver will be changed to 'lbfgs' in 0.22. Specify a solver to silence this warning.\n",
      "  FutureWarning)\n",
      "/home/blagojce/.conda/envs/ml_epfl/lib/python3.6/site-packages/sklearn/linear_model/logistic.py:432: FutureWarning: Default solver will be changed to 'lbfgs' in 0.22. Specify a solver to silence this warning.\n",
      "  FutureWarning)\n",
      "/home/blagojce/.conda/envs/ml_epfl/lib/python3.6/site-packages/sklearn/svm/base.py:922: ConvergenceWarning: Liblinear failed to converge, increase the number of iterations.\n",
      "  \"the number of iterations.\", ConvergenceWarning)\n",
      "/home/blagojce/.conda/envs/ml_epfl/lib/python3.6/site-packages/sklearn/linear_model/logistic.py:432: FutureWarning: Default solver will be changed to 'lbfgs' in 0.22. Specify a solver to silence this warning.\n",
      "  FutureWarning)\n",
      "/home/blagojce/.conda/envs/ml_epfl/lib/python3.6/site-packages/sklearn/svm/base.py:922: ConvergenceWarning: Liblinear failed to converge, increase the number of iterations.\n",
      "  \"the number of iterations.\", ConvergenceWarning)\n",
      "/home/blagojce/.conda/envs/ml_epfl/lib/python3.6/site-packages/sklearn/linear_model/logistic.py:432: FutureWarning: Default solver will be changed to 'lbfgs' in 0.22. Specify a solver to silence this warning.\n",
      "  FutureWarning)\n",
      "/home/blagojce/.conda/envs/ml_epfl/lib/python3.6/site-packages/sklearn/svm/base.py:922: ConvergenceWarning: Liblinear failed to converge, increase the number of iterations.\n",
      "  \"the number of iterations.\", ConvergenceWarning)\n",
      "/home/blagojce/.conda/envs/ml_epfl/lib/python3.6/site-packages/sklearn/linear_model/logistic.py:432: FutureWarning: Default solver will be changed to 'lbfgs' in 0.22. Specify a solver to silence this warning.\n",
      "  FutureWarning)\n",
      "/home/blagojce/.conda/envs/ml_epfl/lib/python3.6/site-packages/sklearn/svm/base.py:922: ConvergenceWarning: Liblinear failed to converge, increase the number of iterations.\n",
      "  \"the number of iterations.\", ConvergenceWarning)\n",
      "/home/blagojce/.conda/envs/ml_epfl/lib/python3.6/site-packages/sklearn/linear_model/logistic.py:432: FutureWarning: Default solver will be changed to 'lbfgs' in 0.22. Specify a solver to silence this warning.\n",
      "  FutureWarning)\n",
      "/home/blagojce/.conda/envs/ml_epfl/lib/python3.6/site-packages/sklearn/svm/base.py:922: ConvergenceWarning: Liblinear failed to converge, increase the number of iterations.\n",
      "  \"the number of iterations.\", ConvergenceWarning)\n",
      "/home/blagojce/.conda/envs/ml_epfl/lib/python3.6/site-packages/sklearn/linear_model/logistic.py:432: FutureWarning: Default solver will be changed to 'lbfgs' in 0.22. Specify a solver to silence this warning.\n",
      "  FutureWarning)\n",
      "/home/blagojce/.conda/envs/ml_epfl/lib/python3.6/site-packages/sklearn/svm/base.py:922: ConvergenceWarning: Liblinear failed to converge, increase the number of iterations.\n",
      "  \"the number of iterations.\", ConvergenceWarning)\n",
      "/home/blagojce/.conda/envs/ml_epfl/lib/python3.6/site-packages/sklearn/linear_model/logistic.py:432: FutureWarning: Default solver will be changed to 'lbfgs' in 0.22. Specify a solver to silence this warning.\n",
      "  FutureWarning)\n",
      "/home/blagojce/.conda/envs/ml_epfl/lib/python3.6/site-packages/sklearn/svm/base.py:922: ConvergenceWarning: Liblinear failed to converge, increase the number of iterations.\n",
      "  \"the number of iterations.\", ConvergenceWarning)\n",
      "/home/blagojce/.conda/envs/ml_epfl/lib/python3.6/site-packages/sklearn/linear_model/logistic.py:432: FutureWarning: Default solver will be changed to 'lbfgs' in 0.22. Specify a solver to silence this warning.\n",
      "  FutureWarning)\n",
      "/home/blagojce/.conda/envs/ml_epfl/lib/python3.6/site-packages/sklearn/svm/base.py:922: ConvergenceWarning: Liblinear failed to converge, increase the number of iterations.\n",
      "  \"the number of iterations.\", ConvergenceWarning)\n",
      "/home/blagojce/.conda/envs/ml_epfl/lib/python3.6/site-packages/matplotlib/axes/_base.py:3012: UserWarning: Attempting to set identical left==right results\n",
      "in singular transformations; automatically expanding.\n",
      "left=1.0, right=1.0\n",
      "  self.set_xlim(upper, lower, auto=None)\n"
     ]
    },
    {
     "data": {
      "image/png": "[encoded data removed]",
      "text/plain": [
       "<Figure size 432x288 with 1 Axes>"
      ]
     },
     "metadata": {
      "needs_background": "light"
     },
     "output_type": "display_data"
    },
    {
     "name": "stdout",
     "output_type": "stream",
     "text": [
      "[0.6031444934344372]\n",
      "[3.085100598092939]\n",
      "NEW LAMBDA: 1\n"
     ]
    },
    {
     "name": "stderr",
     "output_type": "stream",
     "text": [
      "/home/blagojce/.conda/envs/ml_epfl/lib/python3.6/site-packages/sklearn/linear_model/logistic.py:432: FutureWarning: Default solver will be changed to 'lbfgs' in 0.22. Specify a solver to silence this warning.\n",
      "  FutureWarning)\n",
      "/home/blagojce/.conda/envs/ml_epfl/lib/python3.6/site-packages/sklearn/svm/base.py:922: ConvergenceWarning: Liblinear failed to converge, increase the number of iterations.\n",
      "  \"the number of iterations.\", ConvergenceWarning)\n",
      "/home/blagojce/.conda/envs/ml_epfl/lib/python3.6/site-packages/sklearn/linear_model/logistic.py:432: FutureWarning: Default solver will be changed to 'lbfgs' in 0.22. Specify a solver to silence this warning.\n",
      "  FutureWarning)\n",
      "/home/blagojce/.conda/envs/ml_epfl/lib/python3.6/site-packages/sklearn/svm/base.py:922: ConvergenceWarning: Liblinear failed to converge, increase the number of iterations.\n",
      "  \"the number of iterations.\", ConvergenceWarning)\n",
      "/home/blagojce/.conda/envs/ml_epfl/lib/python3.6/site-packages/sklearn/linear_model/logistic.py:432: FutureWarning: Default solver will be changed to 'lbfgs' in 0.22. Specify a solver to silence this warning.\n",
      "  FutureWarning)\n",
      "/home/blagojce/.conda/envs/ml_epfl/lib/python3.6/site-packages/sklearn/svm/base.py:922: ConvergenceWarning: Liblinear failed to converge, increase the number of iterations.\n",
      "  \"the number of iterations.\", ConvergenceWarning)\n",
      "/home/blagojce/.conda/envs/ml_epfl/lib/python3.6/site-packages/sklearn/linear_model/logistic.py:432: FutureWarning: Default solver will be changed to 'lbfgs' in 0.22. Specify a solver to silence this warning.\n",
      "  FutureWarning)\n",
      "/home/blagojce/.conda/envs/ml_epfl/lib/python3.6/site-packages/sklearn/svm/base.py:922: ConvergenceWarning: Liblinear failed to converge, increase the number of iterations.\n",
      "  \"the number of iterations.\", ConvergenceWarning)\n",
      "/home/blagojce/.conda/envs/ml_epfl/lib/python3.6/site-packages/sklearn/linear_model/logistic.py:432: FutureWarning: Default solver will be changed to 'lbfgs' in 0.22. Specify a solver to silence this warning.\n",
      "  FutureWarning)\n",
      "/home/blagojce/.conda/envs/ml_epfl/lib/python3.6/site-packages/sklearn/linear_model/logistic.py:432: FutureWarning: Default solver will be changed to 'lbfgs' in 0.22. Specify a solver to silence this warning.\n",
      "  FutureWarning)\n",
      "/home/blagojce/.conda/envs/ml_epfl/lib/python3.6/site-packages/sklearn/linear_model/logistic.py:432: FutureWarning: Default solver will be changed to 'lbfgs' in 0.22. Specify a solver to silence this warning.\n",
      "  FutureWarning)\n",
      "/home/blagojce/.conda/envs/ml_epfl/lib/python3.6/site-packages/sklearn/svm/base.py:922: ConvergenceWarning: Liblinear failed to converge, increase the number of iterations.\n",
      "  \"the number of iterations.\", ConvergenceWarning)\n",
      "/home/blagojce/.conda/envs/ml_epfl/lib/python3.6/site-packages/sklearn/linear_model/logistic.py:432: FutureWarning: Default solver will be changed to 'lbfgs' in 0.22. Specify a solver to silence this warning.\n",
      "  FutureWarning)\n",
      "/home/blagojce/.conda/envs/ml_epfl/lib/python3.6/site-packages/sklearn/linear_model/logistic.py:432: FutureWarning: Default solver will be changed to 'lbfgs' in 0.22. Specify a solver to silence this warning.\n",
      "  FutureWarning)\n",
      "/home/blagojce/.conda/envs/ml_epfl/lib/python3.6/site-packages/sklearn/svm/base.py:922: ConvergenceWarning: Liblinear failed to converge, increase the number of iterations.\n",
      "  \"the number of iterations.\", ConvergenceWarning)\n",
      "/home/blagojce/.conda/envs/ml_epfl/lib/python3.6/site-packages/sklearn/linear_model/logistic.py:432: FutureWarning: Default solver will be changed to 'lbfgs' in 0.22. Specify a solver to silence this warning.\n",
      "  FutureWarning)\n",
      "/home/blagojce/.conda/envs/ml_epfl/lib/python3.6/site-packages/sklearn/svm/base.py:922: ConvergenceWarning: Liblinear failed to converge, increase the number of iterations.\n",
      "  \"the number of iterations.\", ConvergenceWarning)\n",
      "/home/blagojce/.conda/envs/ml_epfl/lib/python3.6/site-packages/matplotlib/axes/_base.py:3012: UserWarning: Attempting to set identical left==right results\n",
      "in singular transformations; automatically expanding.\n",
      "left=1.0, right=1.0\n",
      "  self.set_xlim(upper, lower, auto=None)\n"
     ]
    },
    {
     "data": {
      "image/png": "[encoded data removed]",
      "text/plain": [
       "<Figure size 432x288 with 1 Axes>"
      ]
     },
     "metadata": {
      "needs_background": "light"
     },
     "output_type": "display_data"
    },
    {
     "name": "stdout",
     "output_type": "stream",
     "text": [
      "[0.19598990195443539]\n",
      "[0.278637890869026]\n",
      "NEW LAMBDA: 1\n"
     ]
    },
    {
     "name": "stderr",
     "output_type": "stream",
     "text": [
      "/home/blagojce/.conda/envs/ml_epfl/lib/python3.6/site-packages/sklearn/linear_model/logistic.py:432: FutureWarning: Default solver will be changed to 'lbfgs' in 0.22. Specify a solver to silence this warning.\n",
      "  FutureWarning)\n",
      "/home/blagojce/.conda/envs/ml_epfl/lib/python3.6/site-packages/sklearn/svm/base.py:922: ConvergenceWarning: Liblinear failed to converge, increase the number of iterations.\n",
      "  \"the number of iterations.\", ConvergenceWarning)\n",
      "/home/blagojce/.conda/envs/ml_epfl/lib/python3.6/site-packages/sklearn/linear_model/logistic.py:432: FutureWarning: Default solver will be changed to 'lbfgs' in 0.22. Specify a solver to silence this warning.\n",
      "  FutureWarning)\n",
      "/home/blagojce/.conda/envs/ml_epfl/lib/python3.6/site-packages/sklearn/linear_model/logistic.py:432: FutureWarning: Default solver will be changed to 'lbfgs' in 0.22. Specify a solver to silence this warning.\n",
      "  FutureWarning)\n",
      "/home/blagojce/.conda/envs/ml_epfl/lib/python3.6/site-packages/sklearn/svm/base.py:922: ConvergenceWarning: Liblinear failed to converge, increase the number of iterations.\n",
      "  \"the number of iterations.\", ConvergenceWarning)\n",
      "/home/blagojce/.conda/envs/ml_epfl/lib/python3.6/site-packages/sklearn/linear_model/logistic.py:432: FutureWarning: Default solver will be changed to 'lbfgs' in 0.22. Specify a solver to silence this warning.\n",
      "  FutureWarning)\n",
      "/home/blagojce/.conda/envs/ml_epfl/lib/python3.6/site-packages/sklearn/svm/base.py:922: ConvergenceWarning: Liblinear failed to converge, increase the number of iterations.\n",
      "  \"the number of iterations.\", ConvergenceWarning)\n",
      "/home/blagojce/.conda/envs/ml_epfl/lib/python3.6/site-packages/sklearn/linear_model/logistic.py:432: FutureWarning: Default solver will be changed to 'lbfgs' in 0.22. Specify a solver to silence this warning.\n",
      "  FutureWarning)\n",
      "/home/blagojce/.conda/envs/ml_epfl/lib/python3.6/site-packages/sklearn/svm/base.py:922: ConvergenceWarning: Liblinear failed to converge, increase the number of iterations.\n",
      "  \"the number of iterations.\", ConvergenceWarning)\n",
      "/home/blagojce/.conda/envs/ml_epfl/lib/python3.6/site-packages/sklearn/linear_model/logistic.py:432: FutureWarning: Default solver will be changed to 'lbfgs' in 0.22. Specify a solver to silence this warning.\n",
      "  FutureWarning)\n",
      "/home/blagojce/.conda/envs/ml_epfl/lib/python3.6/site-packages/sklearn/linear_model/logistic.py:432: FutureWarning: Default solver will be changed to 'lbfgs' in 0.22. Specify a solver to silence this warning.\n",
      "  FutureWarning)\n",
      "/home/blagojce/.conda/envs/ml_epfl/lib/python3.6/site-packages/sklearn/svm/base.py:922: ConvergenceWarning: Liblinear failed to converge, increase the number of iterations.\n",
      "  \"the number of iterations.\", ConvergenceWarning)\n",
      "/home/blagojce/.conda/envs/ml_epfl/lib/python3.6/site-packages/sklearn/linear_model/logistic.py:432: FutureWarning: Default solver will be changed to 'lbfgs' in 0.22. Specify a solver to silence this warning.\n",
      "  FutureWarning)\n",
      "/home/blagojce/.conda/envs/ml_epfl/lib/python3.6/site-packages/sklearn/svm/base.py:922: ConvergenceWarning: Liblinear failed to converge, increase the number of iterations.\n",
      "  \"the number of iterations.\", ConvergenceWarning)\n",
      "/home/blagojce/.conda/envs/ml_epfl/lib/python3.6/site-packages/sklearn/linear_model/logistic.py:432: FutureWarning: Default solver will be changed to 'lbfgs' in 0.22. Specify a solver to silence this warning.\n",
      "  FutureWarning)\n",
      "/home/blagojce/.conda/envs/ml_epfl/lib/python3.6/site-packages/sklearn/linear_model/logistic.py:432: FutureWarning: Default solver will be changed to 'lbfgs' in 0.22. Specify a solver to silence this warning.\n",
      "  FutureWarning)\n",
      "/home/blagojce/.conda/envs/ml_epfl/lib/python3.6/site-packages/sklearn/svm/base.py:922: ConvergenceWarning: Liblinear failed to converge, increase the number of iterations.\n",
      "  \"the number of iterations.\", ConvergenceWarning)\n",
      "/home/blagojce/.conda/envs/ml_epfl/lib/python3.6/site-packages/matplotlib/axes/_base.py:3012: UserWarning: Attempting to set identical left==right results\n",
      "in singular transformations; automatically expanding.\n",
      "left=1.0, right=1.0\n",
      "  self.set_xlim(upper, lower, auto=None)\n"
     ]
    },
    {
     "data": {
      "image/png": "[encoded data removed]",
      "text/plain": [
       "<Figure size 432x288 with 1 Axes>"
      ]
     },
     "metadata": {
      "needs_background": "light"
     },
     "output_type": "display_data"
    },
    {
     "name": "stdout",
     "output_type": "stream",
     "text": [
      "[0.4683009120686867]\n",
      "[0.47372035183797206]\n",
      "NEW LAMBDA: 1\n"
     ]
    },
    {
     "name": "stderr",
     "output_type": "stream",
     "text": [
      "/home/blagojce/.conda/envs/ml_epfl/lib/python3.6/site-packages/sklearn/linear_model/logistic.py:432: FutureWarning: Default solver will be changed to 'lbfgs' in 0.22. Specify a solver to silence this warning.\n",
      "  FutureWarning)\n",
      "/home/blagojce/.conda/envs/ml_epfl/lib/python3.6/site-packages/sklearn/linear_model/logistic.py:432: FutureWarning: Default solver will be changed to 'lbfgs' in 0.22. Specify a solver to silence this warning.\n",
      "  FutureWarning)\n",
      "/home/blagojce/.conda/envs/ml_epfl/lib/python3.6/site-packages/sklearn/linear_model/logistic.py:432: FutureWarning: Default solver will be changed to 'lbfgs' in 0.22. Specify a solver to silence this warning.\n",
      "  FutureWarning)\n",
      "/home/blagojce/.conda/envs/ml_epfl/lib/python3.6/site-packages/sklearn/linear_model/logistic.py:432: FutureWarning: Default solver will be changed to 'lbfgs' in 0.22. Specify a solver to silence this warning.\n",
      "  FutureWarning)\n",
      "/home/blagojce/.conda/envs/ml_epfl/lib/python3.6/site-packages/sklearn/linear_model/logistic.py:432: FutureWarning: Default solver will be changed to 'lbfgs' in 0.22. Specify a solver to silence this warning.\n",
      "  FutureWarning)\n",
      "/home/blagojce/.conda/envs/ml_epfl/lib/python3.6/site-packages/sklearn/linear_model/logistic.py:432: FutureWarning: Default solver will be changed to 'lbfgs' in 0.22. Specify a solver to silence this warning.\n",
      "  FutureWarning)\n",
      "/home/blagojce/.conda/envs/ml_epfl/lib/python3.6/site-packages/sklearn/linear_model/logistic.py:432: FutureWarning: Default solver will be changed to 'lbfgs' in 0.22. Specify a solver to silence this warning.\n",
      "  FutureWarning)\n",
      "/home/blagojce/.conda/envs/ml_epfl/lib/python3.6/site-packages/sklearn/linear_model/logistic.py:432: FutureWarning: Default solver will be changed to 'lbfgs' in 0.22. Specify a solver to silence this warning.\n",
      "  FutureWarning)\n",
      "/home/blagojce/.conda/envs/ml_epfl/lib/python3.6/site-packages/sklearn/linear_model/logistic.py:432: FutureWarning: Default solver will be changed to 'lbfgs' in 0.22. Specify a solver to silence this warning.\n",
      "  FutureWarning)\n",
      "/home/blagojce/.conda/envs/ml_epfl/lib/python3.6/site-packages/sklearn/linear_model/logistic.py:432: FutureWarning: Default solver will be changed to 'lbfgs' in 0.22. Specify a solver to silence this warning.\n",
      "  FutureWarning)\n",
      "/home/blagojce/.conda/envs/ml_epfl/lib/python3.6/site-packages/matplotlib/axes/_base.py:3012: UserWarning: Attempting to set identical left==right results\n",
      "in singular transformations; automatically expanding.\n",
      "left=1.0, right=1.0\n",
      "  self.set_xlim(upper, lower, auto=None)\n"
     ]
    },
    {
     "data": {
      "image/png": "[encoded data removed]",
      "text/plain": [
       "<Figure size 432x288 with 1 Axes>"
      ]
     },
     "metadata": {
      "needs_background": "light"
     },
     "output_type": "display_data"
    },
    {
     "name": "stdout",
     "output_type": "stream",
     "text": [
      "[0.30574205001431387]\n",
      "[0.3257306553093199]\n",
      "NEW LAMBDA: 1\n"
     ]
    },
    {
     "name": "stderr",
     "output_type": "stream",
     "text": [
      "/home/blagojce/.conda/envs/ml_epfl/lib/python3.6/site-packages/sklearn/linear_model/logistic.py:432: FutureWarning: Default solver will be changed to 'lbfgs' in 0.22. Specify a solver to silence this warning.\n",
      "  FutureWarning)\n",
      "/home/blagojce/.conda/envs/ml_epfl/lib/python3.6/site-packages/sklearn/svm/base.py:922: ConvergenceWarning: Liblinear failed to converge, increase the number of iterations.\n",
      "  \"the number of iterations.\", ConvergenceWarning)\n",
      "/home/blagojce/.conda/envs/ml_epfl/lib/python3.6/site-packages/sklearn/linear_model/logistic.py:432: FutureWarning: Default solver will be changed to 'lbfgs' in 0.22. Specify a solver to silence this warning.\n",
      "  FutureWarning)\n",
      "/home/blagojce/.conda/envs/ml_epfl/lib/python3.6/site-packages/sklearn/svm/base.py:922: ConvergenceWarning: Liblinear failed to converge, increase the number of iterations.\n",
      "  \"the number of iterations.\", ConvergenceWarning)\n",
      "/home/blagojce/.conda/envs/ml_epfl/lib/python3.6/site-packages/sklearn/linear_model/logistic.py:432: FutureWarning: Default solver will be changed to 'lbfgs' in 0.22. Specify a solver to silence this warning.\n",
      "  FutureWarning)\n",
      "/home/blagojce/.conda/envs/ml_epfl/lib/python3.6/site-packages/sklearn/svm/base.py:922: ConvergenceWarning: Liblinear failed to converge, increase the number of iterations.\n",
      "  \"the number of iterations.\", ConvergenceWarning)\n",
      "/home/blagojce/.conda/envs/ml_epfl/lib/python3.6/site-packages/sklearn/linear_model/logistic.py:432: FutureWarning: Default solver will be changed to 'lbfgs' in 0.22. Specify a solver to silence this warning.\n",
      "  FutureWarning)\n",
      "/home/blagojce/.conda/envs/ml_epfl/lib/python3.6/site-packages/sklearn/svm/base.py:922: ConvergenceWarning: Liblinear failed to converge, increase the number of iterations.\n",
      "  \"the number of iterations.\", ConvergenceWarning)\n",
      "/home/blagojce/.conda/envs/ml_epfl/lib/python3.6/site-packages/sklearn/linear_model/logistic.py:432: FutureWarning: Default solver will be changed to 'lbfgs' in 0.22. Specify a solver to silence this warning.\n",
      "  FutureWarning)\n",
      "/home/blagojce/.conda/envs/ml_epfl/lib/python3.6/site-packages/sklearn/svm/base.py:922: ConvergenceWarning: Liblinear failed to converge, increase the number of iterations.\n",
      "  \"the number of iterations.\", ConvergenceWarning)\n",
      "/home/blagojce/.conda/envs/ml_epfl/lib/python3.6/site-packages/sklearn/linear_model/logistic.py:432: FutureWarning: Default solver will be changed to 'lbfgs' in 0.22. Specify a solver to silence this warning.\n",
      "  FutureWarning)\n",
      "/home/blagojce/.conda/envs/ml_epfl/lib/python3.6/site-packages/sklearn/svm/base.py:922: ConvergenceWarning: Liblinear failed to converge, increase the number of iterations.\n",
      "  \"the number of iterations.\", ConvergenceWarning)\n",
      "/home/blagojce/.conda/envs/ml_epfl/lib/python3.6/site-packages/sklearn/linear_model/logistic.py:432: FutureWarning: Default solver will be changed to 'lbfgs' in 0.22. Specify a solver to silence this warning.\n",
      "  FutureWarning)\n",
      "/home/blagojce/.conda/envs/ml_epfl/lib/python3.6/site-packages/sklearn/svm/base.py:922: ConvergenceWarning: Liblinear failed to converge, increase the number of iterations.\n",
      "  \"the number of iterations.\", ConvergenceWarning)\n",
      "/home/blagojce/.conda/envs/ml_epfl/lib/python3.6/site-packages/sklearn/linear_model/logistic.py:432: FutureWarning: Default solver will be changed to 'lbfgs' in 0.22. Specify a solver to silence this warning.\n",
      "  FutureWarning)\n",
      "/home/blagojce/.conda/envs/ml_epfl/lib/python3.6/site-packages/sklearn/svm/base.py:922: ConvergenceWarning: Liblinear failed to converge, increase the number of iterations.\n",
      "  \"the number of iterations.\", ConvergenceWarning)\n",
      "/home/blagojce/.conda/envs/ml_epfl/lib/python3.6/site-packages/sklearn/linear_model/logistic.py:432: FutureWarning: Default solver will be changed to 'lbfgs' in 0.22. Specify a solver to silence this warning.\n",
      "  FutureWarning)\n",
      "/home/blagojce/.conda/envs/ml_epfl/lib/python3.6/site-packages/sklearn/svm/base.py:922: ConvergenceWarning: Liblinear failed to converge, increase the number of iterations.\n",
      "  \"the number of iterations.\", ConvergenceWarning)\n",
      "/home/blagojce/.conda/envs/ml_epfl/lib/python3.6/site-packages/sklearn/linear_model/logistic.py:432: FutureWarning: Default solver will be changed to 'lbfgs' in 0.22. Specify a solver to silence this warning.\n",
      "  FutureWarning)\n",
      "/home/blagojce/.conda/envs/ml_epfl/lib/python3.6/site-packages/sklearn/svm/base.py:922: ConvergenceWarning: Liblinear failed to converge, increase the number of iterations.\n",
      "  \"the number of iterations.\", ConvergenceWarning)\n",
      "/home/blagojce/.conda/envs/ml_epfl/lib/python3.6/site-packages/matplotlib/axes/_base.py:3012: UserWarning: Attempting to set identical left==right results\n",
      "in singular transformations; automatically expanding.\n",
      "left=1.0, right=1.0\n",
      "  self.set_xlim(upper, lower, auto=None)\n"
     ]
    },
    {
     "data": {
      "image/png": "[encoded data removed]",
      "text/plain": [
       "<Figure size 432x288 with 1 Axes>"
      ]
     },
     "metadata": {
      "needs_background": "light"
     },
     "output_type": "display_data"
    },
    {
     "name": "stdout",
     "output_type": "stream",
     "text": [
      "[0.4145809542930944]\n",
      "[0.4171221053457215]\n",
      "NEW LAMBDA: 1\n"
     ]
    },
    {
     "name": "stderr",
     "output_type": "stream",
     "text": [
      "/home/blagojce/.conda/envs/ml_epfl/lib/python3.6/site-packages/sklearn/linear_model/logistic.py:432: FutureWarning: Default solver will be changed to 'lbfgs' in 0.22. Specify a solver to silence this warning.\n",
      "  FutureWarning)\n",
      "/home/blagojce/.conda/envs/ml_epfl/lib/python3.6/site-packages/sklearn/svm/base.py:922: ConvergenceWarning: Liblinear failed to converge, increase the number of iterations.\n",
      "  \"the number of iterations.\", ConvergenceWarning)\n",
      "/home/blagojce/.conda/envs/ml_epfl/lib/python3.6/site-packages/sklearn/linear_model/logistic.py:432: FutureWarning: Default solver will be changed to 'lbfgs' in 0.22. Specify a solver to silence this warning.\n",
      "  FutureWarning)\n",
      "/home/blagojce/.conda/envs/ml_epfl/lib/python3.6/site-packages/sklearn/linear_model/logistic.py:432: FutureWarning: Default solver will be changed to 'lbfgs' in 0.22. Specify a solver to silence this warning.\n",
      "  FutureWarning)\n",
      "/home/blagojce/.conda/envs/ml_epfl/lib/python3.6/site-packages/sklearn/svm/base.py:922: ConvergenceWarning: Liblinear failed to converge, increase the number of iterations.\n",
      "  \"the number of iterations.\", ConvergenceWarning)\n",
      "/home/blagojce/.conda/envs/ml_epfl/lib/python3.6/site-packages/sklearn/linear_model/logistic.py:432: FutureWarning: Default solver will be changed to 'lbfgs' in 0.22. Specify a solver to silence this warning.\n",
      "  FutureWarning)\n",
      "/home/blagojce/.conda/envs/ml_epfl/lib/python3.6/site-packages/sklearn/svm/base.py:922: ConvergenceWarning: Liblinear failed to converge, increase the number of iterations.\n",
      "  \"the number of iterations.\", ConvergenceWarning)\n",
      "/home/blagojce/.conda/envs/ml_epfl/lib/python3.6/site-packages/sklearn/linear_model/logistic.py:432: FutureWarning: Default solver will be changed to 'lbfgs' in 0.22. Specify a solver to silence this warning.\n",
      "  FutureWarning)\n",
      "/home/blagojce/.conda/envs/ml_epfl/lib/python3.6/site-packages/sklearn/svm/base.py:922: ConvergenceWarning: Liblinear failed to converge, increase the number of iterations.\n",
      "  \"the number of iterations.\", ConvergenceWarning)\n",
      "/home/blagojce/.conda/envs/ml_epfl/lib/python3.6/site-packages/sklearn/linear_model/logistic.py:432: FutureWarning: Default solver will be changed to 'lbfgs' in 0.22. Specify a solver to silence this warning.\n",
      "  FutureWarning)\n",
      "/home/blagojce/.conda/envs/ml_epfl/lib/python3.6/site-packages/sklearn/linear_model/logistic.py:432: FutureWarning: Default solver will be changed to 'lbfgs' in 0.22. Specify a solver to silence this warning.\n",
      "  FutureWarning)\n",
      "/home/blagojce/.conda/envs/ml_epfl/lib/python3.6/site-packages/sklearn/linear_model/logistic.py:432: FutureWarning: Default solver will be changed to 'lbfgs' in 0.22. Specify a solver to silence this warning.\n",
      "  FutureWarning)\n",
      "/home/blagojce/.conda/envs/ml_epfl/lib/python3.6/site-packages/sklearn/linear_model/logistic.py:432: FutureWarning: Default solver will be changed to 'lbfgs' in 0.22. Specify a solver to silence this warning.\n",
      "  FutureWarning)\n",
      "/home/blagojce/.conda/envs/ml_epfl/lib/python3.6/site-packages/sklearn/linear_model/logistic.py:432: FutureWarning: Default solver will be changed to 'lbfgs' in 0.22. Specify a solver to silence this warning.\n",
      "  FutureWarning)\n",
      "/home/blagojce/.conda/envs/ml_epfl/lib/python3.6/site-packages/matplotlib/axes/_base.py:3012: UserWarning: Attempting to set identical left==right results\n",
      "in singular transformations; automatically expanding.\n",
      "left=1.0, right=1.0\n",
      "  self.set_xlim(upper, lower, auto=None)\n"
     ]
    },
    {
     "data": {
      "image/png": "[encoded data removed]",
      "text/plain": [
       "<Figure size 432x288 with 1 Axes>"
      ]
     },
     "metadata": {
      "needs_background": "light"
     },
     "output_type": "display_data"
    },
    {
     "name": "stdout",
     "output_type": "stream",
     "text": [
      "[0.2528674957698883]\n",
      "[0.2990143031623246]\n",
      "NEW LAMBDA: 1\n"
     ]
    },
    {
     "name": "stderr",
     "output_type": "stream",
     "text": [
      "/home/blagojce/.conda/envs/ml_epfl/lib/python3.6/site-packages/sklearn/linear_model/logistic.py:432: FutureWarning: Default solver will be changed to 'lbfgs' in 0.22. Specify a solver to silence this warning.\n",
      "  FutureWarning)\n",
      "/home/blagojce/.conda/envs/ml_epfl/lib/python3.6/site-packages/sklearn/svm/base.py:922: ConvergenceWarning: Liblinear failed to converge, increase the number of iterations.\n",
      "  \"the number of iterations.\", ConvergenceWarning)\n",
      "/home/blagojce/.conda/envs/ml_epfl/lib/python3.6/site-packages/sklearn/linear_model/logistic.py:432: FutureWarning: Default solver will be changed to 'lbfgs' in 0.22. Specify a solver to silence this warning.\n",
      "  FutureWarning)\n",
      "/home/blagojce/.conda/envs/ml_epfl/lib/python3.6/site-packages/sklearn/linear_model/logistic.py:432: FutureWarning: Default solver will be changed to 'lbfgs' in 0.22. Specify a solver to silence this warning.\n",
      "  FutureWarning)\n",
      "/home/blagojce/.conda/envs/ml_epfl/lib/python3.6/site-packages/sklearn/svm/base.py:922: ConvergenceWarning: Liblinear failed to converge, increase the number of iterations.\n",
      "  \"the number of iterations.\", ConvergenceWarning)\n",
      "/home/blagojce/.conda/envs/ml_epfl/lib/python3.6/site-packages/sklearn/linear_model/logistic.py:432: FutureWarning: Default solver will be changed to 'lbfgs' in 0.22. Specify a solver to silence this warning.\n",
      "  FutureWarning)\n",
      "/home/blagojce/.conda/envs/ml_epfl/lib/python3.6/site-packages/sklearn/svm/base.py:922: ConvergenceWarning: Liblinear failed to converge, increase the number of iterations.\n",
      "  \"the number of iterations.\", ConvergenceWarning)\n",
      "/home/blagojce/.conda/envs/ml_epfl/lib/python3.6/site-packages/sklearn/linear_model/logistic.py:432: FutureWarning: Default solver will be changed to 'lbfgs' in 0.22. Specify a solver to silence this warning.\n",
      "  FutureWarning)\n",
      "/home/blagojce/.conda/envs/ml_epfl/lib/python3.6/site-packages/sklearn/svm/base.py:922: ConvergenceWarning: Liblinear failed to converge, increase the number of iterations.\n",
      "  \"the number of iterations.\", ConvergenceWarning)\n",
      "/home/blagojce/.conda/envs/ml_epfl/lib/python3.6/site-packages/sklearn/linear_model/logistic.py:432: FutureWarning: Default solver will be changed to 'lbfgs' in 0.22. Specify a solver to silence this warning.\n",
      "  FutureWarning)\n",
      "/home/blagojce/.conda/envs/ml_epfl/lib/python3.6/site-packages/sklearn/svm/base.py:922: ConvergenceWarning: Liblinear failed to converge, increase the number of iterations.\n",
      "  \"the number of iterations.\", ConvergenceWarning)\n",
      "/home/blagojce/.conda/envs/ml_epfl/lib/python3.6/site-packages/sklearn/linear_model/logistic.py:432: FutureWarning: Default solver will be changed to 'lbfgs' in 0.22. Specify a solver to silence this warning.\n",
      "  FutureWarning)\n",
      "/home/blagojce/.conda/envs/ml_epfl/lib/python3.6/site-packages/sklearn/svm/base.py:922: ConvergenceWarning: Liblinear failed to converge, increase the number of iterations.\n",
      "  \"the number of iterations.\", ConvergenceWarning)\n",
      "/home/blagojce/.conda/envs/ml_epfl/lib/python3.6/site-packages/sklearn/linear_model/logistic.py:432: FutureWarning: Default solver will be changed to 'lbfgs' in 0.22. Specify a solver to silence this warning.\n",
      "  FutureWarning)\n",
      "/home/blagojce/.conda/envs/ml_epfl/lib/python3.6/site-packages/sklearn/svm/base.py:922: ConvergenceWarning: Liblinear failed to converge, increase the number of iterations.\n",
      "  \"the number of iterations.\", ConvergenceWarning)\n",
      "/home/blagojce/.conda/envs/ml_epfl/lib/python3.6/site-packages/sklearn/linear_model/logistic.py:432: FutureWarning: Default solver will be changed to 'lbfgs' in 0.22. Specify a solver to silence this warning.\n",
      "  FutureWarning)\n",
      "/home/blagojce/.conda/envs/ml_epfl/lib/python3.6/site-packages/sklearn/svm/base.py:922: ConvergenceWarning: Liblinear failed to converge, increase the number of iterations.\n",
      "  \"the number of iterations.\", ConvergenceWarning)\n",
      "/home/blagojce/.conda/envs/ml_epfl/lib/python3.6/site-packages/sklearn/linear_model/logistic.py:432: FutureWarning: Default solver will be changed to 'lbfgs' in 0.22. Specify a solver to silence this warning.\n",
      "  FutureWarning)\n",
      "/home/blagojce/.conda/envs/ml_epfl/lib/python3.6/site-packages/sklearn/svm/base.py:922: ConvergenceWarning: Liblinear failed to converge, increase the number of iterations.\n",
      "  \"the number of iterations.\", ConvergenceWarning)\n",
      "/home/blagojce/.conda/envs/ml_epfl/lib/python3.6/site-packages/matplotlib/axes/_base.py:3012: UserWarning: Attempting to set identical left==right results\n",
      "in singular transformations; automatically expanding.\n",
      "left=1.0, right=1.0\n",
      "  self.set_xlim(upper, lower, auto=None)\n"
     ]
    },
    {
     "data": {
      "image/png": "[encoded data removed]",
      "text/plain": [
       "<Figure size 432x288 with 1 Axes>"
      ]
     },
     "metadata": {
      "needs_background": "light"
     },
     "output_type": "display_data"
    },
    {
     "name": "stdout",
     "output_type": "stream",
     "text": [
      "[0.4345794888078142]\n",
      "[0.44320045394263674]\n",
      "NEW LAMBDA: 1\n"
     ]
    },
    {
     "name": "stderr",
     "output_type": "stream",
     "text": [
      "/home/blagojce/.conda/envs/ml_epfl/lib/python3.6/site-packages/sklearn/linear_model/logistic.py:432: FutureWarning: Default solver will be changed to 'lbfgs' in 0.22. Specify a solver to silence this warning.\n",
      "  FutureWarning)\n",
      "/home/blagojce/.conda/envs/ml_epfl/lib/python3.6/site-packages/sklearn/linear_model/logistic.py:432: FutureWarning: Default solver will be changed to 'lbfgs' in 0.22. Specify a solver to silence this warning.\n",
      "  FutureWarning)\n",
      "/home/blagojce/.conda/envs/ml_epfl/lib/python3.6/site-packages/sklearn/linear_model/logistic.py:432: FutureWarning: Default solver will be changed to 'lbfgs' in 0.22. Specify a solver to silence this warning.\n",
      "  FutureWarning)\n",
      "/home/blagojce/.conda/envs/ml_epfl/lib/python3.6/site-packages/sklearn/linear_model/logistic.py:432: FutureWarning: Default solver will be changed to 'lbfgs' in 0.22. Specify a solver to silence this warning.\n",
      "  FutureWarning)\n",
      "/home/blagojce/.conda/envs/ml_epfl/lib/python3.6/site-packages/sklearn/linear_model/logistic.py:432: FutureWarning: Default solver will be changed to 'lbfgs' in 0.22. Specify a solver to silence this warning.\n",
      "  FutureWarning)\n",
      "/home/blagojce/.conda/envs/ml_epfl/lib/python3.6/site-packages/sklearn/linear_model/logistic.py:432: FutureWarning: Default solver will be changed to 'lbfgs' in 0.22. Specify a solver to silence this warning.\n",
      "  FutureWarning)\n",
      "/home/blagojce/.conda/envs/ml_epfl/lib/python3.6/site-packages/sklearn/linear_model/logistic.py:432: FutureWarning: Default solver will be changed to 'lbfgs' in 0.22. Specify a solver to silence this warning.\n",
      "  FutureWarning)\n",
      "/home/blagojce/.conda/envs/ml_epfl/lib/python3.6/site-packages/sklearn/linear_model/logistic.py:432: FutureWarning: Default solver will be changed to 'lbfgs' in 0.22. Specify a solver to silence this warning.\n",
      "  FutureWarning)\n",
      "/home/blagojce/.conda/envs/ml_epfl/lib/python3.6/site-packages/sklearn/linear_model/logistic.py:432: FutureWarning: Default solver will be changed to 'lbfgs' in 0.22. Specify a solver to silence this warning.\n",
      "  FutureWarning)\n",
      "/home/blagojce/.conda/envs/ml_epfl/lib/python3.6/site-packages/sklearn/linear_model/logistic.py:432: FutureWarning: Default solver will be changed to 'lbfgs' in 0.22. Specify a solver to silence this warning.\n",
      "  FutureWarning)\n",
      "/home/blagojce/.conda/envs/ml_epfl/lib/python3.6/site-packages/matplotlib/axes/_base.py:3012: UserWarning: Attempting to set identical left==right results\n",
      "in singular transformations; automatically expanding.\n",
      "left=1.0, right=1.0\n",
      "  self.set_xlim(upper, lower, auto=None)\n"
     ]
    },
    {
     "data": {
      "image/png": "[encoded data removed]",
      "text/plain": [
       "<Figure size 432x288 with 1 Axes>"
      ]
     },
     "metadata": {
      "needs_background": "light"
     },
     "output_type": "display_data"
    },
    {
     "name": "stdout",
     "output_type": "stream",
     "text": [
      "[0.2676634391418847]\n",
      "[0.39455962655832183]\n",
      "[1, 1, 1, 1, 1, 1, 1, 1]\n",
      "0.8496804126496098\n",
      "[0.7581515110448571, 0.9378764675855027, 0.785873741703979, 0.8803057025279248, 0.8190660293359577, 0.9055743879472693, 0.8127874489576616, 0.8978080120937264]\n",
      "0.8427283745867784\n",
      "[0.7570266973844695, 0.9370214395099541, 0.7849385538725351, 0.8744708994708995, 0.8183677773091522, 0.8898305084745763, 0.8107833655705996, 0.8693877551020408]\n"
     ]
    }
   ],
   "source": [
    "number_of_models = 8\n",
    "\n",
    "best_lambdas = []\n",
    "acc_train = []\n",
    "acc_test = []\n",
    "for i in range(number_of_models):\n",
    "    x_tr = x_train_sep[i]\n",
    "    y_tr = y_train_sep[i]\n",
    "\n",
    "    #lambdas = np.logspace(-5, 1, 5)\n",
    "    #lambdas = [0.0001, 0.001, 0.01, 0.1, 1]\n",
    "    lambdas = [1]\n",
    "    lambda_, acc_tr, acc_te = cross_validation(x_tr, y_tr, lambdas, poly_degree=3, norm=\"std\", method=\"SKL\")\n",
    "    best_lambdas.append(lambda_)\n",
    "    acc_train.append(acc_tr)\n",
    "    acc_test.append(acc_te)\n",
    "    \n",
    "print(best_lambdas)\n",
    "print(np.mean(acc_train))\n",
    "print(acc_train)\n",
    "print(np.mean(acc_test))\n",
    "print(acc_test)"
   ]
  },
  {
   "cell_type": "code",
   "execution_count": 144,
   "metadata": {
    "scrolled": true
   },
   "outputs": [
    {
     "name": "stdout",
     "output_type": "stream",
     "text": [
      "NEW LAMBDA: 1e-07\n",
      "Itteration: 0, Loss: 7.620813914681056\n",
      "Itteration: 300, Loss: 1.3506235256939967\n",
      "Itteration: 600, Loss: 0.9693408625909237\n",
      "Itteration: 900, Loss: 0.8246686624277985\n",
      "Itteration: 1200, Loss: 0.8428302236331084\n",
      "Itteration: 1500, Loss: 0.6947707623718862\n",
      "Itteration: 1800, Loss: 0.6433902845032006\n",
      "Itteration: 2100, Loss: 0.6790899730106562\n",
      "Itteration: 2400, Loss: 0.6036834245906115\n",
      "Itteration: 2700, Loss: 0.5807848923479793\n",
      "Itteration: 0, Loss: 4.141093703715015\n",
      "Itteration: 300, Loss: 1.4189169336431908\n",
      "Itteration: 600, Loss: 0.9918161641370894\n",
      "Itteration: 900, Loss: 0.8717360275859484\n",
      "Itteration: 1200, Loss: 0.7941381821144898\n",
      "Itteration: 1500, Loss: 0.7350220981026087\n",
      "Itteration: 1800, Loss: 0.6880688540437465\n",
      "Itteration: 2100, Loss: 0.6507971554959298\n",
      "Itteration: 2400, Loss: 0.6208372586633036\n",
      "Itteration: 2700, Loss: 0.5965729929176404\n",
      "Itteration: 0, Loss: 83.08642823349903\n",
      "Itteration: 300, Loss: 1.7076959651339845\n",
      "Itteration: 600, Loss: 1.2122005741406965\n",
      "Itteration: 900, Loss: 0.9885169514596395\n",
      "Itteration: 1200, Loss: 0.8625301775259582\n",
      "Itteration: 1500, Loss: 0.7790940158029758\n",
      "Itteration: 1800, Loss: 0.7188308609152558\n",
      "Itteration: 2100, Loss: 0.673881632531727\n",
      "Itteration: 2400, Loss: 0.6402627803992251\n",
      "Itteration: 2700, Loss: 0.6162126369987996\n",
      "Itteration: 0, Loss: 15.700433342231218\n",
      "Itteration: 300, Loss: 1.771337565613296\n",
      "Itteration: 600, Loss: 1.411914941431869\n",
      "Itteration: 900, Loss: 1.228984687817609\n",
      "Itteration: 1200, Loss: 1.1126855766132722\n",
      "Itteration: 1500, Loss: 1.0236826402771422\n",
      "Itteration: 1800, Loss: 0.9505396628256356\n",
      "Itteration: 2100, Loss: 0.8879721145281415\n",
      "Itteration: 2400, Loss: 0.8334141247408822\n",
      "Itteration: 2700, Loss: 0.7855895516911042\n",
      "Itteration: 0, Loss: 9.955697269410948\n",
      "Itteration: 300, Loss: 2.1073430710630348\n",
      "Itteration: 600, Loss: 1.4846911051713865\n",
      "Itteration: 900, Loss: 1.1968240596589077\n",
      "Itteration: 1200, Loss: 1.0145695727971882\n",
      "Itteration: 1500, Loss: 0.8820823094327302\n",
      "Itteration: 1800, Loss: 0.7902227189417695\n",
      "Itteration: 2100, Loss: 0.7206878432874576\n",
      "Itteration: 2400, Loss: 0.6674303255237435\n",
      "Itteration: 2700, Loss: 0.6270915251015671\n",
      "Itteration: 0, Loss: 4.916175579735355\n",
      "Itteration: 300, Loss: 1.6218317086729377\n",
      "Itteration: 600, Loss: 1.22761966780113\n",
      "Itteration: 900, Loss: 1.0033616276732098\n",
      "Itteration: 1200, Loss: 0.858283539872471\n",
      "Itteration: 1500, Loss: 0.7653175420591791\n",
      "Itteration: 1800, Loss: 0.703329624607001\n",
      "Itteration: 2100, Loss: 0.6593479826710402\n",
      "Itteration: 2400, Loss: 0.6275858615711574\n",
      "Itteration: 2700, Loss: 0.6036772254028675\n",
      "Itteration: 0, Loss: 4.069973730649107\n",
      "Itteration: 300, Loss: 2.3423985372698426\n",
      "Itteration: 600, Loss: 1.6630101081272495\n",
      "Itteration: 900, Loss: 1.266366609234981\n",
      "Itteration: 1200, Loss: 1.187385699648904\n",
      "Itteration: 1500, Loss: 0.9618457234561927\n",
      "Itteration: 1800, Loss: 0.8537942343118843\n",
      "Itteration: 2100, Loss: 0.7756069676947146\n",
      "Itteration: 2400, Loss: 0.7130646352591826\n",
      "Itteration: 2700, Loss: 0.6632749979653274\n",
      "Itteration: 0, Loss: 5.980688222429815\n",
      "Itteration: 300, Loss: 1.223460009140973\n",
      "Itteration: 600, Loss: 0.9657788734955123\n",
      "Itteration: 900, Loss: 0.8117309048514962\n",
      "Itteration: 1200, Loss: 0.7069673591159823\n",
      "Itteration: 1500, Loss: 0.6416994609183047\n",
      "Itteration: 1800, Loss: 0.6049714340395376\n",
      "Itteration: 2100, Loss: 0.5787334601525459\n",
      "Itteration: 2400, Loss: 0.5581608034675908\n",
      "Itteration: 2700, Loss: 0.5414964464417629\n",
      "Itteration: 0, Loss: 9.630754719168646\n",
      "Itteration: 300, Loss: 1.7458222586107432\n",
      "Itteration: 600, Loss: 1.2365616005862217\n",
      "Itteration: 900, Loss: 0.9624254756953067\n",
      "Itteration: 1200, Loss: 0.8247157999200598\n",
      "Itteration: 1500, Loss: 0.7325059101080758\n",
      "Itteration: 1800, Loss: 0.6815692076649911\n",
      "Itteration: 2100, Loss: 0.6453172828780721\n",
      "Itteration: 2400, Loss: 0.6182585403353242\n",
      "Itteration: 2700, Loss: 0.5966282141885562\n",
      "Itteration: 0, Loss: 8.49851359741482\n",
      "Itteration: 300, Loss: 2.217529681253185\n",
      "Itteration: 600, Loss: 1.4321116322806855\n",
      "Itteration: 900, Loss: 1.1187037973570684\n",
      "Itteration: 1200, Loss: 0.9398669237659258\n",
      "Itteration: 1500, Loss: 0.9894076146814563\n",
      "Itteration: 1800, Loss: 0.767239124348796\n",
      "Itteration: 2100, Loss: 0.6972230528532741\n",
      "Itteration: 2400, Loss: 0.7622408331403289\n",
      "Itteration: 2700, Loss: 0.6375752963609661\n"
     ]
    },
    {
     "name": "stderr",
     "output_type": "stream",
     "text": [
      "/home/blagojce/.conda/envs/ml_epfl/lib/python3.6/site-packages/matplotlib/axes/_base.py:3012: UserWarning: Attempting to set identical left==right results\n",
      "in singular transformations; automatically expanding.\n",
      "left=1e-07, right=1e-07\n",
      "  self.set_xlim(upper, lower, auto=None)\n"
     ]
    },
    {
     "data": {
      "image/png": "[encoded data removed]",
      "text/plain": [
       "<Figure size 432x288 with 1 Axes>"
      ]
     },
     "metadata": {
      "needs_background": "light"
     },
     "output_type": "display_data"
    },
    {
     "name": "stdout",
     "output_type": "stream",
     "text": [
      "[0.5996327828003006]\n",
      "[0.6048611364614352]\n",
      "NEW LAMBDA: 1e-07\n",
      "Itteration: 0, Loss: 12.840480160724214\n",
      "Itteration: 300, Loss: 2.3681442959232832\n",
      "Itteration: 600, Loss: 1.260924018069236\n",
      "Itteration: 900, Loss: 0.8010331554615839\n",
      "Itteration: 1200, Loss: 0.6333263238211546\n",
      "Itteration: 1500, Loss: 0.554481937876491\n",
      "Itteration: 1800, Loss: 0.4984687144629468\n",
      "Itteration: 2100, Loss: 0.4546967356893505\n",
      "Itteration: 2400, Loss: 0.4217528624201592\n",
      "Itteration: 2700, Loss: 0.398407060593795\n",
      "Itteration: 0, Loss: 16.74106275054792\n",
      "Itteration: 300, Loss: 3.1517662328435736\n",
      "Itteration: 600, Loss: 1.741868796443854\n",
      "Itteration: 900, Loss: 1.0845834783626511\n",
      "Itteration: 1200, Loss: 0.7992937207353117\n",
      "Itteration: 1500, Loss: 0.6738809425664029\n",
      "Itteration: 1800, Loss: 0.6053909583060655\n",
      "Itteration: 2100, Loss: 0.5646407820092586\n",
      "Itteration: 2400, Loss: 0.5384263971954344\n",
      "Itteration: 2700, Loss: 0.5039863689547838\n",
      "Itteration: 0, Loss: 8.78312011152607\n",
      "Itteration: 300, Loss: 3.4532546662598045\n",
      "Itteration: 600, Loss: 2.3914265507831654\n",
      "Itteration: 900, Loss: 1.854013405604328\n",
      "Itteration: 1200, Loss: 1.5568203074063718\n",
      "Itteration: 1500, Loss: 1.3610828329974496\n",
      "Itteration: 1800, Loss: 1.199237045489502\n",
      "Itteration: 2100, Loss: 1.0706977155300483\n",
      "Itteration: 2400, Loss: 0.9428686418208194\n",
      "Itteration: 2700, Loss: 0.8529643376097299\n",
      "Itteration: 0, Loss: 18.96693163456969\n",
      "Itteration: 300, Loss: 4.133436633391714\n",
      "Itteration: 600, Loss: 1.437262356734884\n",
      "Itteration: 900, Loss: 1.0041117032924152\n",
      "Itteration: 1200, Loss: 0.7685195066964567\n",
      "Itteration: 1500, Loss: 0.6227060694054111\n",
      "Itteration: 1800, Loss: 0.5291197900213587\n",
      "Itteration: 2100, Loss: 0.4823109796356912\n",
      "Itteration: 2400, Loss: 0.44863560332787644\n",
      "Itteration: 2700, Loss: 0.4237511252368863\n",
      "Itteration: 0, Loss: 8.979866453087816\n",
      "Itteration: 300, Loss: 2.5032448359493746\n",
      "Itteration: 600, Loss: 1.5069499740650458\n",
      "Itteration: 900, Loss: 1.026968991511957\n",
      "Itteration: 1200, Loss: 0.7946962569502528\n",
      "Itteration: 1500, Loss: 0.6763158374540642\n",
      "Itteration: 1800, Loss: 0.6043290797440783\n",
      "Itteration: 2100, Loss: 0.554586588328523\n",
      "Itteration: 2400, Loss: 0.5209560157235138\n",
      "Itteration: 2700, Loss: 0.4942550409040145\n",
      "Itteration: 0, Loss: 11.46351705775407\n",
      "Itteration: 300, Loss: 1.867250843173466\n",
      "Itteration: 600, Loss: 1.2965860995123166\n",
      "Itteration: 900, Loss: 0.9985142539221901\n",
      "Itteration: 1200, Loss: 0.8021695201714943\n",
      "Itteration: 1500, Loss: 0.6940425197593361\n",
      "Itteration: 1800, Loss: 0.6370557876375134\n",
      "Itteration: 2100, Loss: 0.5962187489833626\n",
      "Itteration: 2400, Loss: 0.5704124442831874\n",
      "Itteration: 2700, Loss: 0.5439088832138441\n",
      "Itteration: 0, Loss: 18.618011424491385\n",
      "Itteration: 300, Loss: 4.420616416390196\n",
      "Itteration: 600, Loss: 2.134932342888163\n",
      "Itteration: 900, Loss: 1.7132571619545616\n",
      "Itteration: 1200, Loss: 1.4790866560610165\n",
      "Itteration: 1500, Loss: 1.3090542166594914\n",
      "Itteration: 1800, Loss: 1.1753830401779664\n",
      "Itteration: 2100, Loss: 1.0679193173193662\n",
      "Itteration: 2400, Loss: 0.9658029338521212\n",
      "Itteration: 2700, Loss: 0.8901537826950721\n",
      "Itteration: 0, Loss: 6.545628483476265\n",
      "Itteration: 300, Loss: 1.8359667199429175\n",
      "Itteration: 600, Loss: 1.3342031484763952\n",
      "Itteration: 900, Loss: 1.1631767510440554\n",
      "Itteration: 1200, Loss: 1.0320988930956958\n",
      "Itteration: 1500, Loss: 0.9462829591786034\n",
      "Itteration: 1800, Loss: 0.8772618334407145\n",
      "Itteration: 2100, Loss: 0.8017223131199783\n",
      "Itteration: 2400, Loss: 0.7407730430911186\n",
      "Itteration: 2700, Loss: 0.6877211698707613\n",
      "Itteration: 0, Loss: 13.236862955752937\n",
      "Itteration: 300, Loss: 2.773268928902228\n",
      "Itteration: 600, Loss: 1.140555068742493\n",
      "Itteration: 900, Loss: 0.7416694402281394\n",
      "Itteration: 1200, Loss: 0.5975979045761708\n",
      "Itteration: 1500, Loss: 0.5329351581923261\n",
      "Itteration: 1800, Loss: 0.49678572321523484\n",
      "Itteration: 2100, Loss: 0.47155928015416454\n",
      "Itteration: 2400, Loss: 0.4498429621067377\n",
      "Itteration: 2700, Loss: 0.4351249118820703\n",
      "Itteration: 0, Loss: 12.95877228937168\n",
      "Itteration: 300, Loss: 2.931315505953272\n",
      "Itteration: 600, Loss: 1.2772800035391494\n",
      "Itteration: 900, Loss: 0.9530357919169601\n",
      "Itteration: 1200, Loss: 0.8518583015509598\n",
      "Itteration: 1500, Loss: 0.7855425448656193\n",
      "Itteration: 1800, Loss: 0.7341723195387656\n",
      "Itteration: 2100, Loss: 0.6851378225783574\n",
      "Itteration: 2400, Loss: 0.6467461291431649\n",
      "Itteration: 2700, Loss: 0.6020804074916678\n"
     ]
    },
    {
     "data": {
      "image/png": "[encoded data removed]",
      "text/plain": [
       "<Figure size 432x288 with 1 Axes>"
      ]
     },
     "metadata": {
      "needs_background": "light"
     },
     "output_type": "display_data"
    },
    {
     "name": "stdout",
     "output_type": "stream",
     "text": [
      "[0.5516195986745351]\n",
      "[0.6166848260613044]\n",
      "NEW LAMBDA: 1e-07\n",
      "Itteration: 0, Loss: 6.296768986992765\n",
      "Itteration: 300, Loss: 2.4112592350574467\n",
      "Itteration: 600, Loss: 1.443151705972464\n",
      "Itteration: 900, Loss: 1.1731898420599256\n",
      "Itteration: 1200, Loss: 1.023462763518449\n",
      "Itteration: 1500, Loss: 0.9288167875650885\n",
      "Itteration: 1800, Loss: 0.860021955121554\n",
      "Itteration: 2100, Loss: 0.8067109449258499\n",
      "Itteration: 2400, Loss: 0.764379160703319\n",
      "Itteration: 2700, Loss: 0.728757167797012\n",
      "Itteration: 0, Loss: 12.596668182673252\n",
      "Itteration: 300, Loss: 2.4911884528213974\n",
      "Itteration: 600, Loss: 1.7063105057853154\n",
      "Itteration: 900, Loss: 1.3016394394943736\n",
      "Itteration: 1200, Loss: 1.076939668933832\n",
      "Itteration: 1500, Loss: 0.9358049666064121\n",
      "Itteration: 1800, Loss: 0.8347789621237973\n",
      "Itteration: 2100, Loss: 0.7550364204105836\n",
      "Itteration: 2400, Loss: 0.6941080274028611\n",
      "Itteration: 2700, Loss: 0.6510835399104965\n",
      "Itteration: 0, Loss: 15.676459660304626\n",
      "Itteration: 300, Loss: 2.364057841038668\n",
      "Itteration: 600, Loss: 1.6253565258193212\n",
      "Itteration: 900, Loss: 1.3030609915229778\n",
      "Itteration: 1200, Loss: 1.1177042685963774\n",
      "Itteration: 1500, Loss: 0.9915638918399575\n",
      "Itteration: 1800, Loss: 0.8999763656554142\n",
      "Itteration: 2100, Loss: 0.8291921284779307\n",
      "Itteration: 2400, Loss: 0.7723777466632323\n",
      "Itteration: 2700, Loss: 0.726052847009922\n",
      "Itteration: 0, Loss: 22.78893678141498\n",
      "Itteration: 300, Loss: 2.9418330499434666\n",
      "Itteration: 600, Loss: 2.0572691435487123\n",
      "Itteration: 900, Loss: 1.637259745841054\n",
      "Itteration: 1200, Loss: 1.3584231947149843\n",
      "Itteration: 1500, Loss: 1.1531323867519172\n",
      "Itteration: 1800, Loss: 1.0054625957044034\n",
      "Itteration: 2100, Loss: 0.8979862308917317\n",
      "Itteration: 2400, Loss: 0.8188394281717141\n",
      "Itteration: 2700, Loss: 0.758666301988513\n",
      "Itteration: 0, Loss: 15.313449271220138\n",
      "Itteration: 300, Loss: 3.2817778389426664\n",
      "Itteration: 600, Loss: 1.9989788405429199\n",
      "Itteration: 900, Loss: 1.4144661185731544\n",
      "Itteration: 1200, Loss: 1.1466855042681516\n",
      "Itteration: 1500, Loss: 0.9994350545682433\n",
      "Itteration: 1800, Loss: 0.9024004006337965\n",
      "Itteration: 2100, Loss: 0.8327161894647531\n",
      "Itteration: 2400, Loss: 0.7802471518088675\n",
      "Itteration: 2700, Loss: 0.7391902796711046\n",
      "Itteration: 0, Loss: 16.44966481502176\n",
      "Itteration: 300, Loss: 1.8173943104101022\n",
      "Itteration: 600, Loss: 1.3049630321463452\n",
      "Itteration: 900, Loss: 1.066604511883825\n",
      "Itteration: 1200, Loss: 0.9209417479759308\n",
      "Itteration: 1500, Loss: 0.8212516175490162\n",
      "Itteration: 1800, Loss: 0.7575156139667633\n",
      "Itteration: 2100, Loss: 0.7090682573921029\n",
      "Itteration: 2400, Loss: 0.6711342918887528\n",
      "Itteration: 2700, Loss: 0.641189685912622\n",
      "Itteration: 0, Loss: 12.610996323028576\n",
      "Itteration: 300, Loss: 2.7975274723676384\n",
      "Itteration: 600, Loss: 1.871954386340553\n",
      "Itteration: 900, Loss: 1.3468322445539096\n",
      "Itteration: 1200, Loss: 1.0775670346765467\n",
      "Itteration: 1500, Loss: 0.9447262677750305\n",
      "Itteration: 1800, Loss: 0.860644953071776\n",
      "Itteration: 2100, Loss: 0.7962679085227681\n",
      "Itteration: 2400, Loss: 0.743221612200593\n",
      "Itteration: 2700, Loss: 0.6995292572692783\n",
      "Itteration: 0, Loss: 11.78481695087109\n",
      "Itteration: 300, Loss: 3.4448768109047183\n",
      "Itteration: 600, Loss: 1.650771467074584\n",
      "Itteration: 900, Loss: 1.1304947405959482\n",
      "Itteration: 1200, Loss: 0.9485777325801584\n",
      "Itteration: 1500, Loss: 0.838464931453417\n",
      "Itteration: 1800, Loss: 0.7650221503151186\n",
      "Itteration: 2100, Loss: 0.7126330537921359\n",
      "Itteration: 2400, Loss: 0.6735549781734488\n",
      "Itteration: 2700, Loss: 0.6434580034222648\n",
      "Itteration: 0, Loss: 7.128224900271677\n",
      "Itteration: 300, Loss: 3.2268300785741273\n",
      "Itteration: 600, Loss: 2.0893967810746696\n",
      "Itteration: 900, Loss: 1.6588135332381495\n",
      "Itteration: 1200, Loss: 1.3984462006081235\n",
      "Itteration: 1500, Loss: 1.2042013702810113\n",
      "Itteration: 1800, Loss: 1.0508291252423319\n",
      "Itteration: 2100, Loss: 0.9312631353842584\n",
      "Itteration: 2400, Loss: 0.838763049307191\n",
      "Itteration: 2700, Loss: 0.7657588009524969\n",
      "Itteration: 0, Loss: 14.253429169135192\n",
      "Itteration: 300, Loss: 2.0713791518654174\n",
      "Itteration: 600, Loss: 1.3425386166123947\n",
      "Itteration: 900, Loss: 1.110191914820896\n",
      "Itteration: 1200, Loss: 0.9667233592723358\n",
      "Itteration: 1500, Loss: 0.8666918475911107\n",
      "Itteration: 1800, Loss: 0.7944787628091137\n",
      "Itteration: 2100, Loss: 0.7412817645915221\n",
      "Itteration: 2400, Loss: 0.7011393659718715\n",
      "Itteration: 2700, Loss: 0.6699771861715208\n"
     ]
    },
    {
     "data": {
      "image/png": "[encoded data removed]",
      "text/plain": [
       "<Figure size 432x288 with 1 Axes>"
      ]
     },
     "metadata": {
      "needs_background": "light"
     },
     "output_type": "display_data"
    },
    {
     "name": "stdout",
     "output_type": "stream",
     "text": [
      "[0.6681695054387674]\n",
      "[0.6791039060694926]\n",
      "NEW LAMBDA: 1e-07\n",
      "Itteration: 0, Loss: 11.76020190043604\n",
      "Itteration: 300, Loss: 7.981446787880706\n",
      "Itteration: 600, Loss: 5.997499077216952\n",
      "Itteration: 900, Loss: 4.719997588472968\n",
      "Itteration: 1200, Loss: 3.729379505646815\n",
      "Itteration: 1500, Loss: 3.0308634841416273\n",
      "Itteration: 1800, Loss: 2.4879213699805307\n",
      "Itteration: 2100, Loss: 2.0703371933157495\n",
      "Itteration: 2400, Loss: 1.7493067964288282\n",
      "Itteration: 2700, Loss: 1.5011946650490366\n",
      "Itteration: 0, Loss: 16.415339985202415\n",
      "Itteration: 300, Loss: 11.18597508693661\n",
      "Itteration: 600, Loss: 6.872048253866265\n",
      "Itteration: 900, Loss: 5.122887117144246\n",
      "Itteration: 1200, Loss: 4.418146558369611\n",
      "Itteration: 1500, Loss: 3.8402505732956267\n",
      "Itteration: 1800, Loss: 3.3394443174974806\n",
      "Itteration: 2100, Loss: 2.8997425543407873\n",
      "Itteration: 2400, Loss: 2.5112884920300544\n",
      "Itteration: 2700, Loss: 2.167630806049446\n",
      "Itteration: 0, Loss: 8.634836138029293\n",
      "Itteration: 300, Loss: 6.012712557832621\n",
      "Itteration: 600, Loss: 4.280310607326843\n",
      "Itteration: 900, Loss: 3.082791536597799\n",
      "Itteration: 1200, Loss: 2.3866086418340844\n",
      "Itteration: 1500, Loss: 1.920941865178015\n",
      "Itteration: 1800, Loss: 1.66902888209215\n",
      "Itteration: 2100, Loss: 1.4757608894735488\n",
      "Itteration: 2400, Loss: 1.3331359051600193\n",
      "Itteration: 2700, Loss: 1.2240775180252876\n",
      "Itteration: 0, Loss: 10.322494008809803\n",
      "Itteration: 300, Loss: 6.370390031272653\n",
      "Itteration: 600, Loss: 4.284135194391524\n",
      "Itteration: 900, Loss: 3.238782479874667\n",
      "Itteration: 1200, Loss: 2.8061295574448066\n",
      "Itteration: 1500, Loss: 2.4844131045011326\n",
      "Itteration: 1800, Loss: 2.2117998781352086\n",
      "Itteration: 2100, Loss: 1.9814304509266367\n",
      "Itteration: 2400, Loss: 1.7852392999679711\n",
      "Itteration: 2700, Loss: 1.6187521981728459\n",
      "Itteration: 0, Loss: 8.759660046674785\n",
      "Itteration: 300, Loss: 5.7999982534821175\n",
      "Itteration: 600, Loss: 4.2898820755705565\n",
      "Itteration: 900, Loss: 3.1850403359068125\n",
      "Itteration: 1200, Loss: 2.4595114193551737\n",
      "Itteration: 1500, Loss: 2.07246372291088\n",
      "Itteration: 1800, Loss: 1.8960156137615267\n",
      "Itteration: 2100, Loss: 1.7688333998170984\n",
      "Itteration: 2400, Loss: 1.660571303890247\n",
      "Itteration: 2700, Loss: 1.5678335315606247\n",
      "Itteration: 0, Loss: 11.83646068714458\n",
      "Itteration: 300, Loss: 6.03846978199339\n",
      "Itteration: 600, Loss: 3.4444320280799814\n",
      "Itteration: 900, Loss: 2.756893757388691\n",
      "Itteration: 1200, Loss: 2.389235452472731\n",
      "Itteration: 1500, Loss: 2.128745294082463\n",
      "Itteration: 1800, Loss: 1.9459345149359082\n",
      "Itteration: 2100, Loss: 1.8054175847533762\n",
      "Itteration: 2400, Loss: 1.6904953742514457\n",
      "Itteration: 2700, Loss: 1.5930443228846867\n",
      "Itteration: 0, Loss: 9.570761166179597\n",
      "Itteration: 300, Loss: 5.759159926851175\n",
      "Itteration: 600, Loss: 3.714224269405528\n",
      "Itteration: 900, Loss: 3.0630512872013678\n",
      "Itteration: 1200, Loss: 2.583373851296192\n",
      "Itteration: 1500, Loss: 2.2264449328402964\n",
      "Itteration: 1800, Loss: 1.9568222630430276\n",
      "Itteration: 2100, Loss: 1.7505715250557887\n",
      "Itteration: 2400, Loss: 1.5767758768365079\n",
      "Itteration: 2700, Loss: 1.4263186144134397\n",
      "Itteration: 0, Loss: 16.124708974219345\n",
      "Itteration: 300, Loss: 11.5234759848551\n",
      "Itteration: 600, Loss: 8.229314083049243\n",
      "Itteration: 900, Loss: 5.799106379515615\n",
      "Itteration: 1200, Loss: 4.602835181130736\n",
      "Itteration: 1500, Loss: 3.8736585460699047\n",
      "Itteration: 1800, Loss: 3.3003259170661097\n",
      "Itteration: 2100, Loss: 2.858685210249707\n",
      "Itteration: 2400, Loss: 2.6246543910368443\n",
      "Itteration: 2700, Loss: 2.4337789549009723\n",
      "Itteration: 0, Loss: 17.530744007543046\n",
      "Itteration: 300, Loss: 12.402978947980866\n",
      "Itteration: 600, Loss: 8.61078079607627\n",
      "Itteration: 900, Loss: 6.15643378774366\n",
      "Itteration: 1200, Loss: 4.341343090741346\n",
      "Itteration: 1500, Loss: 3.248280188516264\n",
      "Itteration: 1800, Loss: 2.4760198966617826\n",
      "Itteration: 2100, Loss: 1.9785624364758216\n",
      "Itteration: 2400, Loss: 1.6959966435632887\n",
      "Itteration: 2700, Loss: 1.5045617422875421\n",
      "Itteration: 0, Loss: 9.508285358630085\n",
      "Itteration: 300, Loss: 6.024224523437313\n",
      "Itteration: 600, Loss: 4.565859722022938\n",
      "Itteration: 900, Loss: 3.802513781030259\n",
      "Itteration: 1200, Loss: 3.261006917356124\n",
      "Itteration: 1500, Loss: 2.8171582854657764\n",
      "Itteration: 1800, Loss: 2.447882549209243\n",
      "Itteration: 2100, Loss: 2.145978576961379\n",
      "Itteration: 2400, Loss: 1.9000042050611485\n",
      "Itteration: 2700, Loss: 1.7130566985270639\n"
     ]
    },
    {
     "data": {
      "image/png": "[encoded data removed]",
      "text/plain": [
       "<Figure size 432x288 with 1 Axes>"
      ]
     },
     "metadata": {
      "needs_background": "light"
     },
     "output_type": "display_data"
    },
    {
     "name": "stdout",
     "output_type": "stream",
     "text": [
      "[1.53392960542091]\n",
      "[1.7212822590825865]\n",
      "NEW LAMBDA: 1e-07\n",
      "Itteration: 0, Loss: 11.296510866646694\n",
      "Itteration: 300, Loss: 3.810758297768113\n",
      "Itteration: 600, Loss: 2.6789080579825324\n",
      "Itteration: 900, Loss: 1.918781537070689\n",
      "Itteration: 1200, Loss: 1.457690969306443\n",
      "Itteration: 1500, Loss: 1.1858025682665871\n",
      "Itteration: 1800, Loss: 1.021495870559962\n",
      "Itteration: 2100, Loss: 0.9203638330365763\n",
      "Itteration: 2400, Loss: 0.8517716631062334\n",
      "Itteration: 2700, Loss: 0.7994154689730681\n",
      "Itteration: 0, Loss: 10.846189251211932\n",
      "Itteration: 300, Loss: 3.0643140278877166\n",
      "Itteration: 600, Loss: 2.312079295807382\n",
      "Itteration: 900, Loss: 1.880206393292484\n",
      "Itteration: 1200, Loss: 1.5798532432868664\n",
      "Itteration: 1500, Loss: 1.3601815870213618\n",
      "Itteration: 1800, Loss: 1.1967330651098003\n",
      "Itteration: 2100, Loss: 1.0727167322927984\n",
      "Itteration: 2400, Loss: 0.975910551627607\n",
      "Itteration: 2700, Loss: 0.8974196592759885\n",
      "Itteration: 0, Loss: 9.684421190192005\n",
      "Itteration: 300, Loss: 3.445303604902401\n",
      "Itteration: 600, Loss: 2.6490510503527984\n",
      "Itteration: 900, Loss: 2.214707601373692\n",
      "Itteration: 1200, Loss: 1.9141490667017225\n",
      "Itteration: 1500, Loss: 1.686682662604722\n",
      "Itteration: 1800, Loss: 1.5089451997756993\n",
      "Itteration: 2100, Loss: 1.3665575350416568\n",
      "Itteration: 2400, Loss: 1.2506343578257715\n",
      "Itteration: 2700, Loss: 1.154887645567552\n",
      "Itteration: 0, Loss: 14.415916236266781\n",
      "Itteration: 300, Loss: 4.305658898118645\n",
      "Itteration: 600, Loss: 3.1125493086638794\n",
      "Itteration: 900, Loss: 2.431279619865255\n",
      "Itteration: 1200, Loss: 1.9602891763647177\n",
      "Itteration: 1500, Loss: 1.6210154091275928\n",
      "Itteration: 1800, Loss: 1.3732369458989164\n",
      "Itteration: 2100, Loss: 1.2060088863352765\n",
      "Itteration: 2400, Loss: 1.0912970190309979\n",
      "Itteration: 2700, Loss: 1.002547023276695\n",
      "Itteration: 0, Loss: 13.573601876839193\n",
      "Itteration: 300, Loss: 3.5079801773246913\n",
      "Itteration: 600, Loss: 2.7253860574410016\n",
      "Itteration: 900, Loss: 2.2351479568946155\n",
      "Itteration: 1200, Loss: 1.8763817801069806\n",
      "Itteration: 1500, Loss: 1.6040047101998103\n",
      "Itteration: 1800, Loss: 1.3860431667957775\n",
      "Itteration: 2100, Loss: 1.2145555862408033\n",
      "Itteration: 2400, Loss: 1.0818753880299805\n",
      "Itteration: 2700, Loss: 0.9793089952964199\n",
      "Itteration: 0, Loss: 13.349993953702509\n",
      "Itteration: 300, Loss: 3.098225267002609\n",
      "Itteration: 600, Loss: 2.3180268492755274\n",
      "Itteration: 900, Loss: 1.8779249759906145\n",
      "Itteration: 1200, Loss: 1.5805234678316227\n",
      "Itteration: 1500, Loss: 1.378282416459947\n",
      "Itteration: 1800, Loss: 1.235122195117892\n",
      "Itteration: 2100, Loss: 1.1262060607912758\n",
      "Itteration: 2400, Loss: 1.0385446056930796\n",
      "Itteration: 2700, Loss: 0.9656574187070786\n",
      "Itteration: 0, Loss: 13.702428658367545\n",
      "Itteration: 300, Loss: 3.8072884804628337\n",
      "Itteration: 600, Loss: 1.921000545126592\n",
      "Itteration: 900, Loss: 1.4293395551971124\n",
      "Itteration: 1200, Loss: 1.193124177742735\n",
      "Itteration: 1500, Loss: 1.0351476545587244\n",
      "Itteration: 1800, Loss: 0.9259515026327676\n",
      "Itteration: 2100, Loss: 0.8557547516292022\n",
      "Itteration: 2400, Loss: 0.8001620938881012\n",
      "Itteration: 2700, Loss: 0.7544769422051052\n",
      "Itteration: 0, Loss: 13.506379605366956\n",
      "Itteration: 300, Loss: 5.010760183481586\n",
      "Itteration: 600, Loss: 2.595533573132574\n",
      "Itteration: 900, Loss: 1.9119868805152038\n",
      "Itteration: 1200, Loss: 1.5976425206579306\n",
      "Itteration: 1500, Loss: 1.3521076023365006\n",
      "Itteration: 1800, Loss: 1.1552657493751823\n",
      "Itteration: 2100, Loss: 0.9983074044430793\n",
      "Itteration: 2400, Loss: 0.8744671760436731\n",
      "Itteration: 2700, Loss: 0.7793857634478107\n",
      "Itteration: 0, Loss: 18.93145812451362\n",
      "Itteration: 300, Loss: 4.185008077845733\n",
      "Itteration: 600, Loss: 2.816730340880043\n",
      "Itteration: 900, Loss: 2.156456449984139\n",
      "Itteration: 1200, Loss: 1.7108890168747268\n",
      "Itteration: 1500, Loss: 1.4162755930631379\n",
      "Itteration: 1800, Loss: 1.2247131676452743\n",
      "Itteration: 2100, Loss: 1.0966579762661615\n",
      "Itteration: 2400, Loss: 1.0057556225007993\n",
      "Itteration: 2700, Loss: 0.9370569080107981\n",
      "Itteration: 0, Loss: 10.322385675719106\n",
      "Itteration: 300, Loss: 3.7058161700674033\n",
      "Itteration: 600, Loss: 2.496700508002839\n",
      "Itteration: 900, Loss: 2.0562407464563623\n",
      "Itteration: 1200, Loss: 1.74498852040419\n",
      "Itteration: 1500, Loss: 1.5071918186481603\n",
      "Itteration: 1800, Loss: 1.3336130473722638\n",
      "Itteration: 2100, Loss: 1.2131917818495646\n",
      "Itteration: 2400, Loss: 1.1158230359855883\n",
      "Itteration: 2700, Loss: 1.0345215415815263\n"
     ]
    },
    {
     "data": {
      "image/png": "[encoded data removed]",
      "text/plain": [
       "<Figure size 432x288 with 1 Axes>"
      ]
     },
     "metadata": {
      "needs_background": "light"
     },
     "output_type": "display_data"
    },
    {
     "name": "stdout",
     "output_type": "stream",
     "text": [
      "[0.8669068481245406]\n",
      "[0.8921125233471097]\n",
      "NEW LAMBDA: 1e-07\n",
      "Itteration: 0, Loss: 12.763863397146999\n",
      "Itteration: 300, Loss: 10.587550849153379\n",
      "Itteration: 600, Loss: 8.746616263550273\n",
      "Itteration: 900, Loss: 7.166505137873984\n",
      "Itteration: 1200, Loss: 6.22163048394445\n",
      "Itteration: 1500, Loss: 5.8520319945803125\n",
      "Itteration: 1800, Loss: 5.495635368202199\n",
      "Itteration: 2100, Loss: 5.157729137205569\n",
      "Itteration: 2400, Loss: 4.839614870624535\n",
      "Itteration: 2700, Loss: 4.550011854011097\n",
      "Itteration: 0, Loss: 13.42797930527501\n",
      "Itteration: 300, Loss: 10.89249045155795\n",
      "Itteration: 600, Loss: 9.126377690160165\n",
      "Itteration: 900, Loss: 7.625555875489161\n",
      "Itteration: 1200, Loss: 6.4390911872416945\n",
      "Itteration: 1500, Loss: 5.455538112156394\n",
      "Itteration: 1800, Loss: 4.733585074540287\n",
      "Itteration: 2100, Loss: 4.3041927830140905\n",
      "Itteration: 2400, Loss: 3.9636300980094155\n",
      "Itteration: 2700, Loss: 3.662894665907248\n",
      "Itteration: 0, Loss: 12.149927181858297\n",
      "Itteration: 300, Loss: 9.56785406299484\n",
      "Itteration: 600, Loss: 8.120782194472854\n",
      "Itteration: 900, Loss: 7.1251713367344\n",
      "Itteration: 1200, Loss: 6.307420995504734\n",
      "Itteration: 1500, Loss: 5.618312787726927\n",
      "Itteration: 1800, Loss: 4.995490775373648\n",
      "Itteration: 2100, Loss: 4.426116945993699\n",
      "Itteration: 2400, Loss: 3.9283789565795577\n",
      "Itteration: 2700, Loss: 3.4828093333027614\n",
      "Itteration: 0, Loss: 12.794265839096887\n",
      "Itteration: 300, Loss: 11.187344777615484\n",
      "Itteration: 600, Loss: 9.811810535402008\n",
      "Itteration: 900, Loss: 8.61487035217752\n",
      "Itteration: 1200, Loss: 7.697763878012938\n",
      "Itteration: 1500, Loss: 6.850236381436785\n",
      "Itteration: 1800, Loss: 6.057815032196024\n",
      "Itteration: 2100, Loss: 5.3109519329235395\n",
      "Itteration: 2400, Loss: 4.61853838611028\n",
      "Itteration: 2700, Loss: 3.9888584781893917\n",
      "Itteration: 0, Loss: 15.68770339281721\n",
      "Itteration: 300, Loss: 12.538114264244383\n",
      "Itteration: 600, Loss: 10.80095250348663\n",
      "Itteration: 900, Loss: 9.493442178724235\n",
      "Itteration: 1200, Loss: 8.365387256687702\n",
      "Itteration: 1500, Loss: 7.435103181484118\n",
      "Itteration: 1800, Loss: 6.689812608163413\n",
      "Itteration: 2100, Loss: 6.051218789132468\n",
      "Itteration: 2400, Loss: 5.537808334728793\n",
      "Itteration: 2700, Loss: 5.1350535989049435\n",
      "Itteration: 0, Loss: 7.378190181301143\n",
      "Itteration: 300, Loss: 5.7562781819032764\n",
      "Itteration: 600, Loss: 4.596685385490752\n",
      "Itteration: 900, Loss: 3.881585694481704\n",
      "Itteration: 1200, Loss: 3.5596235428730787\n",
      "Itteration: 1500, Loss: 3.350399495655155\n",
      "Itteration: 1800, Loss: 3.1714016946493455\n",
      "Itteration: 2100, Loss: 3.0165785087122927\n",
      "Itteration: 2400, Loss: 2.875283297848129\n",
      "Itteration: 2700, Loss: 2.7414935154301117\n",
      "Itteration: 0, Loss: 8.16312637031838\n",
      "Itteration: 300, Loss: 7.431169428085515\n",
      "Itteration: 600, Loss: 6.777828744076273\n",
      "Itteration: 900, Loss: 6.223775433120046\n",
      "Itteration: 1200, Loss: 5.738344614112425\n",
      "Itteration: 1500, Loss: 5.320612958363159\n",
      "Itteration: 1800, Loss: 4.955877085686564\n",
      "Itteration: 2100, Loss: 4.649740590270855\n",
      "Itteration: 2400, Loss: 4.389117604166319\n",
      "Itteration: 2700, Loss: 4.15993857234971\n",
      "Itteration: 0, Loss: 6.5463417374780954\n",
      "Itteration: 300, Loss: 5.435142613615745\n",
      "Itteration: 600, Loss: 4.828674199765384\n",
      "Itteration: 900, Loss: 4.284685356360951\n",
      "Itteration: 1200, Loss: 3.8774417913766093\n",
      "Itteration: 1500, Loss: 3.553052802872134\n",
      "Itteration: 1800, Loss: 3.299661825732368\n",
      "Itteration: 2100, Loss: 3.0825826418830466\n",
      "Itteration: 2400, Loss: 2.8914351203586373\n",
      "Itteration: 2700, Loss: 2.730055653153585\n",
      "Itteration: 0, Loss: 12.50918791223515\n",
      "Itteration: 300, Loss: 11.33061335937223\n",
      "Itteration: 600, Loss: 10.251157012313843\n",
      "Itteration: 900, Loss: 9.242951929030117\n",
      "Itteration: 1200, Loss: 8.323028406916091\n",
      "Itteration: 1500, Loss: 7.487097055151252\n",
      "Itteration: 1800, Loss: 6.749645907230454\n",
      "Itteration: 2100, Loss: 6.075519450605106\n",
      "Itteration: 2400, Loss: 5.507389691672843\n",
      "Itteration: 2700, Loss: 5.027636804912308\n",
      "Itteration: 0, Loss: 13.102749603493521\n",
      "Itteration: 300, Loss: 10.720949785263718\n",
      "Itteration: 600, Loss: 8.934147705372254\n",
      "Itteration: 900, Loss: 7.516874244919057\n",
      "Itteration: 1200, Loss: 6.309757242592485\n",
      "Itteration: 1500, Loss: 5.386452335335008\n",
      "Itteration: 1800, Loss: 4.862016680834335\n",
      "Itteration: 2100, Loss: 4.435712255839011\n",
      "Itteration: 2400, Loss: 4.139348822216758\n",
      "Itteration: 2700, Loss: 3.9191322117433707\n"
     ]
    },
    {
     "data": {
      "image/png": "[encoded data removed]",
      "text/plain": [
       "<Figure size 432x288 with 1 Axes>"
      ]
     },
     "metadata": {
      "needs_background": "light"
     },
     "output_type": "display_data"
    },
    {
     "name": "stdout",
     "output_type": "stream",
     "text": [
      "[3.653200134198832]\n",
      "[3.6538908211924577]\n",
      "NEW LAMBDA: 1e-07\n",
      "Itteration: 0, Loss: 14.78660289433382\n",
      "Itteration: 300, Loss: 5.009654959362256\n",
      "Itteration: 600, Loss: 3.2677161016029848\n",
      "Itteration: 900, Loss: 2.584321178957393\n",
      "Itteration: 1200, Loss: 2.1584426075324803\n",
      "Itteration: 1500, Loss: 1.8614614584277858\n",
      "Itteration: 1800, Loss: 1.6453115714060231\n",
      "Itteration: 2100, Loss: 1.4828065277552926\n",
      "Itteration: 2400, Loss: 1.352332361388969\n",
      "Itteration: 2700, Loss: 1.2432367891597835\n",
      "Itteration: 0, Loss: 18.61877456881426\n",
      "Itteration: 300, Loss: 8.966177916801229\n",
      "Itteration: 600, Loss: 5.307143270282083\n",
      "Itteration: 900, Loss: 4.393195489844066\n",
      "Itteration: 1200, Loss: 3.811655445506743\n",
      "Itteration: 1500, Loss: 3.416339096896219\n",
      "Itteration: 1800, Loss: 3.1012516413375697\n",
      "Itteration: 2100, Loss: 2.8253529775372597\n",
      "Itteration: 2400, Loss: 2.584268313275798\n",
      "Itteration: 2700, Loss: 2.3751238977790092\n",
      "Itteration: 0, Loss: 25.35515534399374\n",
      "Itteration: 300, Loss: 13.905629529490346\n",
      "Itteration: 600, Loss: 8.282499721633785\n",
      "Itteration: 900, Loss: 4.919710264320603\n",
      "Itteration: 1200, Loss: 3.2378266082092337\n",
      "Itteration: 1500, Loss: 2.7333266925331428\n",
      "Itteration: 1800, Loss: 2.3601442258588667\n",
      "Itteration: 2100, Loss: 2.046970563417429\n",
      "Itteration: 2400, Loss: 1.7828743852184883\n",
      "Itteration: 2700, Loss: 1.5750490794404406\n",
      "Itteration: 0, Loss: 10.826391378234424\n",
      "Itteration: 300, Loss: 6.56201744926885\n",
      "Itteration: 600, Loss: 4.730572241002613\n",
      "Itteration: 900, Loss: 3.7433680196000023\n",
      "Itteration: 1200, Loss: 3.365154247269809\n",
      "Itteration: 1500, Loss: 3.0458037632088337\n",
      "Itteration: 1800, Loss: 2.7680881158892037\n",
      "Itteration: 2100, Loss: 2.527367259058639\n",
      "Itteration: 2400, Loss: 2.3185059562454144\n",
      "Itteration: 2700, Loss: 2.138546735716397\n",
      "Itteration: 0, Loss: 10.920033237410385\n",
      "Itteration: 300, Loss: 8.280715168809385\n",
      "Itteration: 600, Loss: 6.381362008173649\n",
      "Itteration: 900, Loss: 4.872841685395423\n",
      "Itteration: 1200, Loss: 3.841410005767544\n",
      "Itteration: 1500, Loss: 3.0470978114201945\n",
      "Itteration: 1800, Loss: 2.4347489235744577\n",
      "Itteration: 2100, Loss: 2.1325069487953896\n",
      "Itteration: 2400, Loss: 1.9025476812553395\n",
      "Itteration: 2700, Loss: 1.7264153016434178\n",
      "Itteration: 0, Loss: 12.635708176137681\n",
      "Itteration: 300, Loss: 7.628274796741671\n",
      "Itteration: 600, Loss: 5.938802674956638\n",
      "Itteration: 900, Loss: 4.8892779518033525\n",
      "Itteration: 1200, Loss: 4.100688854073501\n",
      "Itteration: 1500, Loss: 3.511778299266068\n",
      "Itteration: 1800, Loss: 3.045932158815149\n",
      "Itteration: 2100, Loss: 2.6831794932435904\n",
      "Itteration: 2400, Loss: 2.3935703285447363\n",
      "Itteration: 2700, Loss: 2.1734926648403676\n",
      "Itteration: 0, Loss: 16.94176803824786\n",
      "Itteration: 300, Loss: 6.893016907386683\n",
      "Itteration: 600, Loss: 5.1251663308506155\n",
      "Itteration: 900, Loss: 4.575657889129944\n",
      "Itteration: 1200, Loss: 4.110697759782767\n",
      "Itteration: 1500, Loss: 3.686802105441321\n",
      "Itteration: 1800, Loss: 3.2948326476710434\n",
      "Itteration: 2100, Loss: 2.946084648680814\n",
      "Itteration: 2400, Loss: 2.677649317015335\n",
      "Itteration: 2700, Loss: 2.4446317279472374\n",
      "Itteration: 0, Loss: 13.23993155190874\n",
      "Itteration: 300, Loss: 5.914710960738106\n",
      "Itteration: 600, Loss: 4.331145466662274\n",
      "Itteration: 900, Loss: 3.679749754258106\n",
      "Itteration: 1200, Loss: 3.2250292016163162\n",
      "Itteration: 1500, Loss: 2.8538383813755805\n",
      "Itteration: 1800, Loss: 2.5277605733053794\n",
      "Itteration: 2100, Loss: 2.250612359821873\n",
      "Itteration: 2400, Loss: 2.028931475154782\n",
      "Itteration: 2700, Loss: 1.8591200215992663\n",
      "Itteration: 0, Loss: 13.217651281187525\n",
      "Itteration: 300, Loss: 7.21166008825316\n",
      "Itteration: 600, Loss: 4.449944774791103\n",
      "Itteration: 900, Loss: 3.1818525658763055\n",
      "Itteration: 1200, Loss: 2.5395513789364257\n",
      "Itteration: 1500, Loss: 2.13128159351386\n",
      "Itteration: 1800, Loss: 1.840237696231046\n",
      "Itteration: 2100, Loss: 1.6003948457555652\n",
      "Itteration: 2400, Loss: 1.4056839999459774\n",
      "Itteration: 2700, Loss: 1.2581770204437248\n",
      "Itteration: 0, Loss: 13.50071126248056\n",
      "Itteration: 300, Loss: 6.215141757569425\n",
      "Itteration: 600, Loss: 4.138162526644653\n",
      "Itteration: 900, Loss: 3.444937186302033\n",
      "Itteration: 1200, Loss: 2.999005176571477\n",
      "Itteration: 1500, Loss: 2.6308095226362305\n",
      "Itteration: 1800, Loss: 2.3175157540053832\n",
      "Itteration: 2100, Loss: 2.0631120340804303\n",
      "Itteration: 2400, Loss: 1.8579095754602255\n",
      "Itteration: 2700, Loss: 1.6980743510740832\n"
     ]
    },
    {
     "data": {
      "image/png": "[encoded data removed]",
      "text/plain": [
       "<Figure size 432x288 with 1 Axes>"
      ]
     },
     "metadata": {
      "needs_background": "light"
     },
     "output_type": "display_data"
    },
    {
     "name": "stdout",
     "output_type": "stream",
     "text": [
      "[1.70064336051438]\n",
      "[1.7949804311132014]\n",
      "NEW LAMBDA: 1e-07\n",
      "Itteration: 0, Loss: 9.144449785610385\n",
      "Itteration: 300, Loss: 7.25885095125071\n",
      "Itteration: 600, Loss: 6.149145261773972\n",
      "Itteration: 900, Loss: 5.820349533911733\n",
      "Itteration: 1200, Loss: 5.494878337591879\n",
      "Itteration: 1500, Loss: 5.173372033532897\n",
      "Itteration: 1800, Loss: 4.857257099401082\n",
      "Itteration: 2100, Loss: 4.5459144991925\n",
      "Itteration: 2400, Loss: 4.239344006553324\n",
      "Itteration: 2700, Loss: 3.9399301678217067\n",
      "Itteration: 0, Loss: 11.182440560983467\n",
      "Itteration: 300, Loss: 9.380008865887941\n",
      "Itteration: 600, Loss: 7.672550993979728\n",
      "Itteration: 900, Loss: 6.492207447836281\n",
      "Itteration: 1200, Loss: 6.075733898692536\n",
      "Itteration: 1500, Loss: 5.849195786321369\n",
      "Itteration: 1800, Loss: 5.637087526054664\n",
      "Itteration: 2100, Loss: 5.433546480919352\n",
      "Itteration: 2400, Loss: 5.239476831498813\n",
      "Itteration: 2700, Loss: 5.063614787657131\n",
      "Itteration: 0, Loss: 16.130440742984117\n",
      "Itteration: 300, Loss: 14.461568408990715\n",
      "Itteration: 600, Loss: 12.918637277590655\n",
      "Itteration: 900, Loss: 11.480239791682076\n",
      "Itteration: 1200, Loss: 10.297279287278009\n",
      "Itteration: 1500, Loss: 9.364396471051\n",
      "Itteration: 1800, Loss: 8.687823549674162\n",
      "Itteration: 2100, Loss: 8.269460023276759\n",
      "Itteration: 2400, Loss: 7.882700730679157\n",
      "Itteration: 2700, Loss: 7.502638946659582\n",
      "Itteration: 0, Loss: 22.07079569657944\n",
      "Itteration: 300, Loss: 19.523096086401363\n",
      "Itteration: 600, Loss: 17.08265508106359\n",
      "Itteration: 900, Loss: 14.67587921215246\n",
      "Itteration: 1200, Loss: 12.318865830101489\n",
      "Itteration: 1500, Loss: 10.037722121422584\n",
      "Itteration: 1800, Loss: 7.863233344930331\n",
      "Itteration: 2100, Loss: 5.810044483292916\n",
      "Itteration: 2400, Loss: 4.177039118270711\n",
      "Itteration: 2700, Loss: 3.8223139972070124\n",
      "Itteration: 0, Loss: 18.72459421232682\n",
      "Itteration: 300, Loss: 15.872362739296895\n",
      "Itteration: 600, Loss: 13.22384131577852\n",
      "Itteration: 900, Loss: 11.424447137673935\n",
      "Itteration: 1200, Loss: 10.607987327954236\n",
      "Itteration: 1500, Loss: 9.868715441517269\n",
      "Itteration: 1800, Loss: 9.214883882445513\n",
      "Itteration: 2100, Loss: 8.691555145312687\n",
      "Itteration: 2400, Loss: 8.177331563249135\n",
      "Itteration: 2700, Loss: 7.671239537696469\n",
      "Itteration: 0, Loss: 7.870796348920207\n",
      "Itteration: 300, Loss: 6.398535786534251\n",
      "Itteration: 600, Loss: 6.036226738483804\n",
      "Itteration: 900, Loss: 5.726515197599069\n",
      "Itteration: 1200, Loss: 5.427533811470383\n",
      "Itteration: 1500, Loss: 5.139914666409677\n",
      "Itteration: 1800, Loss: 4.873792843746949\n",
      "Itteration: 2100, Loss: 4.621522684890134\n",
      "Itteration: 2400, Loss: 4.388588511913499\n",
      "Itteration: 2700, Loss: 4.202526949343963\n",
      "Itteration: 0, Loss: 13.640961410963813\n",
      "Itteration: 300, Loss: 12.394500729377182\n",
      "Itteration: 600, Loss: 11.737792207821064\n",
      "Itteration: 900, Loss: 11.093007099841655\n",
      "Itteration: 1200, Loss: 10.47178000730184\n",
      "Itteration: 1500, Loss: 9.859273915700975\n",
      "Itteration: 1800, Loss: 9.259327519855665\n",
      "Itteration: 2100, Loss: 8.689641815776273\n",
      "Itteration: 2400, Loss: 8.146602895093393\n",
      "Itteration: 2700, Loss: 7.620881685239249\n",
      "Itteration: 0, Loss: 6.853597305458318\n",
      "Itteration: 300, Loss: 6.497534543908484\n",
      "Itteration: 600, Loss: 6.169829841932179\n",
      "Itteration: 900, Loss: 5.898132160509877\n",
      "Itteration: 1200, Loss: 5.650946744564654\n",
      "Itteration: 1500, Loss: 5.414843753437426\n",
      "Itteration: 1800, Loss: 5.209362399282146\n",
      "Itteration: 2100, Loss: 5.031200404813716\n",
      "Itteration: 2400, Loss: 4.857111549529437\n",
      "Itteration: 2700, Loss: 4.686682991574385\n",
      "Itteration: 0, Loss: 29.14655252751006\n",
      "Itteration: 300, Loss: 26.150304499241756\n",
      "Itteration: 600, Loss: 23.409773708484384\n",
      "Itteration: 900, Loss: 20.741299650802794\n",
      "Itteration: 1200, Loss: 18.131365310694722\n",
      "Itteration: 1500, Loss: 15.593925306497791\n",
      "Itteration: 1800, Loss: 13.122725594663944\n",
      "Itteration: 2100, Loss: 10.74065968016778\n",
      "Itteration: 2400, Loss: 8.732850742102173\n",
      "Itteration: 2700, Loss: 7.193104336645631\n",
      "Itteration: 0, Loss: 10.676895847792078\n",
      "Itteration: 300, Loss: 9.71048169042407\n",
      "Itteration: 600, Loss: 8.8127693048881\n",
      "Itteration: 900, Loss: 7.966162622227877\n",
      "Itteration: 1200, Loss: 7.286064052252635\n",
      "Itteration: 1500, Loss: 6.741570615791322\n",
      "Itteration: 1800, Loss: 6.252059736531602\n",
      "Itteration: 2100, Loss: 5.820342804118813\n",
      "Itteration: 2400, Loss: 5.4387007822039175\n",
      "Itteration: 2700, Loss: 5.079450430900207\n"
     ]
    },
    {
     "data": {
      "image/png": "[encoded data removed]",
      "text/plain": [
       "<Figure size 432x288 with 1 Axes>"
      ]
     },
     "metadata": {
      "needs_background": "light"
     },
     "output_type": "display_data"
    },
    {
     "name": "stdout",
     "output_type": "stream",
     "text": [
      "[5.3520612515375365]\n",
      "[8.606033809417333]\n",
      "[1e-07, 1e-07, 1e-07, 1e-07, 1e-07, 1e-07, 1e-07, 1e-07]\n",
      "0.7311477737585714\n",
      "[0.7607278914637636, 0.9247107367704613, 0.7235575243720429, 0.7677395649617871, 0.7085336707437087, 0.6611299435028248, 0.6428433268858801, 0.6599395313681028]\n",
      "0.7308375532411614\n",
      "[0.7596422279441659, 0.9238514548238899, 0.7232780794512718, 0.7633597883597883, 0.7086039645719107, 0.6593220338983052, 0.6412959381044488, 0.6673469387755102]\n"
     ]
    }
   ],
   "source": [
    "number_of_models = 8\n",
    "\n",
    "best_lambdas = []\n",
    "acc_train = []\n",
    "acc_test = []\n",
    "for i in range(number_of_models):\n",
    "    x_tr = x_train_sep[i]\n",
    "    y_tr = y_train_sep[i]\n",
    "\n",
    "    #lambdas = np.logspace(-5, 1, 5)\n",
    "    lambdas = [0.0000001]\n",
    "    #lambdas = [1]\n",
    "    lambda_, acc_tr, acc_te = cross_validation(x_tr, y_tr, lambdas, poly_degree=3, norm=\"std\", method=\"logistic\")\n",
    "    best_lambdas.append(lambda_)\n",
    "    acc_train.append(acc_tr)\n",
    "    acc_test.append(acc_te)\n",
    "    \n",
    "print(best_lambdas)\n",
    "print(np.mean(acc_train))\n",
    "print(acc_train)\n",
    "print(np.mean(acc_test))\n",
    "print(acc_test)"
   ]
  },
  {
   "cell_type": "code",
   "execution_count": 14,
   "metadata": {
    "scrolled": false
   },
   "outputs": [
    {
     "name": "stdout",
     "output_type": "stream",
     "text": [
      "Start\n",
      "NEW LAMBDA: 1e-05\n",
      "Itteration: 0, Loss: 18.122879571707422\n",
      "Itteration: 300, Loss: 0.0006869231141779508\n",
      "Itteration: 600, Loss: 7.938938635913214\n",
      "Itteration: 900, Loss: 0.005234403361107618\n",
      "Itteration: 1200, Loss: 0.002209722219258204\n",
      "Itteration: 1500, Loss: 3.078871875412442\n",
      "Itteration: 1800, Loss: 0.06089420305009279\n",
      "Itteration: 2100, Loss: 0.8406258433502005\n",
      "Itteration: 2400, Loss: 0.028257046032710256\n",
      "Itteration: 2700, Loss: 4.243887169588896\n",
      "Itteration: 3000, Loss: 2.1515531007284095e-65\n",
      "Itteration: 3300, Loss: 2.7979843774328312\n",
      "Itteration: 3600, Loss: 3.1655686230359072\n",
      "Itteration: 3900, Loss: 1.5246126527296997e-06\n",
      "Itteration: 4200, Loss: 0.00118102212492\n",
      "Itteration: 4500, Loss: 0.00032903362614966625\n",
      "Itteration: 4800, Loss: 151.25752745756196\n",
      "Itteration: 0, Loss: 11.213303499347125\n",
      "Itteration: 300, Loss: 17.417372712406287\n",
      "Itteration: 600, Loss: 0.18810210923129442\n",
      "Itteration: 900, Loss: 9.304384791210834e-12\n",
      "Itteration: 1200, Loss: 7.334817410783276e-09\n",
      "Itteration: 1500, Loss: 0.00020369910310009723\n",
      "Itteration: 1800, Loss: 7.489128661723926\n",
      "Itteration: 2100, Loss: 6.594791937893273\n",
      "Itteration: 2400, Loss: 0.4558894487954359\n",
      "Itteration: 2700, Loss: 8.339945329071462\n",
      "Itteration: 3000, Loss: 12.438459010354192\n",
      "Itteration: 3300, Loss: 1.201454352320802e-07\n",
      "Itteration: 3600, Loss: 1.1486968199034262\n",
      "Itteration: 3900, Loss: 6.43277745741361e-21\n",
      "Itteration: 4200, Loss: 0.3453040866249971\n",
      "Itteration: 4500, Loss: 9.702743776560842\n",
      "Itteration: 4800, Loss: 1.7660881423725656e-06\n",
      "Itteration: 0, Loss: 0.037949420636591624\n",
      "Itteration: 300, Loss: 7.185349799598839e-06\n",
      "Itteration: 600, Loss: 0.008978631021165528\n",
      "Itteration: 900, Loss: 0.00024033816234090153\n",
      "Itteration: 1200, Loss: 1.9864259398811413e-08\n",
      "Itteration: 1500, Loss: 6.107586163566519e-08\n",
      "Itteration: 1800, Loss: 4.969083047008009\n",
      "Itteration: 2100, Loss: 0.010707410144745142\n",
      "Itteration: 2400, Loss: 2.0182966409265646e-11\n",
      "Itteration: 2700, Loss: 9.908898355502023\n",
      "Itteration: 3000, Loss: 1.0942838247429163\n",
      "Itteration: 3300, Loss: 7.681973034941674e-06\n",
      "Itteration: 3600, Loss: 0.24244509308393392\n",
      "Itteration: 3900, Loss: 182.29552548970128\n",
      "Itteration: 4200, Loss: 8.76975770445765e-08\n",
      "Itteration: 4500, Loss: 11.579369390079714\n",
      "Itteration: 4800, Loss: 0.00012765871824074336\n",
      "Itteration: 0, Loss: 0.4484948490631444\n",
      "Itteration: 300, Loss: 0.0004085926723037086\n",
      "Itteration: 600, Loss: 0.02569552827196569\n",
      "Itteration: 900, Loss: 8.30361998039006\n",
      "Itteration: 1200, Loss: 12.29427622537339\n",
      "Itteration: 1500, Loss: 6.349585957621133\n",
      "Itteration: 1800, Loss: 2.232469681420368\n",
      "Itteration: 2100, Loss: 0.0001087971041967307\n",
      "Itteration: 2400, Loss: 1.8545338540307208\n",
      "Itteration: 2700, Loss: 0.03451783558386618\n",
      "Itteration: 3000, Loss: 1.8960037562615284\n",
      "Itteration: 3300, Loss: 7.072364834817846\n",
      "Itteration: 3600, Loss: 1.8863977290650786\n",
      "Itteration: 3900, Loss: 0.08317263907613208\n",
      "Itteration: 4200, Loss: 0.004744166949804702\n",
      "Itteration: 4500, Loss: 4.980165271025995\n",
      "Itteration: 4800, Loss: 0.008629903041775041\n",
      "Itteration: 0, Loss: 6.954055333018152\n",
      "Itteration: 300, Loss: 10.112424671300184\n",
      "Itteration: 600, Loss: 3.0889819955100206\n",
      "Itteration: 900, Loss: 5.286437954055145e-10\n",
      "Itteration: 1200, Loss: 4.181763146241619\n",
      "Itteration: 1500, Loss: 3.5116995551476293e-06\n",
      "Itteration: 1800, Loss: 0.6991291881450227\n",
      "Itteration: 2100, Loss: 23.000014798850835\n",
      "Itteration: 2400, Loss: 10.63824332642352\n",
      "Itteration: 2700, Loss: 5.520903812139543e-05\n",
      "Itteration: 3000, Loss: 0.023338519683282242\n",
      "Itteration: 3300, Loss: 2.318323311101267e-10\n",
      "Itteration: 3600, Loss: 6.956549917800301\n",
      "Itteration: 3900, Loss: 20.238337921611745\n",
      "Itteration: 4200, Loss: 2.85264760054984\n",
      "Itteration: 4500, Loss: 7.537232530583077\n",
      "Itteration: 4800, Loss: 0.0014305546557767295\n",
      "NEW LAMBDA: 1e-06\n",
      "Itteration: 0, Loss: 18.14283151801412\n",
      "Itteration: 300, Loss: 0.0006579409950058235\n",
      "Itteration: 600, Loss: 7.944028327625869\n"
     ]
    },
    {
     "ename": "KeyboardInterrupt",
     "evalue": "",
     "output_type": "error",
     "traceback": [
      "\u001b[0;31m---------------------------------------------------------------------------\u001b[0m",
      "\u001b[0;31mKeyboardInterrupt\u001b[0m                         Traceback (most recent call last)",
      "\u001b[0;32m<ipython-input-14-f346414275c6>\u001b[0m in \u001b[0;36m<module>\u001b[0;34m()\u001b[0m\n\u001b[1;32m     11\u001b[0m     \u001b[0mlambdas\u001b[0m \u001b[0;34m=\u001b[0m \u001b[0;34m[\u001b[0m\u001b[0;36m0.00001\u001b[0m\u001b[0;34m,\u001b[0m \u001b[0;36m0.000001\u001b[0m\u001b[0;34m,\u001b[0m \u001b[0;36m0.0000001\u001b[0m\u001b[0;34m]\u001b[0m\u001b[0;34m\u001b[0m\u001b[0m\n\u001b[1;32m     12\u001b[0m     \u001b[0;31m#lambdas = [1]\u001b[0m\u001b[0;34m\u001b[0m\u001b[0;34m\u001b[0m\u001b[0m\n\u001b[0;32m---> 13\u001b[0;31m     \u001b[0mlambda_\u001b[0m\u001b[0;34m,\u001b[0m \u001b[0macc_tr\u001b[0m\u001b[0;34m,\u001b[0m \u001b[0macc_te\u001b[0m \u001b[0;34m=\u001b[0m \u001b[0mcross_validation\u001b[0m\u001b[0;34m(\u001b[0m\u001b[0mx_tr\u001b[0m\u001b[0;34m,\u001b[0m \u001b[0my_tr\u001b[0m\u001b[0;34m,\u001b[0m \u001b[0mlambdas\u001b[0m\u001b[0;34m,\u001b[0m \u001b[0mpoly_degree\u001b[0m\u001b[0;34m=\u001b[0m\u001b[0;36m3\u001b[0m\u001b[0;34m,\u001b[0m \u001b[0mn_splits\u001b[0m\u001b[0;34m=\u001b[0m\u001b[0;36m5\u001b[0m\u001b[0;34m,\u001b[0m \u001b[0mnorm\u001b[0m\u001b[0;34m=\u001b[0m\u001b[0;34m\"std\"\u001b[0m\u001b[0;34m,\u001b[0m \u001b[0mmethod\u001b[0m\u001b[0;34m=\u001b[0m\u001b[0;34m\"logistic\"\u001b[0m\u001b[0;34m,\u001b[0m \u001b[0mmax_iters\u001b[0m\u001b[0;34m=\u001b[0m\u001b[0;36m5000\u001b[0m\u001b[0;34m)\u001b[0m\u001b[0;34m\u001b[0m\u001b[0m\n\u001b[0m\u001b[1;32m     14\u001b[0m     \u001b[0mbest_lambdas\u001b[0m\u001b[0;34m.\u001b[0m\u001b[0mappend\u001b[0m\u001b[0;34m(\u001b[0m\u001b[0mlambda_\u001b[0m\u001b[0;34m)\u001b[0m\u001b[0;34m\u001b[0m\u001b[0m\n\u001b[1;32m     15\u001b[0m     \u001b[0macc_train\u001b[0m\u001b[0;34m.\u001b[0m\u001b[0mappend\u001b[0m\u001b[0;34m(\u001b[0m\u001b[0macc_tr\u001b[0m\u001b[0;34m)\u001b[0m\u001b[0;34m\u001b[0m\u001b[0m\n",
      "\u001b[0;32m~/ML EPFL/Project 1/ml_project1/utils/cross_validation.py\u001b[0m in \u001b[0;36mcross_validation\u001b[0;34m(x, y, lambdas, poly_degree, norm, method, n_splits, visualize, seed, max_iters)\u001b[0m\n\u001b[1;32m     44\u001b[0m             \u001b[0;32melif\u001b[0m \u001b[0mmethod\u001b[0m \u001b[0;34m==\u001b[0m \u001b[0;34m\"logistic\"\u001b[0m\u001b[0;34m:\u001b[0m\u001b[0;34m\u001b[0m\u001b[0m\n\u001b[1;32m     45\u001b[0m                 \u001b[0my_train_kfold\u001b[0m\u001b[0;34m.\u001b[0m\u001b[0mshape\u001b[0m \u001b[0;34m=\u001b[0m \u001b[0;34m(\u001b[0m\u001b[0;34m-\u001b[0m\u001b[0;36m1\u001b[0m\u001b[0;34m,\u001b[0m \u001b[0;36m1\u001b[0m\u001b[0;34m)\u001b[0m\u001b[0;34m\u001b[0m\u001b[0m\n\u001b[0;32m---> 46\u001b[0;31m                 \u001b[0mw\u001b[0m\u001b[0;34m,\u001b[0m \u001b[0m_\u001b[0m \u001b[0;34m=\u001b[0m \u001b[0mlogistic_regression\u001b[0m\u001b[0;34m(\u001b[0m\u001b[0my\u001b[0m\u001b[0;34m=\u001b[0m\u001b[0my_train_kfold\u001b[0m\u001b[0;34m,\u001b[0m \u001b[0mtx\u001b[0m\u001b[0;34m=\u001b[0m\u001b[0mx_train_kfold\u001b[0m\u001b[0;34m,\u001b[0m \u001b[0minitial_w\u001b[0m\u001b[0;34m=\u001b[0m\u001b[0minitial_w\u001b[0m\u001b[0;34m,\u001b[0m \u001b[0mmax_iters\u001b[0m\u001b[0;34m=\u001b[0m\u001b[0mmax_iters\u001b[0m\u001b[0;34m,\u001b[0m \u001b[0mgamma\u001b[0m\u001b[0;34m=\u001b[0m\u001b[0mlambda_\u001b[0m\u001b[0;34m)\u001b[0m\u001b[0;34m\u001b[0m\u001b[0m\n\u001b[0m\u001b[1;32m     47\u001b[0m             \u001b[0;32melif\u001b[0m \u001b[0mmethod\u001b[0m \u001b[0;34m==\u001b[0m\u001b[0;34m\"SKL\"\u001b[0m\u001b[0;34m:\u001b[0m\u001b[0;34m\u001b[0m\u001b[0m\n\u001b[1;32m     48\u001b[0m                 \u001b[0;32mfrom\u001b[0m \u001b[0msklearn\u001b[0m\u001b[0;34m.\u001b[0m\u001b[0mlinear_model\u001b[0m \u001b[0;32mimport\u001b[0m \u001b[0mLogisticRegression\u001b[0m \u001b[0;32mas\u001b[0m \u001b[0mSLR\u001b[0m\u001b[0;34m\u001b[0m\u001b[0m\n",
      "\u001b[0;32m~/ML EPFL/Project 1/ml_project1/impl/implementations.py\u001b[0m in \u001b[0;36mlogistic_regression\u001b[0;34m(y, tx, initial_w, max_iters, gamma)\u001b[0m\n\u001b[1;32m    171\u001b[0m \u001b[0;34m\u001b[0m\u001b[0m\n\u001b[1;32m    172\u001b[0m     \u001b[0;32mfor\u001b[0m \u001b[0mn_iter\u001b[0m \u001b[0;32min\u001b[0m \u001b[0mrange\u001b[0m\u001b[0;34m(\u001b[0m\u001b[0mmax_iters\u001b[0m\u001b[0;34m)\u001b[0m\u001b[0;34m:\u001b[0m\u001b[0;34m\u001b[0m\u001b[0m\n\u001b[0;32m--> 173\u001b[0;31m         \u001b[0;32mfor\u001b[0m \u001b[0my_batch\u001b[0m\u001b[0;34m,\u001b[0m \u001b[0mtx_batch\u001b[0m \u001b[0;32min\u001b[0m \u001b[0mbatch_iter\u001b[0m\u001b[0;34m(\u001b[0m\u001b[0my\u001b[0m\u001b[0;34m,\u001b[0m \u001b[0mtx\u001b[0m\u001b[0;34m,\u001b[0m \u001b[0mbatch_size\u001b[0m\u001b[0;34m=\u001b[0m\u001b[0;36m1\u001b[0m\u001b[0;34m)\u001b[0m\u001b[0;34m:\u001b[0m\u001b[0;34m\u001b[0m\u001b[0m\n\u001b[0m\u001b[1;32m    174\u001b[0m             \u001b[0;31m# update w and get loss\u001b[0m\u001b[0;34m\u001b[0m\u001b[0;34m\u001b[0m\u001b[0m\n\u001b[1;32m    175\u001b[0m             \u001b[0mloss\u001b[0m\u001b[0;34m,\u001b[0m \u001b[0mw\u001b[0m \u001b[0;34m=\u001b[0m \u001b[0mlearning_by_gradient_descent\u001b[0m\u001b[0;34m(\u001b[0m\u001b[0my_batch\u001b[0m\u001b[0;34m,\u001b[0m \u001b[0mtx_batch\u001b[0m\u001b[0;34m,\u001b[0m \u001b[0mw\u001b[0m\u001b[0;34m,\u001b[0m \u001b[0mgamma\u001b[0m\u001b[0;34m)\u001b[0m\u001b[0;34m\u001b[0m\u001b[0m\n",
      "\u001b[0;32m~/ML EPFL/Project 1/ml_project1/impl/implementations.py\u001b[0m in \u001b[0;36mbatch_iter\u001b[0;34m(y, tx, batch_size, num_batches, shuffle)\u001b[0m\n\u001b[1;32m    280\u001b[0m         \u001b[0mshuffle_indices\u001b[0m \u001b[0;34m=\u001b[0m \u001b[0mnp\u001b[0m\u001b[0;34m.\u001b[0m\u001b[0mrandom\u001b[0m\u001b[0;34m.\u001b[0m\u001b[0mpermutation\u001b[0m\u001b[0;34m(\u001b[0m\u001b[0mnp\u001b[0m\u001b[0;34m.\u001b[0m\u001b[0marange\u001b[0m\u001b[0;34m(\u001b[0m\u001b[0mdata_size\u001b[0m\u001b[0;34m)\u001b[0m\u001b[0;34m)\u001b[0m\u001b[0;34m\u001b[0m\u001b[0m\n\u001b[1;32m    281\u001b[0m         \u001b[0mshuffled_y\u001b[0m \u001b[0;34m=\u001b[0m \u001b[0my\u001b[0m\u001b[0;34m[\u001b[0m\u001b[0mshuffle_indices\u001b[0m\u001b[0;34m]\u001b[0m\u001b[0;34m\u001b[0m\u001b[0m\n\u001b[0;32m--> 282\u001b[0;31m         \u001b[0mshuffled_tx\u001b[0m \u001b[0;34m=\u001b[0m \u001b[0mtx\u001b[0m\u001b[0;34m[\u001b[0m\u001b[0mshuffle_indices\u001b[0m\u001b[0;34m]\u001b[0m\u001b[0;34m\u001b[0m\u001b[0m\n\u001b[0m\u001b[1;32m    283\u001b[0m     \u001b[0;32melse\u001b[0m\u001b[0;34m:\u001b[0m\u001b[0;34m\u001b[0m\u001b[0m\n\u001b[1;32m    284\u001b[0m         \u001b[0mshuffled_y\u001b[0m \u001b[0;34m=\u001b[0m \u001b[0my\u001b[0m\u001b[0;34m\u001b[0m\u001b[0m\n",
      "\u001b[0;31mKeyboardInterrupt\u001b[0m: "
     ]
    }
   ],
   "source": [
    "number_of_models = 8\n",
    "\n",
    "best_lambdas = []\n",
    "acc_train = []\n",
    "acc_test = []\n",
    "for i in range(number_of_models):\n",
    "    x_tr = x_train_sep[i]\n",
    "    y_tr = y_train_sep[i]\n",
    "\n",
    "    #lambdas = np.logspace(-5, 1, 5)\n",
    "    lambdas = [0.00001, 0.000001, 0.0000001]\n",
    "    #lambdas = [1]\n",
    "    lambda_, acc_tr, acc_te = cross_validation(x_tr, y_tr, lambdas, poly_degree=3, n_splits=5, norm=\"std\", method=\"logistic\", max_iters=5000)\n",
    "    best_lambdas.append(lambda_)\n",
    "    acc_train.append(acc_tr)\n",
    "    acc_test.append(acc_te)\n",
    "    \n",
    "print(best_lambdas)\n",
    "print(np.mean(acc_train))\n",
    "print(acc_train)\n",
    "print(np.mean(acc_test))\n",
    "print(acc_test)"
   ]
  },
  {
   "cell_type": "code",
   "execution_count": null,
   "metadata": {},
   "outputs": [],
   "source": []
  },
  {
   "cell_type": "code",
   "execution_count": null,
   "metadata": {},
   "outputs": [],
   "source": []
  },
  {
   "cell_type": "code",
   "execution_count": null,
   "metadata": {},
   "outputs": [],
   "source": []
  },
  {
   "cell_type": "code",
   "execution_count": null,
   "metadata": {},
   "outputs": [],
   "source": []
  },
  {
   "cell_type": "code",
   "execution_count": 117,
   "metadata": {},
   "outputs": [],
   "source": [
    "lambdas = [0.0000001]"
   ]
  },
  {
   "cell_type": "code",
   "execution_count": 140,
   "metadata": {
    "scrolled": true
   },
   "outputs": [
    {
     "name": "stdout",
     "output_type": "stream",
     "text": [
      "NEW LAMBDA: 1e-07\n",
      "Itteration: 0, Loss: 6.276158940184731\n",
      "Itteration: 10, Loss: 6.139452051770993\n",
      "Itteration: 20, Loss: 6.010208806806076\n",
      "Itteration: 30, Loss: 5.88711212275015\n",
      "Itteration: 40, Loss: 5.770566796586452\n",
      "Itteration: 50, Loss: 5.658581334562691\n",
      "Itteration: 60, Loss: 5.552044973279625\n",
      "Itteration: 70, Loss: 5.447798873899142\n",
      "Itteration: 80, Loss: 5.345594072969458\n",
      "Itteration: 90, Loss: 5.246936824333731\n",
      "Itteration: 100, Loss: 5.150195914845483\n",
      "Itteration: 110, Loss: 5.0548765345825855\n",
      "Itteration: 120, Loss: 4.961150277304188\n",
      "Itteration: 130, Loss: 4.86913852895455\n",
      "Itteration: 140, Loss: 4.779212109726871\n",
      "Itteration: 150, Loss: 4.690741132506524\n",
      "Itteration: 160, Loss: 4.6040961235398665\n",
      "Itteration: 170, Loss: 4.521719705294604\n",
      "Itteration: 180, Loss: 4.4403469763951\n",
      "Itteration: 190, Loss: 4.361403842434037\n",
      "Itteration: 200, Loss: 4.284268548195941\n",
      "Itteration: 210, Loss: 4.208587621355226\n",
      "Itteration: 220, Loss: 4.134347792638014\n",
      "Itteration: 230, Loss: 4.061598183800389\n",
      "Itteration: 240, Loss: 3.992658130148145\n",
      "Itteration: 250, Loss: 3.926223685544151\n",
      "Itteration: 260, Loss: 3.8613277537941046\n",
      "Itteration: 270, Loss: 3.797494719438397\n",
      "Itteration: 280, Loss: 3.734830548425597\n",
      "Itteration: 290, Loss: 3.6733035074927654\n",
      "Itteration: 300, Loss: 3.6135252134873705\n",
      "Itteration: 310, Loss: 3.554808498024396\n",
      "Itteration: 320, Loss: 3.497062650297949\n",
      "Itteration: 330, Loss: 3.4404142923937644\n",
      "Itteration: 340, Loss: 3.3846411046084195\n",
      "Itteration: 350, Loss: 3.3295728286292148\n",
      "Itteration: 360, Loss: 3.2752126417106275\n",
      "Itteration: 370, Loss: 3.2217963442846678\n",
      "Itteration: 380, Loss: 3.169447827035618\n",
      "Itteration: 390, Loss: 3.117862618920243\n",
      "Itteration: 400, Loss: 3.066977350590279\n",
      "Itteration: 410, Loss: 3.016780550600921\n",
      "Itteration: 420, Loss: 2.9672795588780447\n",
      "Itteration: 430, Loss: 2.9187470199653265\n",
      "Itteration: 440, Loss: 2.871012303543605\n",
      "Itteration: 450, Loss: 2.8240936632444344\n",
      "Itteration: 460, Loss: 2.7778837290851177\n",
      "Itteration: 470, Loss: 2.7323736434161527\n",
      "Itteration: 480, Loss: 2.6876007202423478\n",
      "Itteration: 490, Loss: 2.64364245237918\n",
      "Itteration: 500, Loss: 2.600485804343203\n",
      "Itteration: 510, Loss: 2.558122409736223\n",
      "Itteration: 520, Loss: 2.5166854965960677\n",
      "Itteration: 530, Loss: 2.4761178896439398\n",
      "Itteration: 540, Loss: 2.436869197894194\n",
      "Itteration: 550, Loss: 2.3986603173605454\n",
      "Itteration: 560, Loss: 2.3612243879725217\n",
      "Itteration: 570, Loss: 2.3247903253914917\n",
      "Itteration: 580, Loss: 2.2893637342500197\n",
      "Itteration: 590, Loss: 2.25482215010011\n",
      "Itteration: 600, Loss: 2.2211124704147593\n",
      "Itteration: 610, Loss: 2.188181193327988\n",
      "Itteration: 620, Loss: 2.1560022934268237\n",
      "Itteration: 630, Loss: 2.1245741987118105\n",
      "Itteration: 640, Loss: 2.093995777054608\n",
      "Itteration: 650, Loss: 2.0652052630972113\n",
      "Itteration: 660, Loss: 2.0375820351175093\n",
      "Itteration: 670, Loss: 2.0110184128062203\n",
      "Itteration: 680, Loss: 1.9854890586544622\n",
      "Itteration: 690, Loss: 1.960818585611267\n",
      "Itteration: 700, Loss: 1.9369405707993987\n",
      "Itteration: 710, Loss: 1.9138433966792678\n",
      "Itteration: 720, Loss: 1.8915379735858195\n",
      "Itteration: 730, Loss: 1.8700056287479443\n",
      "Itteration: 740, Loss: 1.8492230280840873\n",
      "Itteration: 750, Loss: 1.8292114171781133\n",
      "Itteration: 760, Loss: 1.8099123926454885\n",
      "Itteration: 770, Loss: 1.7912420608953992\n",
      "Itteration: 780, Loss: 1.7731316079430344\n",
      "Itteration: 790, Loss: 1.7555587334006404\n",
      "Itteration: 800, Loss: 1.738529631541534\n",
      "Itteration: 810, Loss: 1.7220332718654352\n",
      "Itteration: 820, Loss: 1.7060746728075071\n",
      "Itteration: 830, Loss: 1.6907580702458371\n",
      "Itteration: 840, Loss: 1.6761108363938846\n",
      "Itteration: 850, Loss: 1.661997463136687\n",
      "Itteration: 860, Loss: 1.6483876174426315\n",
      "Itteration: 870, Loss: 1.6353597724437012\n",
      "Itteration: 880, Loss: 1.6229710229745826\n",
      "Itteration: 890, Loss: 1.6109958825191792\n",
      "Itteration: 900, Loss: 1.5994011807564106\n",
      "Itteration: 910, Loss: 1.5881816751849303\n",
      "Itteration: 920, Loss: 1.5773300921748974\n",
      "Itteration: 930, Loss: 1.5668301698975506\n",
      "Itteration: 940, Loss: 1.556658872749046\n",
      "Itteration: 950, Loss: 1.5467992526189915\n",
      "Itteration: 960, Loss: 1.5373160619553354\n",
      "Itteration: 970, Loss: 1.5281958178739952\n",
      "Itteration: 980, Loss: 1.5193323925313313\n",
      "Itteration: 990, Loss: 1.5106992068164058\n",
      "Itteration: 1000, Loss: 1.5025890766162464\n",
      "Itteration: 1010, Loss: 1.4948149096010395\n",
      "Itteration: 1020, Loss: 1.4871907396843442\n",
      "Itteration: 1030, Loss: 1.4797044393958823\n",
      "Itteration: 1040, Loss: 1.4723485499047868\n",
      "Itteration: 1050, Loss: 1.465116822583239\n",
      "Itteration: 1060, Loss: 1.4580037684556113\n",
      "Itteration: 1070, Loss: 1.4510045468552804\n",
      "Itteration: 1080, Loss: 1.4441148730699682\n",
      "Itteration: 1090, Loss: 1.4373309310547087\n",
      "Itteration: 1100, Loss: 1.43064929112968\n",
      "Itteration: 1110, Loss: 1.4240668392667866\n",
      "Itteration: 1120, Loss: 1.4175807196966708\n",
      "Itteration: 1130, Loss: 1.4111882900007295\n",
      "Itteration: 1140, Loss: 1.404887086625755\n",
      "Itteration: 1150, Loss: 1.3986747985975931\n",
      "Itteration: 1160, Loss: 1.392549247451942\n",
      "Itteration: 1170, Loss: 1.38650837173724\n",
      "Itteration: 1180, Loss: 1.3805502147486675\n",
      "Itteration: 1190, Loss: 1.374672914395347\n",
      "Itteration: 1200, Loss: 1.368874694299398\n",
      "Itteration: 1210, Loss: 1.363153855408069\n",
      "Itteration: 1220, Loss: 1.357508767605765\n",
      "Itteration: 1230, Loss: 1.351937861070045\n",
      "Itteration: 1240, Loss: 1.346439617427066\n",
      "Itteration: 1250, Loss: 1.3410125610868662\n",
      "Itteration: 1260, Loss: 1.3356552513923627\n",
      "Itteration: 1270, Loss: 1.3303662762976969\n",
      "Itteration: 1280, Loss: 1.3251442481420628\n",
      "Itteration: 1290, Loss: 1.3199878017351367\n",
      "Itteration: 1300, Loss: 1.3148955945422371\n",
      "Itteration: 1310, Loss: 1.3098663084070505\n",
      "Itteration: 1320, Loss: 1.304898652086035\n",
      "Itteration: 1330, Loss: 1.299991363908283\n",
      "Itteration: 1340, Loss: 1.2951432140559391\n",
      "Itteration: 1350, Loss: 1.290353006192068\n",
      "Itteration: 1360, Loss: 1.285619578370028\n",
      "Itteration: 1370, Loss: 1.2809418033019184\n",
      "Itteration: 1380, Loss: 1.276318588136925\n",
      "Itteration: 1390, Loss: 1.2717488739162548\n",
      "Itteration: 1400, Loss: 1.267231634849272\n",
      "Itteration: 1410, Loss: 1.2627658775139892\n",
      "Itteration: 1420, Loss: 1.2583506400386262\n",
      "Itteration: 1430, Loss: 1.2539849912791279\n",
      "Itteration: 1440, Loss: 1.2496680299758496\n",
      "Itteration: 1450, Loss: 1.2453988838532595\n",
      "Itteration: 1460, Loss: 1.2411767086193874\n",
      "Itteration: 1470, Loss: 1.237000686825255\n",
      "Itteration: 1480, Loss: 1.2328700265561532\n",
      "Itteration: 1490, Loss: 1.2287839599437411\n",
      "Itteration: 1500, Loss: 1.2247417415076658\n",
      "Itteration: 1510, Loss: 1.2207426463553313\n",
      "Itteration: 1520, Loss: 1.2167859682862758\n",
      "Itteration: 1530, Loss: 1.2128710178614075\n",
      "Itteration: 1540, Loss: 1.2089971205056225\n",
      "Itteration: 1550, Loss: 1.2051636147140654\n",
      "Itteration: 1560, Loss: 1.2013698504272854\n",
      "Itteration: 1570, Loss: 1.1976151876294376\n",
      "Itteration: 1580, Loss: 1.1938989952080066\n",
      "Itteration: 1590, Loss: 1.190220650095438\n",
      "Itteration: 1600, Loss: 1.186579536694984\n",
      "Itteration: 1610, Loss: 1.1829750465771651\n",
      "Itteration: 1620, Loss: 1.1794065784210692\n",
      "Itteration: 1630, Loss: 1.1758735381669698\n",
      "Itteration: 1640, Loss: 1.1723753393433887\n",
      "Itteration: 1650, Loss: 1.168911403532117\n",
      "Itteration: 1660, Loss: 1.1654811609380247\n",
      "Itteration: 1670, Loss: 1.1620840510359136\n",
      "Itteration: 1680, Loss: 1.158719523273535\n",
      "Itteration: 1690, Loss: 1.1553870378176827\n",
      "Itteration: 1700, Loss: 1.1520860663381842\n",
      "Itteration: 1710, Loss: 1.1488160928313842\n",
      "Itteration: 1720, Loss: 1.1455766144880115\n",
      "Itteration: 1730, Loss: 1.1423671426064665\n",
      "Itteration: 1740, Loss: 1.1391872035364097\n",
      "Itteration: 1750, Loss: 1.1360363396031905\n",
      "Itteration: 1760, Loss: 1.1329141099071682\n",
      "Itteration: 1770, Loss: 1.1298200908174407\n",
      "Itteration: 1780, Loss: 1.1267538759096398\n",
      "Itteration: 1790, Loss: 1.1237150750843163\n",
      "Itteration: 1800, Loss: 1.120703312723153\n",
      "Itteration: 1810, Loss: 1.1177182250530693\n",
      "Itteration: 1820, Loss: 1.1147594573422572\n",
      "Itteration: 1830, Loss: 1.1118266619170767\n",
      "Itteration: 1840, Loss: 1.1089194979409582\n",
      "Itteration: 1850, Loss: 1.1060376332990371\n",
      "Itteration: 1860, Loss: 1.1031807480616371\n",
      "Itteration: 1870, Loss: 1.1003485383872185\n",
      "Itteration: 1880, Loss: 1.0975407197042062\n",
      "Itteration: 1890, Loss: 1.0947570284659545\n",
      "Itteration: 1900, Loss: 1.0919972223332786\n",
      "Itteration: 1910, Loss: 1.089261079018659\n",
      "Itteration: 1920, Loss: 1.0865483941635041\n",
      "Itteration: 1930, Loss: 1.0838589785977264\n",
      "Itteration: 1940, Loss: 1.081192655252871\n",
      "Itteration: 1950, Loss: 1.0785492559282959\n"
     ]
    },
    {
     "name": "stdout",
     "output_type": "stream",
     "text": [
      "Itteration: 1960, Loss: 1.0759286180632623\n",
      "Itteration: 1970, Loss: 1.0733305816415843\n",
      "Itteration: 1980, Loss: 1.070754986338203\n",
      "Itteration: 1990, Loss: 1.0682016689980347\n",
      "Itteration: 0, Loss: 13.130551655788445\n",
      "Itteration: 10, Loss: 12.172624433932745\n",
      "Itteration: 20, Loss: 11.25873756983394\n",
      "Itteration: 30, Loss: 10.386518652723472\n",
      "Itteration: 40, Loss: 9.562232043965475\n",
      "Itteration: 50, Loss: 8.777533599970097\n",
      "Itteration: 60, Loss: 8.034580483081028\n",
      "Itteration: 70, Loss: 7.334728449815934\n",
      "Itteration: 80, Loss: 6.710790634759099\n",
      "Itteration: 90, Loss: 6.153690723271338\n",
      "Itteration: 100, Loss: 5.6713919668488595\n",
      "Itteration: 110, Loss: 5.252346963598845\n",
      "Itteration: 120, Loss: 4.916015097595717\n",
      "Itteration: 130, Loss: 4.623228480670982\n",
      "Itteration: 140, Loss: 4.356054604622058\n",
      "Itteration: 150, Loss: 4.147981701114017\n",
      "Itteration: 160, Loss: 3.9807033759330426\n",
      "Itteration: 170, Loss: 3.838919993624432\n",
      "Itteration: 180, Loss: 3.7194982640801766\n",
      "Itteration: 190, Loss: 3.6206282293486143\n",
      "Itteration: 200, Loss: 3.5431741121550617\n",
      "Itteration: 210, Loss: 3.4744209521664993\n",
      "Itteration: 220, Loss: 3.4135127300625876\n",
      "Itteration: 230, Loss: 3.357530906018529\n",
      "Itteration: 240, Loss: 3.3044954467349608\n",
      "Itteration: 250, Loss: 3.253872518394062\n",
      "Itteration: 260, Loss: 3.20738314161711\n",
      "Itteration: 270, Loss: 3.163142645680199\n",
      "Itteration: 280, Loss: 3.123862919836362\n",
      "Itteration: 290, Loss: 3.0860408651301445\n",
      "Itteration: 300, Loss: 3.0496980321220044\n",
      "Itteration: 310, Loss: 3.0147610702123906\n",
      "Itteration: 320, Loss: 2.98072629199953\n",
      "Itteration: 330, Loss: 2.94729761877237\n",
      "Itteration: 340, Loss: 2.914377195327106\n",
      "Itteration: 350, Loss: 2.8819757846837253\n",
      "Itteration: 360, Loss: 2.850121528733288\n",
      "Itteration: 370, Loss: 2.818794701168975\n",
      "Itteration: 380, Loss: 2.7880716086558746\n",
      "Itteration: 390, Loss: 2.7579368014442016\n",
      "Itteration: 400, Loss: 2.728383118693652\n",
      "Itteration: 410, Loss: 2.699368309321572\n",
      "Itteration: 420, Loss: 2.670834708634531\n",
      "Itteration: 430, Loss: 2.6427859451803526\n",
      "Itteration: 440, Loss: 2.615222871441712\n",
      "Itteration: 450, Loss: 2.5881663216492528\n",
      "Itteration: 460, Loss: 2.5616465844097847\n",
      "Itteration: 470, Loss: 2.5356450719455244\n",
      "Itteration: 480, Loss: 2.510137679813815\n",
      "Itteration: 490, Loss: 2.4851085173257887\n",
      "Itteration: 500, Loss: 2.460544263815323\n",
      "Itteration: 510, Loss: 2.4364346991205585\n",
      "Itteration: 520, Loss: 2.412774709531587\n",
      "Itteration: 530, Loss: 2.3895667465691948\n",
      "Itteration: 540, Loss: 2.3668225600172765\n",
      "Itteration: 550, Loss: 2.344568701548672\n",
      "Itteration: 560, Loss: 2.3228668003775934\n",
      "Itteration: 570, Loss: 2.3017623297640686\n",
      "Itteration: 580, Loss: 2.2812480723610897\n",
      "Itteration: 590, Loss: 2.261343148834119\n",
      "Itteration: 600, Loss: 2.242121638401441\n",
      "Itteration: 610, Loss: 2.223673768370337\n",
      "Itteration: 620, Loss: 2.2059189098152556\n",
      "Itteration: 630, Loss: 2.1887011571669044\n",
      "Itteration: 640, Loss: 2.1719337768160236\n",
      "Itteration: 650, Loss: 2.155597723131964\n",
      "Itteration: 660, Loss: 2.139680739532913\n",
      "Itteration: 670, Loss: 2.1241362260579533\n",
      "Itteration: 680, Loss: 2.108893404857944\n",
      "Itteration: 690, Loss: 2.0939006368895723\n",
      "Itteration: 700, Loss: 2.079131413112234\n",
      "Itteration: 710, Loss: 2.0645728150477383\n",
      "Itteration: 720, Loss: 2.050219878786874\n",
      "Itteration: 730, Loss: 2.0360744344456685\n",
      "Itteration: 740, Loss: 2.02213500244388\n",
      "Itteration: 750, Loss: 2.008388245113053\n",
      "Itteration: 760, Loss: 1.9948197095091638\n",
      "Itteration: 770, Loss: 1.9814197497859307\n",
      "Itteration: 780, Loss: 1.9681824583781735\n",
      "Itteration: 790, Loss: 1.9551040141682992\n",
      "Itteration: 800, Loss: 1.9421816889022565\n",
      "Itteration: 810, Loss: 1.9294133706340209\n",
      "Itteration: 820, Loss: 1.9167973591477274\n",
      "Itteration: 830, Loss: 1.9043322956545938\n",
      "Itteration: 840, Loss: 1.89201715413759\n",
      "Itteration: 850, Loss: 1.8798511582241233\n",
      "Itteration: 860, Loss: 1.867833503551216\n",
      "Itteration: 870, Loss: 1.8559625245740075\n",
      "Itteration: 880, Loss: 1.8442342397420488\n",
      "Itteration: 890, Loss: 1.8326441210176234\n",
      "Itteration: 900, Loss: 1.8211883867742635\n",
      "Itteration: 910, Loss: 1.8098637947146614\n",
      "Itteration: 920, Loss: 1.7986677242735454\n",
      "Itteration: 930, Loss: 1.787598233966489\n",
      "Itteration: 940, Loss: 1.7766538538737522\n",
      "Itteration: 950, Loss: 1.7658333504012176\n",
      "Itteration: 960, Loss: 1.755135609889388\n",
      "Itteration: 970, Loss: 1.7445595958421494\n",
      "Itteration: 980, Loss: 1.7341043315912366\n",
      "Itteration: 990, Loss: 1.7237689021708578\n",
      "Itteration: 1000, Loss: 1.7135525377731002\n",
      "Itteration: 1010, Loss: 1.7034550040565324\n",
      "Itteration: 1020, Loss: 1.6934771412333882\n",
      "Itteration: 1030, Loss: 1.6836193428794564\n",
      "Itteration: 1040, Loss: 1.6738803983978614\n",
      "Itteration: 1050, Loss: 1.6642589242036852\n",
      "Itteration: 1060, Loss: 1.6547537685091047\n",
      "Itteration: 1070, Loss: 1.6453639812942067\n",
      "Itteration: 1080, Loss: 1.6360886135475856\n",
      "Itteration: 1090, Loss: 1.6269264473485596\n",
      "Itteration: 1100, Loss: 1.6178759771233775\n",
      "Itteration: 1110, Loss: 1.6089356166963096\n",
      "Itteration: 1120, Loss: 1.6001038442374378\n",
      "Itteration: 1130, Loss: 1.5913792308844308\n",
      "Itteration: 1140, Loss: 1.58276042015444\n",
      "Itteration: 1150, Loss: 1.5742460934656857\n",
      "Itteration: 1160, Loss: 1.565834936347434\n",
      "Itteration: 1170, Loss: 1.5575256138009541\n",
      "Itteration: 1180, Loss: 1.5493167581680487\n",
      "Itteration: 1190, Loss: 1.541206968887941\n",
      "Itteration: 1200, Loss: 1.533194821561342\n",
      "Itteration: 1210, Loss: 1.5252788830718025\n",
      "Itteration: 1220, Loss: 1.517457729263967\n",
      "Itteration: 1230, Loss: 1.5097299617575013\n",
      "Itteration: 1240, Loss: 1.5020942212642912\n",
      "Itteration: 1250, Loss: 1.4945491961995325\n",
      "Itteration: 1260, Loss: 1.4870936267350476\n",
      "Itteration: 1270, Loss: 1.479726305179979\n",
      "Itteration: 1280, Loss: 1.4724460737365714\n",
      "Itteration: 1290, Loss: 1.4652518205914344\n",
      "Itteration: 1300, Loss: 1.4581424751703478\n",
      "Itteration: 1310, Loss: 1.451117003249765\n",
      "Itteration: 1320, Loss: 1.4441744024765508\n",
      "Itteration: 1330, Loss: 1.437313698709806\n",
      "Itteration: 1340, Loss: 1.430533943483316\n",
      "Itteration: 1350, Loss: 1.4238342128010657\n",
      "Itteration: 1360, Loss: 1.4172136074132644\n",
      "Itteration: 1370, Loss: 1.4106712546726339\n",
      "Itteration: 1380, Loss: 1.4042063120836865\n",
      "Itteration: 1390, Loss: 1.3978179728840887\n",
      "Itteration: 1400, Loss: 1.3915054746936062\n",
      "Itteration: 1410, Loss: 1.3852681133301334\n",
      "Itteration: 1420, Loss: 1.379105263006817\n",
      "Itteration: 1430, Loss: 1.3730163938631161\n",
      "Itteration: 1440, Loss: 1.3670010534949557\n",
      "Itteration: 1450, Loss: 1.3610587772228946\n",
      "Itteration: 1460, Loss: 1.3551889687567398\n",
      "Itteration: 1470, Loss: 1.349390844681322\n",
      "Itteration: 1480, Loss: 1.3436634476186022\n",
      "Itteration: 1490, Loss: 1.3380056756296705\n",
      "Itteration: 1500, Loss: 1.3324163107948794\n",
      "Itteration: 1510, Loss: 1.3268940525917599\n",
      "Itteration: 1520, Loss: 1.3214375568691799\n",
      "Itteration: 1530, Loss: 1.3160454739564997\n",
      "Itteration: 1540, Loss: 1.3107164789657753\n",
      "Itteration: 1550, Loss: 1.3054492909450153\n",
      "Itteration: 1560, Loss: 1.30024268113093\n",
      "Itteration: 1570, Loss: 1.2950954727841362\n",
      "Itteration: 1580, Loss: 1.290006535933056\n",
      "Itteration: 1590, Loss: 1.2849747800604507\n",
      "Itteration: 1600, Loss: 1.2799991468440397\n",
      "Itteration: 1610, Loss: 1.2750786040627058\n",
      "Itteration: 1620, Loss: 1.270212141041437\n",
      "Itteration: 1630, Loss: 1.265398765612159\n",
      "Itteration: 1640, Loss: 1.260637502442823\n",
      "Itteration: 1650, Loss: 1.2559273926184773\n",
      "Itteration: 1660, Loss: 1.2512674944401414\n",
      "Itteration: 1670, Loss: 1.246656885458392\n",
      "Itteration: 1680, Loss: 1.2420946657267002\n",
      "Itteration: 1690, Loss: 1.2375799621351815\n",
      "Itteration: 1700, Loss: 1.233111933506425\n",
      "Itteration: 1710, Loss: 1.2286897759528606\n",
      "Itteration: 1720, Loss: 1.2243127278014818\n",
      "Itteration: 1730, Loss: 1.2199800730898105\n",
      "Itteration: 1740, Loss: 1.2156911421862857\n",
      "Itteration: 1750, Loss: 1.2114453078416143\n",
      "Itteration: 1760, Loss: 1.2072419758879795\n",
      "Itteration: 1770, Loss: 1.2030805728392702\n",
      "Itteration: 1780, Loss: 1.1989605373386847\n",
      "Itteration: 1790, Loss: 1.1948813259640343\n",
      "Itteration: 1800, Loss: 1.1908424389405856\n",
      "Itteration: 1810, Loss: 1.1868434342112981\n",
      "Itteration: 1820, Loss: 1.1828838455468815\n",
      "Itteration: 1830, Loss: 1.1789630787013272\n",
      "Itteration: 1840, Loss: 1.1750804833472954\n",
      "Itteration: 1850, Loss: 1.171235437483352\n",
      "Itteration: 1860, Loss: 1.167427346946653\n",
      "Itteration: 1870, Loss: 1.1636556350681762\n",
      "Itteration: 1880, Loss: 1.1599197399814312\n",
      "Itteration: 1890, Loss: 1.1562191142560345\n",
      "Itteration: 1900, Loss: 1.1525532240991656\n"
     ]
    },
    {
     "name": "stdout",
     "output_type": "stream",
     "text": [
      "Itteration: 1910, Loss: 1.1489215471890704\n",
      "Itteration: 1920, Loss: 1.1453235691949428\n",
      "Itteration: 1930, Loss: 1.141758780054995\n",
      "Itteration: 1940, Loss: 1.1382266718378287\n",
      "Itteration: 1950, Loss: 1.1347267398097503\n",
      "Itteration: 1960, Loss: 1.1312584870082463\n",
      "Itteration: 1970, Loss: 1.1278214309357852\n",
      "Itteration: 1980, Loss: 1.1244151099597373\n",
      "Itteration: 1990, Loss: 1.1210390870869786\n"
     ]
    },
    {
     "name": "stderr",
     "output_type": "stream",
     "text": [
      "/home/blagojce/.conda/envs/ml_epfl/lib/python3.6/site-packages/matplotlib/axes/_base.py:3012: UserWarning: Attempting to set identical left==right results\n",
      "in singular transformations; automatically expanding.\n",
      "left=1e-07, right=1e-07\n",
      "  self.set_xlim(upper, lower, auto=None)\n"
     ]
    },
    {
     "data": {
      "image/png": "[encoded data removed]",
      "text/plain": [
       "<Figure size 432x288 with 1 Axes>"
      ]
     },
     "metadata": {
      "needs_background": "light"
     },
     "output_type": "display_data"
    },
    {
     "name": "stdout",
     "output_type": "stream",
     "text": [
      "[1.091972799679619]\n",
      "[1.19208258682283]\n"
     ]
    }
   ],
   "source": [
    "lambda_, acc_tr, acc_te = cross_validation(x_train_sep[2], y_train_sep[2], lambdas, poly_degree=3, norm=\"std\", method=\"logistic\", n_splits=2)"
   ]
  },
  {
   "cell_type": "code",
   "execution_count": 141,
   "metadata": {
    "scrolled": true
   },
   "outputs": [
    {
     "data": {
      "text/plain": [
       "0.6853905289931697"
      ]
     },
     "execution_count": 141,
     "metadata": {},
     "output_type": "execute_result"
    }
   ],
   "source": [
    "acc_tr"
   ]
  },
  {
   "cell_type": "code",
   "execution_count": 142,
   "metadata": {},
   "outputs": [
    {
     "data": {
      "text/plain": [
       "0.6871767025806637"
      ]
     },
     "execution_count": 142,
     "metadata": {},
     "output_type": "execute_result"
    }
   ],
   "source": [
    "acc_te"
   ]
  },
  {
   "cell_type": "code",
   "execution_count": null,
   "metadata": {},
   "outputs": [],
   "source": []
  },
  {
   "cell_type": "code",
   "execution_count": null,
   "metadata": {},
   "outputs": [],
   "source": []
  },
  {
   "cell_type": "code",
   "execution_count": 135,
   "metadata": {
    "scrolled": true
   },
   "outputs": [],
   "source": [
    "b, c = min_max_normalization(x_train_sep[0], x_train_sep[0])"
   ]
  },
  {
   "cell_type": "code",
   "execution_count": 136,
   "metadata": {
    "scrolled": true
   },
   "outputs": [],
   "source": [
    "a = min_max_scaler.fit_transform(x_train_sep[0])"
   ]
  },
  {
   "cell_type": "code",
   "execution_count": 138,
   "metadata": {
    "scrolled": true
   },
   "outputs": [
    {
     "data": {
      "text/plain": [
       "True"
      ]
     },
     "execution_count": 138,
     "metadata": {},
     "output_type": "execute_result"
    }
   ],
   "source": [
    "np.allclose(a, c)"
   ]
  },
  {
   "cell_type": "code",
   "execution_count": 9,
   "metadata": {},
   "outputs": [],
   "source": [
    "from sklearn import preprocessing"
   ]
  },
  {
   "cell_type": "code",
   "execution_count": 10,
   "metadata": {},
   "outputs": [],
   "source": [
    "scaler = preprocessing.StandardScaler().fit(x_train_sep[0])\n",
    "\n",
    "x_train_scikit = scaler.transform(x_train_sep[0])\n",
    "x_test_scikit = scaler.transform(x_test_sep[0])"
   ]
  },
  {
   "cell_type": "code",
   "execution_count": 11,
   "metadata": {},
   "outputs": [],
   "source": [
    "x_train_me, x_test_me = standardize(x_train_sep[0], x_test_sep[0])"
   ]
  },
  {
   "cell_type": "code",
   "execution_count": 12,
   "metadata": {},
   "outputs": [
    {
     "data": {
      "text/plain": [
       "True"
      ]
     },
     "execution_count": 12,
     "metadata": {},
     "output_type": "execute_result"
    }
   ],
   "source": [
    "np.allclose(x_train_scikit, x_train_me)"
   ]
  },
  {
   "cell_type": "code",
   "execution_count": 21,
   "metadata": {
    "scrolled": true
   },
   "outputs": [
    {
     "data": {
      "text/plain": [
       "True"
      ]
     },
     "execution_count": 21,
     "metadata": {},
     "output_type": "execute_result"
    }
   ],
   "source": [
    "np.allclose(x_test_scikit, x_test_me)"
   ]
  },
  {
   "cell_type": "code",
   "execution_count": null,
   "metadata": {},
   "outputs": [],
   "source": []
  }
 ],
 "metadata": {
  "kernelspec": {
   "display_name": "Python 3",
   "language": "python",
   "name": "python3"
  },
  "language_info": {
   "codemirror_mode": {
    "name": "ipython",
    "version": 3
   },
   "file_extension": ".py",
   "mimetype": "text/x-python",
   "name": "python",
   "nbconvert_exporter": "python",
   "pygments_lexer": "ipython3",
   "version": "3.6.5"
  }
 },
 "nbformat": 4,
 "nbformat_minor": 2
}
