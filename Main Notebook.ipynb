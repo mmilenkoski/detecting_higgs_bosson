{
 "cells": [
  {
   "cell_type": "code",
   "execution_count": 9,
   "metadata": {},
   "outputs": [
    {
     "name": "stdout",
     "output_type": "stream",
     "text": [
      "The autoreload extension is already loaded. To reload it, use:\n",
      "  %reload_ext autoreload\n"
     ]
    }
   ],
   "source": [
    "# Useful starting lines\n",
    "%matplotlib inline\n",
    "import numpy as np\n",
    "import matplotlib.pyplot as plt\n",
    "from utils.helpers import *\n",
    "from utils.preprocessing import *\n",
    "from implementations.least_squares import least_squares\n",
    "import datetime\n",
    "%load_ext autoreload\n",
    "%autoreload 2"
   ]
  },
  {
   "cell_type": "code",
   "execution_count": 28,
   "metadata": {},
   "outputs": [],
   "source": [
    "y_train, tx_train, ids_train = load_csv_data('data/train.csv')\n",
    "y_test, tx_test, ids_test = load_csv_data('data/test.csv')"
   ]
  },
  {
   "cell_type": "code",
   "execution_count": 18,
   "metadata": {},
   "outputs": [
    {
     "name": "stdout",
     "output_type": "stream",
     "text": [
      "[ 1. -1. -1. ...  1. -1. -1.]\n"
     ]
    }
   ],
   "source": []
  },
  {
   "cell_type": "code",
   "execution_count": 24,
   "metadata": {},
   "outputs": [
    {
     "name": "stdout",
     "output_type": "stream",
     "text": [
      "Gradient Descent(0/99): loss=0.5000000000000002, w0=0.00010766649510400011, w1=-2.7284198603999987e-05\n",
      "Gradient Descent(1/99): loss=1.8007092524629227, w0=2.3971414374319977e-05, w1=3.523635396779801e-05\n",
      "Gradient Descent(2/99): loss=31.101752442252863, w0=0.0007710648697456105, w1=-0.00032521856702279255\n",
      "Gradient Descent(3/99): loss=688.0300820896401, w0=-0.002474078721952218, w1=0.001318897475978849\n",
      "Gradient Descent(4/99): loss=15414.27594333, w0=0.013135299159148729, w1=-0.006526189710631012\n",
      "Gradient Descent(5/99): loss=345528.428187897, w0=-0.06056322554527148, w1=0.030558075576377533\n",
      "Gradient Descent(6/99): loss=7745604.319635325, w0=0.2885459492568912, w1=-0.14508019467290945\n",
      "Gradient Descent(7/99): loss=173631018.6211872, w0=-1.3642096415793699, w1=0.6864451133452817\n",
      "Gradient Descent(8/99): loss=3892237567.6028767, w0=6.461100443635003, w1=-3.250575106470919\n",
      "Gradient Descent(9/99): loss=87251191844.92096, w0=-30.588739368440102, w1=15.389702645907896\n",
      "Gradient Descent(10/99): loss=1955885360767.4563, w0=144.82862021855436, w1=-72.86516332818053\n",
      "Gradient Descent(11/99): loss=43844530528367.73, w0=-685.7075369805966, w1=344.98888895595013\n",
      "Gradient Descent(12/99): loss=982850475704283.9, w0=3246.5736471866276, w1=-1633.3953515621165\n",
      "Gradient Descent(13/99): loss=2.2032281927779812e+16, w0=-15371.321407907706, w1=7733.521291899982\n",
      "Gradient Descent(14/99): loss=4.9389145037278765e+17, w0=72777.51669411357, w1=-36615.36008312987\n",
      "Gradient Descent(15/99): loss=1.1071425354437444e+19, w0=-344574.5862670013, w1=173360.16882438178\n",
      "Gradient Descent(16/99): loss=2.481850197778483e+20, w0=1631433.0573466136, w1=-820796.1973793986\n",
      "Gradient Descent(17/99): loss=5.563493594566242e+21, w0=-7724231.332120419, w1=3886166.0164780593\n",
      "Gradient Descent(18/99): loss=1.2471526687825605e+23, w0=36571374.73577044, w1=-18399556.86992321\n",
      "Gradient Descent(19/99): loss=2.7957069650814e+24, w0=-173151915.3738602, w1=87115087.60841012\n",
      "Gradient Descent(20/99): loss=6.267057458357858e+25, w0=819810193.4863312, w1=-412457677.25752085\n",
      "Gradient Descent(21/99): loss=1.4048685959193614e+27, w0=-3881497654.1859665, w1=1952834350.4951632\n",
      "Gradient Descent(22/99): loss=3.149254310997796e+28, w0=18377453902.34031, w1=-9245947428.675585\n",
      "Gradient Descent(23/99): loss=7.059594572863152e+29, w0=-87010438243.69196, w1=43776136891.561035\n",
      "Gradient Descent(24/99): loss=1.5825294057439432e+31, w0=411962201270.73834, w1=-207263795942.13882\n",
      "Gradient Descent(25/99): loss=3.547511537944557e+32, w0=-1950488455195.5962, w1=981317314836.5568\n",
      "Gradient Descent(26/99): loss=7.952356566754374e+33, w0=9234840483219.709, w1=-4646174060552.599\n",
      "Gradient Descent(27/99): loss=1.782657344123619e+35, w0=-43723549618221.75, w1=21997913492994.023\n",
      "Gradient Descent(28/99): loss=3.9961326933493794e+36, w0=207014814678269.03, w1=-104151973589146.16\n",
      "Gradient Descent(29/99): loss=8.958017958693238e+37, w0=-980138480760907.2, w1=493121022862871.9\n",
      "Gradient Descent(30/99): loss=2.0080936221617742e+39, w0=4640592717778782.0, w1=-2334745418733628.0\n",
      "Gradient Descent(31/99): loss=4.501486840014146e+40, w0=-2.1971487901978104e+16, w1=1.105415489822566e+16\n",
      "Gradient Descent(32/99): loss=1.0090856097140718e+42, w0=1.0402685820225053e+17, w1=-5.233732960069154e+16\n",
      "Gradient Descent(33/99): loss=2.2620387527975556e+43, w0=-4.925286478416824e+17, w1=2.477978728316091e+17\n",
      "Gradient Descent(34/99): loss=5.070748477532828e+44, w0=2.3319407423909627e+18, w1=-1.1732311573469855e+18\n",
      "Gradient Descent(35/99): loss=1.1366953855499526e+46, w0=-1.1040875794438838e+19, w1=5.554815030656582e+18\n",
      "Gradient Descent(36/99): loss=2.5480979884042964e+47, w0=5.227445796210029e+19, w1=-2.6299991976502338e+19\n",
      "Gradient Descent(37/99): loss=5.7119993984744606e+48, w0=-2.47500198907027e+20, w1=1.2452072195864451e+20\n",
      "Gradient Descent(38/99): loss=1.2804427960246807e+50, w0=1.1718217815559094e+21, w1=-5.895595029441586e+20\n",
      "Gradient Descent(39/99): loss=2.87033250446312e+51, w0=-5.54814215824003e+21, w1=2.7913459064845474e+21\n",
      "Gradient Descent(40/99): loss=6.434343425380719e+52, w0=2.626839839686969e+22, w1=-1.3215989108373388e+22\n",
      "Gradient Descent(41/99): loss=1.4423686193625833e+54, w0=-1.2437113805958354e+23, w1=6.257281396293018e+22\n"
     ]
    },
    {
     "ename": "KeyboardInterrupt",
     "evalue": "",
     "output_type": "error",
     "traceback": [
      "\u001b[1;31m---------------------------------------------------------------------------\u001b[0m",
      "\u001b[1;31mKeyboardInterrupt\u001b[0m                         Traceback (most recent call last)",
      "\u001b[1;32m<ipython-input-24-e6a1427858c2>\u001b[0m in \u001b[0;36m<module>\u001b[1;34m()\u001b[0m\n\u001b[0;32m      7\u001b[0m \u001b[1;31m# Start gradient descent.\u001b[0m\u001b[1;33m\u001b[0m\u001b[1;33m\u001b[0m\u001b[0m\n\u001b[0;32m      8\u001b[0m \u001b[0mstart_time\u001b[0m \u001b[1;33m=\u001b[0m \u001b[0mdatetime\u001b[0m\u001b[1;33m.\u001b[0m\u001b[0mdatetime\u001b[0m\u001b[1;33m.\u001b[0m\u001b[0mnow\u001b[0m\u001b[1;33m(\u001b[0m\u001b[1;33m)\u001b[0m\u001b[1;33m\u001b[0m\u001b[0m\n\u001b[1;32m----> 9\u001b[1;33m \u001b[0mgradient_losses\u001b[0m\u001b[1;33m,\u001b[0m \u001b[0mgradient_ws\u001b[0m \u001b[1;33m=\u001b[0m \u001b[0mgradient_descent\u001b[0m\u001b[1;33m(\u001b[0m\u001b[0my_train\u001b[0m\u001b[1;33m,\u001b[0m \u001b[0mtx_train\u001b[0m\u001b[1;33m,\u001b[0m \u001b[0mw_initial\u001b[0m\u001b[1;33m,\u001b[0m \u001b[0mmax_iters\u001b[0m\u001b[1;33m,\u001b[0m \u001b[0mgamma\u001b[0m\u001b[1;33m)\u001b[0m\u001b[1;33m\u001b[0m\u001b[0m\n\u001b[0m\u001b[0;32m     10\u001b[0m \u001b[0mend_time\u001b[0m \u001b[1;33m=\u001b[0m \u001b[0mdatetime\u001b[0m\u001b[1;33m.\u001b[0m\u001b[0mdatetime\u001b[0m\u001b[1;33m.\u001b[0m\u001b[0mnow\u001b[0m\u001b[1;33m(\u001b[0m\u001b[1;33m)\u001b[0m\u001b[1;33m\u001b[0m\u001b[0m\n\u001b[0;32m     11\u001b[0m \u001b[1;33m\u001b[0m\u001b[0m\n",
      "\u001b[1;32m~\\ML EPFL\\ml_project1\\implementations.py\u001b[0m in \u001b[0;36mgradient_descent\u001b[1;34m(y, tx, initial_w, max_iters, gamma)\u001b[0m\n\u001b[0;32m     21\u001b[0m     \u001b[1;32mfor\u001b[0m \u001b[0mn_iter\u001b[0m \u001b[1;32min\u001b[0m \u001b[0mrange\u001b[0m\u001b[1;33m(\u001b[0m\u001b[0mmax_iters\u001b[0m\u001b[1;33m)\u001b[0m\u001b[1;33m:\u001b[0m\u001b[1;33m\u001b[0m\u001b[0m\n\u001b[0;32m     22\u001b[0m         \u001b[0mgradient\u001b[0m \u001b[1;33m=\u001b[0m \u001b[0mcompute_gradient\u001b[0m\u001b[1;33m(\u001b[0m\u001b[0my\u001b[0m\u001b[1;33m,\u001b[0m \u001b[0mtx\u001b[0m\u001b[1;33m,\u001b[0m \u001b[0mw\u001b[0m\u001b[1;33m)\u001b[0m\u001b[1;33m\u001b[0m\u001b[0m\n\u001b[1;32m---> 23\u001b[1;33m         \u001b[0mloss\u001b[0m \u001b[1;33m=\u001b[0m \u001b[0mcompute_loss\u001b[0m\u001b[1;33m(\u001b[0m\u001b[0my\u001b[0m\u001b[1;33m,\u001b[0m \u001b[0mtx\u001b[0m\u001b[1;33m,\u001b[0m \u001b[0mw\u001b[0m\u001b[1;33m)\u001b[0m\u001b[1;33m\u001b[0m\u001b[0m\n\u001b[0m\u001b[0;32m     24\u001b[0m         \u001b[0mw\u001b[0m \u001b[1;33m=\u001b[0m \u001b[0mw\u001b[0m \u001b[1;33m-\u001b[0m \u001b[0mgamma\u001b[0m \u001b[1;33m*\u001b[0m \u001b[0mgradient\u001b[0m\u001b[1;33m\u001b[0m\u001b[0m\n\u001b[0;32m     25\u001b[0m         \u001b[0mws\u001b[0m\u001b[1;33m.\u001b[0m\u001b[0mappend\u001b[0m\u001b[1;33m(\u001b[0m\u001b[0mw\u001b[0m\u001b[1;33m)\u001b[0m\u001b[1;33m\u001b[0m\u001b[0m\n",
      "\u001b[1;32m~\\ML EPFL\\ml_project1\\implementations.py\u001b[0m in \u001b[0;36mcompute_loss\u001b[1;34m(y, tx, w)\u001b[0m\n\u001b[0;32m      5\u001b[0m \u001b[1;32mdef\u001b[0m \u001b[0mcompute_loss\u001b[0m\u001b[1;33m(\u001b[0m\u001b[0my\u001b[0m\u001b[1;33m,\u001b[0m \u001b[0mtx\u001b[0m\u001b[1;33m,\u001b[0m \u001b[0mw\u001b[0m\u001b[1;33m)\u001b[0m\u001b[1;33m:\u001b[0m\u001b[1;33m\u001b[0m\u001b[0m\n\u001b[0;32m      6\u001b[0m     \u001b[0mn\u001b[0m \u001b[1;33m=\u001b[0m \u001b[0mlen\u001b[0m\u001b[1;33m(\u001b[0m\u001b[0my\u001b[0m\u001b[1;33m)\u001b[0m\u001b[1;33m\u001b[0m\u001b[0m\n\u001b[1;32m----> 7\u001b[1;33m     \u001b[0me\u001b[0m \u001b[1;33m=\u001b[0m \u001b[0my\u001b[0m \u001b[1;33m-\u001b[0m \u001b[0mnp\u001b[0m\u001b[1;33m.\u001b[0m\u001b[0mdot\u001b[0m\u001b[1;33m(\u001b[0m\u001b[0mtx\u001b[0m\u001b[1;33m,\u001b[0m \u001b[0mw\u001b[0m\u001b[1;33m)\u001b[0m\u001b[1;33m\u001b[0m\u001b[0m\n\u001b[0m\u001b[0;32m      8\u001b[0m     \u001b[0mloss\u001b[0m \u001b[1;33m=\u001b[0m \u001b[0mnp\u001b[0m\u001b[1;33m.\u001b[0m\u001b[0msum\u001b[0m\u001b[1;33m(\u001b[0m\u001b[1;36m1\u001b[0m\u001b[1;33m/\u001b[0m\u001b[1;33m(\u001b[0m\u001b[1;36m2\u001b[0m\u001b[1;33m*\u001b[0m\u001b[0mn\u001b[0m\u001b[1;33m)\u001b[0m \u001b[1;33m*\u001b[0m \u001b[0mnp\u001b[0m\u001b[1;33m.\u001b[0m\u001b[0mpower\u001b[0m\u001b[1;33m(\u001b[0m\u001b[0me\u001b[0m\u001b[1;33m,\u001b[0m \u001b[1;36m2\u001b[0m\u001b[1;33m)\u001b[0m\u001b[1;33m)\u001b[0m\u001b[1;33m\u001b[0m\u001b[0m\n\u001b[0;32m      9\u001b[0m     \u001b[1;32mreturn\u001b[0m \u001b[0mloss\u001b[0m\u001b[1;33m\u001b[0m\u001b[0m\n",
      "\u001b[1;31mKeyboardInterrupt\u001b[0m: "
     ]
    }
   ],
   "source": [
    "max_iters = 100\n",
    "gamma = 0.000001\n",
    "\n",
    "# Initialization\n",
    "w_initial = np.array([0] * 30)\n",
    "\n",
    "# Start gradient descent.\n",
    "start_time = datetime.datetime.now()\n",
    "gradient_losses, gradient_ws = gradient_descent(y_train, tx_train, w_initial, max_iters, gamma)\n",
    "end_time = datetime.datetime.now()\n",
    "\n",
    "# Print result\n",
    "exection_time = (end_time - start_time).total_seconds()\n",
    "print(\"Gradient Descent: execution time={t:.3f} seconds\".format(t=exection_time))"
   ]
  },
  {
   "cell_type": "code",
   "execution_count": 48,
   "metadata": {},
   "outputs": [],
   "source": [
    "x_train_sep, y_train_sep, ids_train_sep, indx_train_sep = split_data_by_DER_mass_MMC(tx_train, y_train, ids_train)\n",
    "x_test_sep, y_test_sep, ids_test_sep, indx_test_sep = split_data_by_DER_mass_MMC(tx_test, y_test, ids_test)"
   ]
  },
  {
   "cell_type": "code",
   "execution_count": 49,
   "metadata": {},
   "outputs": [
    {
     "data": {
      "text/plain": [
       "{0: array([ 7.05315584e-03, -1.00107038e-02, -1.71017660e-02, -5.86254978e+01,\n",
       "         2.85433819e-01,  5.86239256e+01, -6.82673011e+00, -6.72683550e-01,\n",
       "         5.08793036e-04,  6.82716233e+00,  6.49148147e-04, -2.40854338e-06,\n",
       "         6.84583685e+00,  3.25882195e-03,  3.23392847e-04,  1.00892516e-03,\n",
       "        -3.91653046e-03,  2.80340854e-04]),\n",
       " 1: array([-6.12944951e-03, -1.36786304e-03,  8.66049259e+01,  1.28246531e-02,\n",
       "        -8.66118009e+01,  9.69218893e+00, -4.08122931e-01,  6.00473396e-01,\n",
       "        -9.69778349e+00, -4.10739787e-04, -2.18040318e-03, -9.67107778e+00,\n",
       "         4.67166021e-03,  3.30285783e-04,  1.11635273e-02,  1.41706985e-03,\n",
       "        -8.93675060e-04]),\n",
       " 2: array([ 3.19847240e-03, -7.94525750e-03, -7.09955614e-03, -1.39409788e-03,\n",
       "         7.28466247e-02,  1.94402395e-03, -6.60896970e+00, -3.18039240e-01,\n",
       "         9.01289299e-02,  6.61169745e+00,  1.35130651e-03, -3.68202975e-03,\n",
       "         6.62095725e+00, -5.99707962e-03, -5.65678721e-04,  5.98797795e-04,\n",
       "         2.31362621e-03, -7.98982573e-04, -4.38056441e+01,  2.10081967e-04,\n",
       "        -4.96810847e-04,  5.04161011e+01]),\n",
       " 3: array([-4.18554074e-03,  7.86988032e-04, -4.95445927e-03, -1.63091822e-01,\n",
       "         2.51206436e-03,  2.93666607e+01, -3.37094069e-01,  9.78489621e-02,\n",
       "        -2.93706170e+01,  3.65593516e-03,  3.88476377e-03, -2.93518222e+01,\n",
       "         2.48429338e-03,  1.34914336e-03,  5.31945308e-03,  2.35061711e-03,\n",
       "        -1.76630078e-03, -2.78039542e+02, -2.50489389e-03, -2.25742867e-03,\n",
       "         2.48674999e+02]),\n",
       " 4: array([ 9.02078377e-04, -5.54140343e-03, -3.29998290e-03,  1.89717356e-03,\n",
       "        -4.77941529e-02,  5.61252759e-04, -1.06864019e-02,  1.13874669e-01,\n",
       "        -3.89990975e-03,  8.55637550e-01, -2.08027640e-01,  9.62443799e-02,\n",
       "         4.42898616e-01, -8.52681724e-01, -2.11346575e-03, -1.25986378e-04,\n",
       "        -8.47687360e-01, -6.71692512e-03,  1.40568755e-03,  9.47137540e-04,\n",
       "         3.65946240e-03, -1.56439004e-03, -2.96295447e+00,  4.73182224e-03,\n",
       "         5.68354360e-03, -2.96047932e+00,  2.43713491e-03, -2.97151809e-03,\n",
       "         2.10541879e+00]),\n",
       " 5: array([-2.29836142e-03, -2.66411689e-04, -5.26769377e-04, -1.01114108e-01,\n",
       "         7.09080573e-04, -2.65608927e-02, -9.29308551e-02,  4.55278449e-03,\n",
       "        -1.83779106e+01, -1.69721477e-01,  4.95050358e-02,  7.74789056e-02,\n",
       "         1.83789444e+01,  1.64211147e-03, -3.04180309e-03,  1.83856434e+01,\n",
       "        -6.07100562e-03, -4.82506400e-03,  1.23699947e-03, -1.76704064e-03,\n",
       "        -2.07669964e-03,  2.67382763e+01, -1.16092239e-02, -5.14940794e-04,\n",
       "         2.67373596e+01,  3.80619796e-03,  1.99990443e-02, -8.36031230e+00]),\n",
       " 6: array([-7.14903770e-05, -4.02736609e-03, -1.06001242e-03,  2.10864111e-03,\n",
       "        -1.60784755e-01,  8.96491664e-04, -7.47603546e-03,  8.24967615e-02,\n",
       "        -9.89247470e-04, -4.88792944e+00, -1.49459084e-01,  6.80521408e-02,\n",
       "         2.53476888e-01,  4.88922793e+00, -6.22057373e-03, -2.48834744e-04,\n",
       "         4.89250401e+00, -4.74493073e-03,  2.16779307e-03,  8.47035467e-04,\n",
       "         2.68167981e-03, -7.13131736e-04, -1.96428131e-03, -1.68152832e-03,\n",
       "         4.68313085e-05, -1.27016193e-03,  3.91354526e-03,  8.92652966e-04,\n",
       "         4.88756732e+00]),\n",
       " 7: array([-1.38200237e-03, -1.53507340e-04,  5.13382405e-05, -1.78790130e-01,\n",
       "         9.61409967e-04, -3.86187936e-02, -9.18758337e-02,  1.08577141e-03,\n",
       "        -1.00718884e+01, -9.73011257e-02,  1.72560536e-02,  2.41343595e-02,\n",
       "         1.00715704e+01, -2.21115289e-02,  7.40080817e-03,  1.00772701e+01,\n",
       "         1.46946490e-03, -1.41895234e-02, -1.95140131e-04,  6.49721074e-03,\n",
       "        -1.09456422e-03,  1.21578173e-05, -7.54881017e-04,  6.19400106e-04,\n",
       "        -1.82346977e-03,  6.66640662e-04,  1.34180254e-03,  1.00716680e+01])}"
      ]
     },
     "execution_count": 49,
     "metadata": {},
     "output_type": "execute_result"
    }
   ],
   "source": [
    "w = {}\n",
    "for i in range(8):\n",
    "    w[i] = least_squares(tx=x_train_sep[i], y=y_train_sep[i])\n",
    "w"
   ]
  },
  {
   "cell_type": "code",
   "execution_count": 50,
   "metadata": {},
   "outputs": [
    {
     "data": {
      "text/plain": [
       "250000"
      ]
     },
     "execution_count": 50,
     "metadata": {},
     "output_type": "execute_result"
    }
   ],
   "source": [
    "len(tx_train)"
   ]
  },
  {
   "cell_type": "code",
   "execution_count": 51,
   "metadata": {},
   "outputs": [],
   "source": [
    "for i in range(8):\n",
    "    predictions = predict_labels(w[i], x_test_sep[i])\n",
    "    y_test[indx_test_sep[i]] = predictions"
   ]
  },
  {
   "cell_type": "code",
   "execution_count": 45,
   "metadata": {},
   "outputs": [
    {
     "data": {
      "text/plain": [
       "568238"
      ]
     },
     "execution_count": 45,
     "metadata": {},
     "output_type": "execute_result"
    }
   ],
   "source": [
    "len(indx_test_sep[0])"
   ]
  },
  {
   "cell_type": "code",
   "execution_count": 46,
   "metadata": {},
   "outputs": [],
   "source": [
    "import pandas as pd\n",
    "\n",
    "df = pd.read_csv(\"output2.csv\")\n",
    "df['New Prediction'] = y_test"
   ]
  },
  {
   "cell_type": "code",
   "execution_count": 47,
   "metadata": {},
   "outputs": [
    {
     "data": {
      "text/html": [
       "<div>\n",
       "<style scoped>\n",
       "    .dataframe tbody tr th:only-of-type {\n",
       "        vertical-align: middle;\n",
       "    }\n",
       "\n",
       "    .dataframe tbody tr th {\n",
       "        vertical-align: top;\n",
       "    }\n",
       "\n",
       "    .dataframe thead th {\n",
       "        text-align: right;\n",
       "    }\n",
       "</style>\n",
       "<table border=\"1\" class=\"dataframe\">\n",
       "  <thead>\n",
       "    <tr style=\"text-align: right;\">\n",
       "      <th></th>\n",
       "      <th>Id</th>\n",
       "      <th>Prediction</th>\n",
       "      <th>New Prediction</th>\n",
       "    </tr>\n",
       "  </thead>\n",
       "  <tbody>\n",
       "  </tbody>\n",
       "</table>\n",
       "</div>"
      ],
      "text/plain": [
       "Empty DataFrame\n",
       "Columns: [Id, Prediction, New Prediction]\n",
       "Index: []"
      ]
     },
     "execution_count": 47,
     "metadata": {},
     "output_type": "execute_result"
    }
   ],
   "source": [
    "df[df['New Prediction']!=df['Prediction']]"
   ]
  },
  {
   "cell_type": "code",
   "execution_count": 54,
   "metadata": {},
   "outputs": [
    {
     "data": {
      "text/plain": [
       "{0: array([350002, 350003, 350005, ..., 918232, 918235, 918237]),\n",
       " 1: array([350000, 350014, 350015, ..., 918193, 918218, 918220]),\n",
       " 2: array([350001, 350006, 350010, ..., 918227, 918231, 918236]),\n",
       " 3: array([350034, 350037, 350049, ..., 918180, 918214, 918224]),\n",
       " 4: array([350007, 350009, 350013, ..., 918229, 918233, 918234]),\n",
       " 5: array([350201, 350236, 350249, ..., 917881, 917882, 917977]),\n",
       " 6: array([350004, 350022, 350025, ..., 918196, 918203, 918230]),\n",
       " 7: array([350035, 350173, 350265, ..., 918075, 918189, 918223])}"
      ]
     },
     "execution_count": 54,
     "metadata": {},
     "output_type": "execute_result"
    }
   ],
   "source": [
    "ids_test_sep"
   ]
  },
  {
   "cell_type": "code",
   "execution_count": 55,
   "metadata": {},
   "outputs": [],
   "source": [
    "create_csv_submission(ids_test, y_test, \"output3.csv\")"
   ]
  },
  {
   "cell_type": "code",
   "execution_count": 73,
   "metadata": {},
   "outputs": [
    {
     "name": "stdout",
     "output_type": "stream",
     "text": [
      "0.0020906228736910044\n"
     ]
    }
   ],
   "source": [
    "number_of_models = 8\n",
    "\n",
    "accuracy = []\n",
    "for train_ind, test_ind in k_fold_split(y=y_train, x=tx_train, n_splits=10):\n",
    "    x_tr = tx_train[train_ind]\n",
    "    y_tr = y_train[train_ind]\n",
    "    x_te = tx_train[test_ind]\n",
    "    y_te = y_train[test_ind]\n",
    "    \n",
    "    new_y_te = np.ones(len(y_te))\n",
    "    \n",
    "    ids_tr = ids_train[train_ind]\n",
    "    ids_te = ids_test[test_ind]\n",
    "    \n",
    "    x_train_sep, y_train_sep, ids_train_sep, indx_train_sep = split_data_by_DER_mass_MMC(x_tr, y_tr, ids_tr)\n",
    "    x_test_sep, y_test_sep, ids_test_sep, indx_test_sep = split_data_by_DER_mass_MMC(x_te, y_te, ids_te)\n",
    "    \n",
    "    w = {}\n",
    "    correct = 0\n",
    "    for i in range(8):\n",
    "        x_tr_std, x_te_std = standardize(x_train_sep[i], x_test_sep[i])\n",
    "        w[i] = least_squares(tx=x_tr_std, y=y_train_sep[i])\n",
    "        predictions = predict_labels(w[i], x_te_std)\n",
    "        new_y_te[indx_test_sep[i]] = predictions\n",
    "        #correct+= np.sum(predictions==y_test_sep[i])\n",
    "    #accuracy.append(correct*1.0/len(y_te))\n",
    "    accuracy.append(np.sum(new_y_te == y_te)*1.0/len(y_te))\n",
    "print (np.std(accuracy))"
   ]
  },
  {
   "cell_type": "code",
   "execution_count": 74,
   "metadata": {},
   "outputs": [
    {
     "data": {
      "text/plain": [
       "0.6965640000000001"
      ]
     },
     "execution_count": 74,
     "metadata": {},
     "output_type": "execute_result"
    }
   ],
   "source": [
    "np.mean(accuracy)"
   ]
  },
  {
   "cell_type": "code",
   "execution_count": null,
   "metadata": {},
   "outputs": [],
   "source": []
  }
 ],
 "metadata": {
  "kernelspec": {
   "display_name": "Python 3",
   "language": "python",
   "name": "python3"
  },
  "language_info": {
   "codemirror_mode": {
    "name": "ipython",
    "version": 3
   },
   "file_extension": ".py",
   "mimetype": "text/x-python",
   "name": "python",
   "nbconvert_exporter": "python",
   "pygments_lexer": "ipython3",
   "version": "3.6.5"
  }
 },
 "nbformat": 4,
 "nbformat_minor": 2
}
